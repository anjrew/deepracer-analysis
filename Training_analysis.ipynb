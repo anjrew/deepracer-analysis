{
 "cells": [
  {
   "cell_type": "markdown",
   "metadata": {},
   "source": [
    "# Training analysis for DeepRacer\n",
    "\n",
    "This notebook has been built based on the `DeepRacer Log Analysis.ipynb` provided by the AWS DeepRacer Team. It has been reorganised and expanded to provide new views on the training data without the helper code which was moved into utility `.py` files.\n",
    "\n",
    "## Usage\n",
    "\n",
    "I have expanded this notebook from to present how I'm using this information. It contains descriptions that you may find not that needed after initial reading. Since this file can change in the future, I recommend that you make its copy and reorganize it to your liking. This way you will not lose your changes and you'll be able to add things as you please.\n",
    "\n",
    "**This notebook isn't complete.** What I find interesting in the logs may not be what you will find interesting and useful. I recommend you get familiar with the tools and try hacking around to get the insights that suit your needs.\n",
    "\n",
    "## Contributions\n",
    "\n",
    "As usual, your ideas are very welcome and encouraged so if you have any suggestions either bring them to [the AWS DeepRacer Community](http://join.deepracing.io) or share as code contributions.\n",
    "\n",
    "## Training environments\n",
    "\n",
    "Depending on whether you're running your training through the console or using the local setup, and on which setup for local training you're using, your experience will vary. As much as I would like everything to be taylored to your configuration, there may be some problems that you may face. If so, please get in touch through [the AWS DeepRacer Community](http://join.deepracing.io).\n",
    "\n",
    "## Requirements\n",
    "\n",
    "Before you start using the notebook, you will need to install some dependencies. If you haven't yet done so, have a look at [The README.md file](/edit/README.md#running-the-notebooks) to find what you need to install.\n",
    "\n",
    "Apart from the install, you also have to configure your programmatic access to AWS. Have a look at the guides below, AWS resources will lead you by the hand:\n",
    "\n",
    "AWS CLI: https://docs.aws.amazon.com/cli/latest/userguide/cli-chap-configure.html\n",
    "\n",
    "Boto Configuration: https://boto3.amazonaws.com/v1/documentation/api/latest/guide/configuration.html\n",
    "\n",
    "## Credits\n",
    "\n",
    "I would like to thank [the AWS DeepRacer Community](http://join.deepracing.io) for all the feedback about the notebooks. If you'd like, follow [my blog](https://codelikeamother.uk) where I tend to write about my experiences with AWS DeepRacer.\n",
    "\n",
    "# Log Analysis\n",
    "\n",
    "Let's get to it.\n",
    "\n",
    "## Permissions\n",
    "\n",
    "Depending on where you are downloading the data from, you will need some permissions:\n",
    "* Access to CloudWatch log streams\n",
    "* Access to S3 bucket to reach the log files\n",
    "\n",
    "## Installs and setups\n",
    "\n",
    "If you are using an AWS SageMaker Notebook to run the log analysis, you will need to ensure you install required dependencies. To do that uncomment and run the following:"
   ]
  },
  {
   "cell_type": "code",
   "execution_count": 1,
   "metadata": {},
   "outputs": [
    {
     "name": "stdout",
     "output_type": "stream",
     "text": [
      "/workspace\n"
     ]
    }
   ],
   "source": [
    "!pwd"
   ]
  },
  {
   "cell_type": "code",
   "execution_count": 2,
   "metadata": {},
   "outputs": [],
   "source": [
    "# Make sure you have deepracer-utils >= 0.9\n",
    "\n",
    "# import sys\n",
    "\n",
    "# !{sys.executable} -m pip install --upgrade deepracer-utils"
   ]
  },
  {
   "cell_type": "markdown",
   "metadata": {},
   "source": [
    "## Imports\n",
    "\n",
    "Run the imports block below:"
   ]
  },
  {
   "cell_type": "code",
   "execution_count": 14,
   "metadata": {
    "lines_to_next_cell": 2
   },
   "outputs": [],
   "source": [
    "import pandas as pd\n",
    "import matplotlib.pyplot as plt\n",
    "from pprint import pprint\n",
    "\n",
    "from deepracer.tracks import TrackIO, Track\n",
    "from deepracer.tracks.track_utils import track_breakdown, track_meta\n",
    "from deepracer.logs import \\\n",
    "    SimulationLogsIO as slio, \\\n",
    "    NewRewardUtils as nr, \\\n",
    "    AnalysisUtils as au, \\\n",
    "    PlottingUtils as pu, \\\n",
    "    ActionBreakdownUtils as abu, \\\n",
    "    DeepRacerLog\n",
    "\n",
    "# Ignore deprecation warnings we have no power over\n",
    "import warnings\n",
    "warnings.filterwarnings('ignore')"
   ]
  },
  {
   "cell_type": "markdown",
   "metadata": {},
   "source": [
    "## Get the logs\n",
    "\n",
    "Depending on which way you are training your model, you will need a slightly different way to load the data. \n",
    "\n",
    "**AWS DeepRacer Console**\n",
    "\n",
    "The logs can be downloaded from the training page. Once you download them, extract the archive into logs/[training-name] (just like logs/sample-logs)\n",
    "\n",
    "**DeepRacer for Cloud**\n",
    "    \n",
    "If you're using local training, just point at your model's root folder in the minio bucket. If you're using any of the cloudy deployments, download the model folder to local and point at it.\n",
    "\n",
    "**Deepracer for dummies/Chris Rhodes' Deepracer/ARCC Deepracer or any training solution other than the ones above, read below**\n",
    "\n",
    "This notebook has been updated to support the most recent setups. Most of the mentioned projects above are no longer compatible with AWS DeepRacer Console anyway so do consider moving to the ones actively maintained.\n",
    "    "
   ]
  },
  {
   "cell_type": "code",
   "execution_count": 15,
   "metadata": {
    "lines_to_next_cell": 2
   },
   "outputs": [],
   "source": [
    "import pandas as pd\n",
    "from deepracer.logs import \\\n",
    "    SimulationLogsIO as slio, \\\n",
    "    NewRewardUtils as nr, \\\n",
    "    AnalysisUtils as au, \\\n",
    "    PlottingUtils as pu, \\\n",
    "    ActionBreakdownUtils as abu, \\\n",
    "    DeepRacerLog"
   ]
  },
  {
   "cell_type": "code",
   "execution_count": 16,
   "metadata": {},
   "outputs": [],
   "source": [
    "from deepracer.logs import (AnalysisUtils, DeepRacerLog, S3FileHandler)\n",
    "\n",
    "BUCKET=\"bucket\"\n",
    "PREFIX=\"rl-deepracer-101\"\n",
    "# WARNING the IP Address for the 's3_endpoint_url' is the IP adress of the MinIO container. THIS CAN BE THE IP WITHIN A DOCKER NETWORK\n",
    "fh = S3FileHandler(bucket=BUCKET, prefix=PREFIX,\n",
    "                   profile=\"minio\", s3_endpoint_url=\"http://minio:9000\")\n",
    "\n",
    "log = DeepRacerLog(filehandler=fh)\n"
   ]
  },
  {
   "cell_type": "code",
   "execution_count": 17,
   "metadata": {
    "lines_to_next_cell": 2
   },
   "outputs": [],
   "source": [
    "# load logs into a dataframe\n",
    "log.load()"
   ]
  },
  {
   "cell_type": "code",
   "execution_count": 18,
   "metadata": {},
   "outputs": [
    {
     "name": "stdout",
     "output_type": "stream",
     "text": [
      "AGENT AND NETWORK\n",
      "{'network': 'DEEP_CONVOLUTIONAL_NETWORK',\n",
      " 'sensor_list': ['FRONT_FACING_CAMERA'],\n",
      " 'simapp_version': '4'}\n",
      "-------------\n",
      "HYPERPARAMETERS\n",
      "{'batch_size': 64,\n",
      " 'beta_entropy': 0.02,\n",
      " 'discount_factor': 0.985,\n",
      " 'e_greedy_value': 0.05,\n",
      " 'epsilon_steps': 10000,\n",
      " 'exploration_type': 'categorical',\n",
      " 'loss_type': 'huber',\n",
      " 'lr': 5e-05,\n",
      " 'num_episodes_between_training': 30,\n",
      " 'num_epochs': 10,\n",
      " 'stack_size': 1,\n",
      " 'term_cond_avg_score': 100000.0,\n",
      " 'term_cond_max_episodes': 100000}\n",
      "-------------\n",
      "ACTION SPACE\n",
      "{'speed': {'high': 4, 'low': 0.8}, 'steering_angle': {'high': 30, 'low': -30}}\n",
      "new reward not found, using reward as its values\n"
     ]
    }
   ],
   "source": [
    "hyperparameters = None\n",
    "try:\n",
    "    print(\"AGENT AND NETWORK\")\n",
    "    pprint(log.agent_and_network())\n",
    "except Exception:\n",
    "        print(\"Robomaker logs not available\")\n",
    "try:\n",
    "    print(\"-------------\")\n",
    "    print(\"HYPERPARAMETERS\")\n",
    "    hyperparameters = log.hyperparameters()\n",
    "    pprint(log.hyperparameters())\n",
    "except Exception:\n",
    "        print(\"Hyperparameters not available\")\n",
    "    \n",
    "try:\n",
    "    print(\"-------------\")\n",
    "    print(\"ACTION SPACE\")\n",
    "    pprint(log.action_space())\n",
    "except Exception:\n",
    "        print(\"Action space not available\")\n",
    "df = log.dataframe()\n",
    "\n",
    "simulation_agg = AnalysisUtils.simulation_agg(df, secondgroup='unique_episode')"
   ]
  },
  {
   "cell_type": "markdown",
   "metadata": {},
   "source": [
    "If the code above worked, you will see a list of details printed above: a bit about the agent and the network, a bit about the hyperparameters and some information about the action space. Now let's see what got loaded into the dataframe - the data structure holding your simulation information. the `head()` method prints out a few first lines of the data:"
   ]
  },
  {
   "cell_type": "code",
   "execution_count": 19,
   "metadata": {},
   "outputs": [
    {
     "data": {
      "text/html": [
       "<div>\n",
       "<style scoped>\n",
       "    .dataframe tbody tr th:only-of-type {\n",
       "        vertical-align: middle;\n",
       "    }\n",
       "\n",
       "    .dataframe tbody tr th {\n",
       "        vertical-align: top;\n",
       "    }\n",
       "\n",
       "    .dataframe thead th {\n",
       "        text-align: right;\n",
       "    }\n",
       "</style>\n",
       "<table border=\"1\" class=\"dataframe\">\n",
       "  <thead>\n",
       "    <tr style=\"text-align: right;\">\n",
       "      <th></th>\n",
       "      <th>episode</th>\n",
       "      <th>steps</th>\n",
       "      <th>x</th>\n",
       "      <th>y</th>\n",
       "      <th>heading</th>\n",
       "      <th>steering_angle</th>\n",
       "      <th>speed</th>\n",
       "      <th>action</th>\n",
       "      <th>reward</th>\n",
       "      <th>done</th>\n",
       "      <th>...</th>\n",
       "      <th>progress</th>\n",
       "      <th>closest_waypoint</th>\n",
       "      <th>track_len</th>\n",
       "      <th>tstamp</th>\n",
       "      <th>episode_status</th>\n",
       "      <th>pause_duration</th>\n",
       "      <th>iteration</th>\n",
       "      <th>worker</th>\n",
       "      <th>unique_episode</th>\n",
       "      <th>new_reward</th>\n",
       "    </tr>\n",
       "  </thead>\n",
       "  <tbody>\n",
       "    <tr>\n",
       "      <th>0</th>\n",
       "      <td>0</td>\n",
       "      <td>1.0</td>\n",
       "      <td>0.615897</td>\n",
       "      <td>0.462156</td>\n",
       "      <td>131.576337</td>\n",
       "      <td>-5.316137</td>\n",
       "      <td>0.800000</td>\n",
       "      <td>-1</td>\n",
       "      <td>0.000000</td>\n",
       "      <td>False</td>\n",
       "      <td>...</td>\n",
       "      <td>0.421164</td>\n",
       "      <td>0</td>\n",
       "      <td>33.275265</td>\n",
       "      <td>25.484</td>\n",
       "      <td>prepare</td>\n",
       "      <td>0.0</td>\n",
       "      <td>0</td>\n",
       "      <td>0</td>\n",
       "      <td>0</td>\n",
       "      <td>0.000000</td>\n",
       "    </tr>\n",
       "    <tr>\n",
       "      <th>1</th>\n",
       "      <td>0</td>\n",
       "      <td>2.0</td>\n",
       "      <td>0.615992</td>\n",
       "      <td>0.462047</td>\n",
       "      <td>131.577320</td>\n",
       "      <td>-1.603432</td>\n",
       "      <td>0.800000</td>\n",
       "      <td>-1</td>\n",
       "      <td>0.421733</td>\n",
       "      <td>False</td>\n",
       "      <td>...</td>\n",
       "      <td>0.420733</td>\n",
       "      <td>0</td>\n",
       "      <td>33.275265</td>\n",
       "      <td>25.545</td>\n",
       "      <td>in_progress</td>\n",
       "      <td>0.0</td>\n",
       "      <td>0</td>\n",
       "      <td>0</td>\n",
       "      <td>0</td>\n",
       "      <td>0.421733</td>\n",
       "    </tr>\n",
       "    <tr>\n",
       "      <th>2</th>\n",
       "      <td>0</td>\n",
       "      <td>3.0</td>\n",
       "      <td>0.609900</td>\n",
       "      <td>0.468800</td>\n",
       "      <td>131.557162</td>\n",
       "      <td>-5.381538</td>\n",
       "      <td>0.833191</td>\n",
       "      <td>-1</td>\n",
       "      <td>0.028327</td>\n",
       "      <td>False</td>\n",
       "      <td>...</td>\n",
       "      <td>0.448065</td>\n",
       "      <td>0</td>\n",
       "      <td>33.275265</td>\n",
       "      <td>25.611</td>\n",
       "      <td>in_progress</td>\n",
       "      <td>0.0</td>\n",
       "      <td>0</td>\n",
       "      <td>0</td>\n",
       "      <td>0</td>\n",
       "      <td>0.028327</td>\n",
       "    </tr>\n",
       "    <tr>\n",
       "      <th>3</th>\n",
       "      <td>0</td>\n",
       "      <td>4.0</td>\n",
       "      <td>0.597238</td>\n",
       "      <td>0.486175</td>\n",
       "      <td>131.002030</td>\n",
       "      <td>3.242299</td>\n",
       "      <td>0.800000</td>\n",
       "      <td>-1</td>\n",
       "      <td>0.065038</td>\n",
       "      <td>False</td>\n",
       "      <td>...</td>\n",
       "      <td>0.512375</td>\n",
       "      <td>1</td>\n",
       "      <td>33.275265</td>\n",
       "      <td>25.668</td>\n",
       "      <td>in_progress</td>\n",
       "      <td>0.0</td>\n",
       "      <td>0</td>\n",
       "      <td>0</td>\n",
       "      <td>0</td>\n",
       "      <td>0.065038</td>\n",
       "    </tr>\n",
       "    <tr>\n",
       "      <th>4</th>\n",
       "      <td>0</td>\n",
       "      <td>5.0</td>\n",
       "      <td>0.576002</td>\n",
       "      <td>0.511877</td>\n",
       "      <td>130.718305</td>\n",
       "      <td>21.506432</td>\n",
       "      <td>0.961543</td>\n",
       "      <td>-1</td>\n",
       "      <td>0.100462</td>\n",
       "      <td>False</td>\n",
       "      <td>...</td>\n",
       "      <td>0.612509</td>\n",
       "      <td>1</td>\n",
       "      <td>33.275265</td>\n",
       "      <td>25.737</td>\n",
       "      <td>in_progress</td>\n",
       "      <td>0.0</td>\n",
       "      <td>0</td>\n",
       "      <td>0</td>\n",
       "      <td>0</td>\n",
       "      <td>0.100462</td>\n",
       "    </tr>\n",
       "  </tbody>\n",
       "</table>\n",
       "<p>5 rows × 21 columns</p>\n",
       "</div>"
      ],
      "text/plain": [
       "   episode  steps         x         y     heading  steering_angle     speed  \\\n",
       "0        0    1.0  0.615897  0.462156  131.576337       -5.316137  0.800000   \n",
       "1        0    2.0  0.615992  0.462047  131.577320       -1.603432  0.800000   \n",
       "2        0    3.0  0.609900  0.468800  131.557162       -5.381538  0.833191   \n",
       "3        0    4.0  0.597238  0.486175  131.002030        3.242299  0.800000   \n",
       "4        0    5.0  0.576002  0.511877  130.718305       21.506432  0.961543   \n",
       "\n",
       "   action    reward   done  ...  progress  closest_waypoint  track_len  \\\n",
       "0      -1  0.000000  False  ...  0.421164                 0  33.275265   \n",
       "1      -1  0.421733  False  ...  0.420733                 0  33.275265   \n",
       "2      -1  0.028327  False  ...  0.448065                 0  33.275265   \n",
       "3      -1  0.065038  False  ...  0.512375                 1  33.275265   \n",
       "4      -1  0.100462  False  ...  0.612509                 1  33.275265   \n",
       "\n",
       "   tstamp  episode_status pause_duration  iteration  worker  unique_episode  \\\n",
       "0  25.484         prepare            0.0          0       0               0   \n",
       "1  25.545     in_progress            0.0          0       0               0   \n",
       "2  25.611     in_progress            0.0          0       0               0   \n",
       "3  25.668     in_progress            0.0          0       0               0   \n",
       "4  25.737     in_progress            0.0          0       0               0   \n",
       "\n",
       "   new_reward  \n",
       "0    0.000000  \n",
       "1    0.421733  \n",
       "2    0.028327  \n",
       "3    0.065038  \n",
       "4    0.100462  \n",
       "\n",
       "[5 rows x 21 columns]"
      ]
     },
     "execution_count": 19,
     "metadata": {},
     "output_type": "execute_result"
    }
   ],
   "source": [
    "df.head()"
   ]
  },
  {
   "cell_type": "code",
   "execution_count": 20,
   "metadata": {},
   "outputs": [
    {
     "data": {
      "text/html": [
       "<div>\n",
       "<style scoped>\n",
       "    .dataframe tbody tr th:only-of-type {\n",
       "        vertical-align: middle;\n",
       "    }\n",
       "\n",
       "    .dataframe tbody tr th {\n",
       "        vertical-align: top;\n",
       "    }\n",
       "\n",
       "    .dataframe thead th {\n",
       "        text-align: right;\n",
       "    }\n",
       "</style>\n",
       "<table border=\"1\" class=\"dataframe\">\n",
       "  <thead>\n",
       "    <tr style=\"text-align: right;\">\n",
       "      <th></th>\n",
       "      <th>episode</th>\n",
       "      <th>steps</th>\n",
       "      <th>x</th>\n",
       "      <th>y</th>\n",
       "      <th>heading</th>\n",
       "      <th>steering_angle</th>\n",
       "      <th>speed</th>\n",
       "      <th>action</th>\n",
       "      <th>reward</th>\n",
       "      <th>progress</th>\n",
       "      <th>closest_waypoint</th>\n",
       "      <th>track_len</th>\n",
       "      <th>tstamp</th>\n",
       "      <th>pause_duration</th>\n",
       "      <th>iteration</th>\n",
       "      <th>worker</th>\n",
       "      <th>unique_episode</th>\n",
       "      <th>new_reward</th>\n",
       "    </tr>\n",
       "  </thead>\n",
       "  <tbody>\n",
       "    <tr>\n",
       "      <th>count</th>\n",
       "      <td>293718.000000</td>\n",
       "      <td>293718.000000</td>\n",
       "      <td>293718.000000</td>\n",
       "      <td>293718.000000</td>\n",
       "      <td>293718.000000</td>\n",
       "      <td>293718.000000</td>\n",
       "      <td>293718.000000</td>\n",
       "      <td>293718.0</td>\n",
       "      <td>293718.000000</td>\n",
       "      <td>293718.000000</td>\n",
       "      <td>293718.000000</td>\n",
       "      <td>2.937180e+05</td>\n",
       "      <td>293718.000000</td>\n",
       "      <td>293718.0</td>\n",
       "      <td>293718.000000</td>\n",
       "      <td>293718.000000</td>\n",
       "      <td>293718.000000</td>\n",
       "      <td>293718.000000</td>\n",
       "    </tr>\n",
       "    <tr>\n",
       "      <th>mean</th>\n",
       "      <td>651.288219</td>\n",
       "      <td>71.926096</td>\n",
       "      <td>-1.306616</td>\n",
       "      <td>-0.786046</td>\n",
       "      <td>6.700249</td>\n",
       "      <td>2.749211</td>\n",
       "      <td>1.419405</td>\n",
       "      <td>-1.0</td>\n",
       "      <td>0.154198</td>\n",
       "      <td>21.676546</td>\n",
       "      <td>52.788488</td>\n",
       "      <td>3.327527e+01</td>\n",
       "      <td>11537.664048</td>\n",
       "      <td>0.0</td>\n",
       "      <td>64.654104</td>\n",
       "      <td>1.000667</td>\n",
       "      <td>1954.376964</td>\n",
       "      <td>0.154198</td>\n",
       "    </tr>\n",
       "    <tr>\n",
       "      <th>std</th>\n",
       "      <td>380.583196</td>\n",
       "      <td>67.379745</td>\n",
       "      <td>2.142386</td>\n",
       "      <td>2.365004</td>\n",
       "      <td>96.582573</td>\n",
       "      <td>17.023897</td>\n",
       "      <td>0.402353</td>\n",
       "      <td>0.0</td>\n",
       "      <td>0.155770</td>\n",
       "      <td>21.885330</td>\n",
       "      <td>29.851893</td>\n",
       "      <td>2.131632e-14</td>\n",
       "      <td>7308.922825</td>\n",
       "      <td>0.0</td>\n",
       "      <td>38.052994</td>\n",
       "      <td>0.816785</td>\n",
       "      <td>1141.664311</td>\n",
       "      <td>0.155770</td>\n",
       "    </tr>\n",
       "    <tr>\n",
       "      <th>min</th>\n",
       "      <td>0.000000</td>\n",
       "      <td>1.000000</td>\n",
       "      <td>-23.288947</td>\n",
       "      <td>-15.010495</td>\n",
       "      <td>-179.986587</td>\n",
       "      <td>-30.000000</td>\n",
       "      <td>0.800000</td>\n",
       "      <td>-1.0</td>\n",
       "      <td>0.000000</td>\n",
       "      <td>-14.575520</td>\n",
       "      <td>0.000000</td>\n",
       "      <td>3.327527e+01</td>\n",
       "      <td>23.258000</td>\n",
       "      <td>0.0</td>\n",
       "      <td>0.000000</td>\n",
       "      <td>0.000000</td>\n",
       "      <td>0.000000</td>\n",
       "      <td>0.000000</td>\n",
       "    </tr>\n",
       "    <tr>\n",
       "      <th>25%</th>\n",
       "      <td>322.000000</td>\n",
       "      <td>20.000000</td>\n",
       "      <td>-3.177287</td>\n",
       "      <td>-2.991787</td>\n",
       "      <td>-79.288467</td>\n",
       "      <td>-8.471869</td>\n",
       "      <td>1.110965</td>\n",
       "      <td>-1.0</td>\n",
       "      <td>0.001000</td>\n",
       "      <td>4.314482</td>\n",
       "      <td>28.000000</td>\n",
       "      <td>3.327527e+01</td>\n",
       "      <td>5403.160000</td>\n",
       "      <td>0.0</td>\n",
       "      <td>32.000000</td>\n",
       "      <td>0.000000</td>\n",
       "      <td>967.250000</td>\n",
       "      <td>0.001000</td>\n",
       "    </tr>\n",
       "    <tr>\n",
       "      <th>50%</th>\n",
       "      <td>651.000000</td>\n",
       "      <td>49.000000</td>\n",
       "      <td>-1.695540</td>\n",
       "      <td>-1.161569</td>\n",
       "      <td>-8.997960</td>\n",
       "      <td>1.855003</td>\n",
       "      <td>1.465391</td>\n",
       "      <td>-1.0</td>\n",
       "      <td>0.158281</td>\n",
       "      <td>14.325166</td>\n",
       "      <td>56.000000</td>\n",
       "      <td>3.327527e+01</td>\n",
       "      <td>10861.807000</td>\n",
       "      <td>0.0</td>\n",
       "      <td>65.000000</td>\n",
       "      <td>1.000000</td>\n",
       "      <td>1955.000000</td>\n",
       "      <td>0.158281</td>\n",
       "    </tr>\n",
       "    <tr>\n",
       "      <th>75%</th>\n",
       "      <td>978.000000</td>\n",
       "      <td>106.000000</td>\n",
       "      <td>-0.135367</td>\n",
       "      <td>1.294665</td>\n",
       "      <td>103.943275</td>\n",
       "      <td>14.040826</td>\n",
       "      <td>1.708632</td>\n",
       "      <td>-1.0</td>\n",
       "      <td>0.238404</td>\n",
       "      <td>32.616777</td>\n",
       "      <td>76.000000</td>\n",
       "      <td>3.327527e+01</td>\n",
       "      <td>16874.936250</td>\n",
       "      <td>0.0</td>\n",
       "      <td>97.000000</td>\n",
       "      <td>2.000000</td>\n",
       "      <td>2932.000000</td>\n",
       "      <td>0.238404</td>\n",
       "    </tr>\n",
       "    <tr>\n",
       "      <th>max</th>\n",
       "      <td>1319.000000</td>\n",
       "      <td>340.000000</td>\n",
       "      <td>11.284238</td>\n",
       "      <td>22.132129</td>\n",
       "      <td>179.996777</td>\n",
       "      <td>30.000000</td>\n",
       "      <td>4.000000</td>\n",
       "      <td>-1.0</td>\n",
       "      <td>3.322692</td>\n",
       "      <td>100.000000</td>\n",
       "      <td>111.000000</td>\n",
       "      <td>3.327527e+01</td>\n",
       "      <td>26444.920000</td>\n",
       "      <td>0.0</td>\n",
       "      <td>131.000000</td>\n",
       "      <td>2.000000</td>\n",
       "      <td>3959.000000</td>\n",
       "      <td>3.322692</td>\n",
       "    </tr>\n",
       "  </tbody>\n",
       "</table>\n",
       "</div>"
      ],
      "text/plain": [
       "             episode          steps              x              y  \\\n",
       "count  293718.000000  293718.000000  293718.000000  293718.000000   \n",
       "mean      651.288219      71.926096      -1.306616      -0.786046   \n",
       "std       380.583196      67.379745       2.142386       2.365004   \n",
       "min         0.000000       1.000000     -23.288947     -15.010495   \n",
       "25%       322.000000      20.000000      -3.177287      -2.991787   \n",
       "50%       651.000000      49.000000      -1.695540      -1.161569   \n",
       "75%       978.000000     106.000000      -0.135367       1.294665   \n",
       "max      1319.000000     340.000000      11.284238      22.132129   \n",
       "\n",
       "             heading  steering_angle          speed    action         reward  \\\n",
       "count  293718.000000   293718.000000  293718.000000  293718.0  293718.000000   \n",
       "mean        6.700249        2.749211       1.419405      -1.0       0.154198   \n",
       "std        96.582573       17.023897       0.402353       0.0       0.155770   \n",
       "min      -179.986587      -30.000000       0.800000      -1.0       0.000000   \n",
       "25%       -79.288467       -8.471869       1.110965      -1.0       0.001000   \n",
       "50%        -8.997960        1.855003       1.465391      -1.0       0.158281   \n",
       "75%       103.943275       14.040826       1.708632      -1.0       0.238404   \n",
       "max       179.996777       30.000000       4.000000      -1.0       3.322692   \n",
       "\n",
       "            progress  closest_waypoint     track_len         tstamp  \\\n",
       "count  293718.000000     293718.000000  2.937180e+05  293718.000000   \n",
       "mean       21.676546         52.788488  3.327527e+01   11537.664048   \n",
       "std        21.885330         29.851893  2.131632e-14    7308.922825   \n",
       "min       -14.575520          0.000000  3.327527e+01      23.258000   \n",
       "25%         4.314482         28.000000  3.327527e+01    5403.160000   \n",
       "50%        14.325166         56.000000  3.327527e+01   10861.807000   \n",
       "75%        32.616777         76.000000  3.327527e+01   16874.936250   \n",
       "max       100.000000        111.000000  3.327527e+01   26444.920000   \n",
       "\n",
       "       pause_duration      iteration         worker  unique_episode  \\\n",
       "count        293718.0  293718.000000  293718.000000   293718.000000   \n",
       "mean              0.0      64.654104       1.000667     1954.376964   \n",
       "std               0.0      38.052994       0.816785     1141.664311   \n",
       "min               0.0       0.000000       0.000000        0.000000   \n",
       "25%               0.0      32.000000       0.000000      967.250000   \n",
       "50%               0.0      65.000000       1.000000     1955.000000   \n",
       "75%               0.0      97.000000       2.000000     2932.000000   \n",
       "max               0.0     131.000000       2.000000     3959.000000   \n",
       "\n",
       "          new_reward  \n",
       "count  293718.000000  \n",
       "mean        0.154198  \n",
       "std         0.155770  \n",
       "min         0.000000  \n",
       "25%         0.001000  \n",
       "50%         0.158281  \n",
       "75%         0.238404  \n",
       "max         3.322692  "
      ]
     },
     "execution_count": 20,
     "metadata": {},
     "output_type": "execute_result"
    }
   ],
   "source": [
    "df.describe()"
   ]
  },
  {
   "cell_type": "code",
   "execution_count": 21,
   "metadata": {},
   "outputs": [],
   "source": [
    "df['prev_progress'] = df['progress'].shift(1).fillna(0)\n",
    "df['progress_diff'] = df['progress'] - df['prev_progress']\n",
    "df[df['steps'] == 1]['prev_progress'] = 0"
   ]
  },
  {
   "cell_type": "code",
   "execution_count": 22,
   "metadata": {},
   "outputs": [
    {
     "data": {
      "text/plain": [
       "0.2660426430827708"
      ]
     },
     "execution_count": 22,
     "metadata": {},
     "output_type": "execute_result"
    }
   ],
   "source": [
    "df['progress_diff'].median()"
   ]
  },
  {
   "cell_type": "code",
   "execution_count": 23,
   "metadata": {
    "lines_to_next_cell": 2
   },
   "outputs": [],
   "source": [
    "feature_interests = ['steps', 'reward', 'new_reward']\n",
    "\n",
    "def calc_discount_factor(r, fr):\n",
    "\n",
    "    discount_factor = hyperparameters['discount_factor']\n",
    "    \n",
    "    current_step = r['steps']\n",
    "    remaining_steps = fr[(fr['steps'] >= current_step)]\n",
    "\n",
    "    agg_discount_factors_sum = sum([ discount_factor ** i * r for i ,r  in enumerate(remaining_steps['reward'].values)])\n",
    "    return agg_discount_factors_sum\n",
    "    \n",
    "\n",
    "def get_discounted_reward_for_step(gr):\n",
    "    gr['discounted_reward'] = gr.apply(lambda r: calc_discount_factor(r[feature_interests], gr[feature_interests]),axis=1)\n",
    "    return gr"
   ]
  },
  {
   "cell_type": "code",
   "execution_count": 24,
   "metadata": {},
   "outputs": [],
   "source": [
    "# group = df.groupby('unique_episode')\n",
    "# group['discounted_reward'] = group.rolling(10)['reward'].sum()"
   ]
  },
  {
   "cell_type": "code",
   "execution_count": 25,
   "metadata": {},
   "outputs": [],
   "source": [
    "# discount_cal_df = df.set_index('unique_episode')\n",
    "# discount_cal_df = df.loc[0:20]\n",
    "\n",
    "\n",
    "# discount_cal_df.groupby('unique_episode').apply(lambda x: print(x['reward']))\n",
    "df = df.groupby('unique_episode').apply(get_discounted_reward_for_step, )"
   ]
  },
  {
   "cell_type": "code",
   "execution_count": null,
   "metadata": {},
   "outputs": [],
   "source": [
    "[]"
   ]
  },
  {
   "cell_type": "markdown",
   "metadata": {},
   "source": [
    "## Load waypoints for the track you want to run analysis on\n",
    "\n",
    "The track waypoint files represent the coordinates of characteristic points of the track - the center line, inside border and outside border. Their main purpose is to visualise the track in images below.\n",
    "\n",
    "The naming of the tracks is not super consistent. The ones that we already know have been mapped to their official names in the track_meta dictionary.\n",
    "\n",
    "Some npy files have an 'Eval' suffix. One of the challenges in the past was that the evaluation tracks were different to physical tracks and we have recreated them to enable evaluation. Remeber that evaluation npy files are a community effort to visualise the tracks in the trainings, they aren't 100% accurate.\n",
    "\n",
    "Tracks Available:"
   ]
  },
  {
   "cell_type": "code",
   "execution_count": null,
   "metadata": {},
   "outputs": [],
   "source": [
    "from deepracer.tracks import TrackIO, Track\n",
    "from deepracer.tracks.track_utils import track_breakdown, track_meta\n",
    "tu = TrackIO()\n",
    "\n",
    "for track in tu.get_tracks():\n",
    "    print(\"{} - {}\".format(track, track_meta.get(track[:-4], \"I don't know\")))"
   ]
  },
  {
   "cell_type": "markdown",
   "metadata": {},
   "source": [
    "Now let's load the track:"
   ]
  },
  {
   "cell_type": "code",
   "execution_count": null,
   "metadata": {},
   "outputs": [],
   "source": [
    "# We will try to guess the track name first, if it \n",
    "# fails, we'll use the constant in quotes\n",
    "\n",
    "try:\n",
    "    track_name = log.agent_and_network()[\"world\"]\n",
    "except Exception as e:\n",
    "    track_name = \"2022_reinvent_champ\"\n",
    "\n",
    "\n",
    "track: Track = tu.load_track(track_name)\n",
    "\n",
    "pu.plot_trackpoints(track)"
   ]
  },
  {
   "cell_type": "markdown",
   "metadata": {},
   "source": [
    "## Graphs\n",
    "\n",
    "The original notebook has provided some great ideas on what could be visualised in the graphs. Below examples are a slightly extended version. Let's have a look at what they are presenting and what this may mean to your training.\n",
    "\n",
    "### Training progress\n",
    "\n",
    "As you have possibly noticed by now, training episodes are grouped into iterations and this notebook also reflects it. What also marks it are checkpoints in the training. After each iteration a set of ckpt files is generated - they contain outcomes of the training, then a model.pb file is built based on that and the car begins a new iteration. Looking at the data grouped by iterations may lead you to a conclusion, that some earlier checkpoint would be a better start for a new training. While this is limited in the AWS DeepRacer Console, with enough disk space you can keep all the checkpoints along the way and use one of them as a start for new training (or even as a submission to a race).\n",
    "\n",
    "While the episodes in a given iteration are a mixture of decision process and random guesses, mean results per iteration may show a specific trend. Mean values are accompanied by standard deviation to show the concentration of values around the mean.\n",
    "\n",
    "#### Rewards per Iteration\n",
    "\n",
    "You can see these values as lines or dots per episode in the AWS DeepRacer console. When the reward goes up, this suggests that a car is learning and improving with regards to a given reward function. **This does not have to be a good thing.** If your reward function rewards something that harms performance, your car will learn to drive in a way that will make results worse.\n",
    "\n",
    "At first the rewards just grow if the progress achieved grows. Interesting things may happen slightly later in the training:\n",
    "\n",
    "* The reward may go flat at some level - it might mean that the car can't get any better. If you think you could still squeeze something better out of it, review the car's progress and consider updating the reward function, the action space, maybe hyperparameters, or perhaps starting over (either from scratch or from some previous checkpoint)\n",
    "* The reward may become wobbly - here you will see it as a mesh of dots zig-zagging. It can be a gradually growing zig-zag or a roughly stagnated one. This usually means the learning rate hyperparameter is too high and the car started doing actions that oscilate around some local extreme. You can lower the learning rate and hope to step closer to the extreme. Or run away from it if you don't like it\n",
    "* The reward plunges to near zero and stays roughly flat - I only had that when I messed up the hyperparameters or the reward function. Review recent changes and start training over or consider starting from scratch\n",
    "\n",
    "The Standard deviation says how close from each other the reward values per episode in a given iteration are. If your model becomes reasonably stable and worst performances become better, at some point the standard deviation may flat out or even decrease. That said, higher speeds usually mean there will be areas on track with higher risk of failure. This may bring the value of standard deviation to a higher value and regardless of whether you like it or not, you need to accept it as a part of fighting for significantly better times.\n",
    "\n",
    "#### Time per iteration\n",
    "\n",
    "I'm not sure how useful this graph is. I would worry if it looked very similar to the reward graph - this could suggest that slower laps will be getting higher rewards. But there is a better graph for spotting that below.\n",
    "\n",
    "#### Progress per Iteration\n",
    "\n",
    "This graph usually starts low and grows and at some point it will get flatter. The maximum value for progress is 100% so it cannot grow without limits. It usually shows similar initial behaviours to reward and time graphs. I usually look at it when I alter an action in training. In such cases this graph usually dips a bit and then returns or goes higher.\n",
    "\n",
    "#### Total reward per episode\n",
    "\n",
    "This graph has been taken from the orignal notebook and can show progress on certain groups of behaviours. It usually forms something like a triangle, sometimes you can see a clear line of progress that shows some new way has been first taught and then perfected.\n",
    "\n",
    "#### Mean completed lap times per iteration\n",
    "\n",
    "Once we have a model that completes laps reasonably often, we might want to know how fast the car gets around the track. This graph will show you that. I use it quite often when looking for a model to shave a couple more miliseconds. That said it has to go in pair with the last one:\n",
    "\n",
    "#### Completion rate per iteration\n",
    "\n",
    "It represents how big part of all episodes in an iteration is full laps. The value is from range [0, 1] and is a result of deviding amount of full laps in iteration by amount of all episodes in iteration. I say it has to go in pair with the previous one because you not only need a fast lapper, you also want a race completer.\n",
    "\n",
    "The higher the value, the more stable the model is on a given track."
   ]
  },
  {
   "cell_type": "code",
   "execution_count": null,
   "metadata": {},
   "outputs": [],
   "source": [
    "simulation_agg = au.simulation_agg(df, secondgroup=\"unique_episode\")\n",
    "simulation_agg\n",
    "au.analyze_training_progress(simulation_agg, title='Training progress')"
   ]
  },
  {
   "cell_type": "markdown",
   "metadata": {
    "lines_to_next_cell": 2
   },
   "source": [
    "### Stats for all laps\n",
    "\n",
    "Previous graphs were mainly focused on the state of training with regards to training progress. This however will not give you a lot of information about how well your reward function is doing overall.\n",
    "\n",
    "In such case `scatter_aggregates` may come handy. It comes with three types of graphs:\n",
    "* progress/steps/reward depending on the time of an episode - of this I find reward/time and new_reward/time especially useful to see that I am rewarding good behaviours - I expect the reward to time scatter to look roughly triangular\n",
    "* histograms of time and progress - for all episodes the progress one is usually quite handy to get an idea of model's stability\n",
    "* progress/time_if_complete/reward to closest waypoint at start - these are really useful during training as they show potentially problematic spots on track. It can turn out that a car gets best reward (and performance) starting at a point that just cannot be reached if the car starts elsewhere, or that there is a section of a track that the car struggles to get past and perhaps it's caused by an aggressive action space or undesirable behaviour prior to that place\n",
    "\n",
    "Side note: `time_if_complete` is not very accurate and will almost always look better for episodes closer to 100% progress than in case of those 50% and below."
   ]
  },
  {
   "cell_type": "code",
   "execution_count": null,
   "metadata": {},
   "outputs": [],
   "source": [
    "au.scatter_aggregates(simulation_agg, 'Stats for all laps')"
   ]
  },
  {
   "cell_type": "markdown",
   "metadata": {},
   "source": [
    "### Stats for complete laps\n",
    "The graphs here are same as above, but now I am interested in other type of information:\n",
    "* does the reward scatter show higher rewards for lower completion times? If I give higher reward for a slower lap it might suggest that I am training the car to go slow\n",
    "* what does the time histogram look like? With enough samples available the histogram takes a normal distribution graph shape. The lower the mean value, the better the chance to complete a fast lap consistently. The longer the tails, the greater the chance of getting lucky in submissions\n",
    "* is the car completing laps around the place where the race lap starts? Or does it only succeed if it starts in a place different to the racing one?"
   ]
  },
  {
   "cell_type": "code",
   "execution_count": null,
   "metadata": {},
   "outputs": [],
   "source": [
    "complete_ones = simulation_agg[simulation_agg['progress']==100]\n",
    "\n",
    "if complete_ones.shape[0] > 0:\n",
    "    au.scatter_aggregates(complete_ones, 'Stats for complete laps')\n",
    "else:\n",
    "    print('No complete laps yet.')"
   ]
  },
  {
   "cell_type": "markdown",
   "metadata": {},
   "source": [
    "### Categories analysis\n",
    "We're going back to comparing training results based on the training time, but in a different way. Instead of just scattering things in relation to iteration or episode number, this time we're grouping episodes based on a certaing information. For this we use function:\n",
    "```\n",
    "analyze_categories(panda, category='quintile', groupcount=5, title=None)\n",
    "```\n",
    "The idea is pretty simple - determine a way to cluster the data and provide that as the `category` parameter (alongside the count of groups available). In the default case we take advantage of the aggregated information to which quintile an episode belongs and thus build buckets each containing 20% of episodes which happened around the same time during the training. If your training lasted for five hours, this would show results grouped per each hour.\n",
    "\n",
    "A side note: if you run the function with `category='start_at'` and `groupcount=20` you will get results based on the waypoint closest to the starting point of an episode. If you need to, you can introduce other types of categories and reuse the function.\n",
    "\n",
    "The graphs are similar to what we've seen above. I especially like the progress one which shows where the model tends to struggle and whether it's successful laps rate is improving or beginning to decrease. Interestingly, I also had cases where I saw the completion drop on the progress rate only to improve in a later quintile, but with a better time graph.\n",
    "\n",
    "A second side note: if you run this function for `complete_ones` instead of `simulation_agg`, suddenly the time histogram becomes more interesting as you can see whether completion times improve."
   ]
  },
  {
   "cell_type": "markdown",
   "metadata": {},
   "source": [
    "au.scatter_by_groups(simulation_agg, title='Quintiles')"
   ]
  },
  {
   "cell_type": "markdown",
   "metadata": {},
   "source": [
    "### Last iteration competion rate"
   ]
  },
  {
   "cell_type": "code",
   "execution_count": null,
   "metadata": {},
   "outputs": [],
   "source": [
    "last_iteration = simulation_agg[simulation_agg['iteration'] >= simulation_agg['iteration'].max() - 100]\n",
    "\n",
    "amount_complete_laps = len(last_iteration[simulation_agg['progress']==100])\n",
    "total_laps = len(last_iteration)\n",
    "total_laps\n",
    "\n",
    "str(round(amount_complete_laps/total_laps * 100)) + '%'"
   ]
  },
  {
   "cell_type": "markdown",
   "metadata": {},
   "source": [
    "## Data in tables\n",
    "\n",
    "While a lot can be seen in graphs that cannot be seen in the raw numbers, the numbers let us get into more detail. Below you will find a couple examples. If your model is behaving the way you would like it to, below tables may provide little added value, but if you struggle to improve your car's performance, they may come handy. In such cases I look for examples where high reward is giving to below-expected episode and when good episodes are given low reward.\n",
    "\n",
    "You can then take the episode number and scatter it below, and also look at reward given per step - this can in turn draw your attention to some rewarding anomalies and help you detect some unexpected outcomes in your reward function.\n",
    "\n",
    "There is a number of ways to select the data for display:\n",
    "* `nlargest`/`nsmallest` lets you display information based on a specific value being highest or lowest\n",
    "* filtering based on a field value, for instance `df[df['episode']==10]` will display only those steps in `df` which belong to episode 10\n",
    "* `head()` lets you peek into a dataframe\n",
    "\n",
    "There isn't a right set of tables to display here and the ones below may not suit your needs. Get to know Pandas more and have fun with them. It's almost as addictive as DeepRacer itself.\n",
    "\n",
    "The examples have a short comment next to them explaining what they are showing."
   ]
  },
  {
   "cell_type": "code",
   "execution_count": null,
   "metadata": {},
   "outputs": [],
   "source": [
    "# View ten best rewarded episodes in the training\n",
    "simulation_agg.nlargest(10, 'new_reward')"
   ]
  },
  {
   "cell_type": "code",
   "execution_count": null,
   "metadata": {},
   "outputs": [],
   "source": [
    "# View five fastest complete laps\n",
    "complete_ones.nsmallest(5, 'time')"
   ]
  },
  {
   "cell_type": "code",
   "execution_count": null,
   "metadata": {},
   "outputs": [],
   "source": [
    "# View the average lap time for completed laps\n",
    "complete_ones['time'].mean()"
   ]
  },
  {
   "cell_type": "code",
   "execution_count": null,
   "metadata": {},
   "outputs": [],
   "source": [
    "complete_ones['time'].rolling(100).mean().plot()"
   ]
  },
  {
   "cell_type": "code",
   "execution_count": null,
   "metadata": {},
   "outputs": [],
   "source": [
    "# View five best rewarded completed laps\n",
    "complete_ones.nlargest(5, 'reward')"
   ]
  },
  {
   "cell_type": "code",
   "execution_count": null,
   "metadata": {},
   "outputs": [],
   "source": [
    "# View five best rewarded in completed laps (according to new_reward if you are using it)\n",
    "complete_ones.nlargest(5, 'new_reward')"
   ]
  },
  {
   "cell_type": "code",
   "execution_count": null,
   "metadata": {},
   "outputs": [],
   "source": [
    "# View five most progressed episodes\n",
    "simulation_agg.nlargest(5, 'progress')"
   ]
  },
  {
   "cell_type": "code",
   "execution_count": null,
   "metadata": {},
   "outputs": [],
   "source": [
    "# View information for a couple first episodes\n",
    "simulation_agg.head()"
   ]
  },
  {
   "cell_type": "code",
   "execution_count": null,
   "metadata": {},
   "outputs": [],
   "source": [
    "# Set maximum quantity of rows to view for a dataframe display - without that\n",
    "# the view below will just hide some of the steps\n",
    "pd.set_option('display.max_rows', 500)\n",
    "\n",
    "# View all steps data for episode 10\n",
    "df[df['episode']==10].head()"
   ]
  },
  {
   "cell_type": "code",
   "execution_count": null,
   "metadata": {},
   "outputs": [],
   "source": [
    "most_progressed_episode =simulation_agg[simulation_agg['progress']==simulation_agg['progress'].max()]\n",
    "\n",
    "fastest_episode =  int(most_progressed_episode['unique_episode'].iloc[0])\n",
    "fastest_iteration = int(most_progressed_episode['iteration'].iloc[0])\n",
    "fastest_iteration,fastest_episode"
   ]
  },
  {
   "cell_type": "code",
   "execution_count": null,
   "metadata": {},
   "outputs": [],
   "source": [
    "if len(complete_ones) != 0:\n",
    "    fastest_episode = int(complete_ones.nsmallest(1, 'time').iloc[0]['unique_episode'])\n",
    "    fastest_iteration = int(complete_ones.nsmallest(1, 'time').iloc[0]['iteration'])"
   ]
  },
  {
   "cell_type": "code",
   "execution_count": null,
   "metadata": {},
   "outputs": [],
   "source": [
    "# df[df['unique_episode'] == 5190][['steps','progress', 'prev_progress', 'progress_diff', 'reward', 'discounted_reward']]"
   ]
  },
  {
   "cell_type": "markdown",
   "metadata": {},
   "source": [
    "## Analyze the reward distribution for your reward function"
   ]
  },
  {
   "cell_type": "code",
   "execution_count": null,
   "metadata": {},
   "outputs": [],
   "source": [
    "# This shows a histogram of actions per closest waypoint for episode 889.\n",
    "# Will let you spot potentially problematic places in reward granting.\n",
    "# In this example reward function is clearly `return 1`. It may be worrying\n",
    "# if your reward function has some logic in it.\n",
    "# If you have a final step reward that makes the rest of this histogram\n",
    "# unreadable, you can filter the last step out by using\n",
    "# `episode[:-1].plot.bar` instead of `episode.plot.bar`\n",
    "# episode = df[df['episode']==889]\n",
    "episode = df[df['unique_episode']==fastest_episode]\n",
    "\n",
    "\n",
    "if episode.empty:\n",
    "    print(\"You probably don't have episode with this number, try a lower one.\")\n",
    "else:\n",
    "    episode.plot.bar(x='closest_waypoint', y='reward')"
   ]
  },
  {
   "cell_type": "markdown",
   "metadata": {},
   "source": [
    "### Path taken for top reward iterations\n",
    "\n",
    "NOTE: at some point in the past in a single episode the car could go around multiple laps, the episode was terminated when car completed 1000 steps. Currently one episode has at most one lap. This explains why you can see multiple laps in an episode plotted below.\n",
    "\n",
    "Being able to plot the car's route in an episode can help you detect certain patterns in its behaviours and either promote them more or train away from them. While being able to watch the car go in the training gives some information, being able to reproduce it after the training is much more practical.\n",
    "\n",
    "Graphs below give you a chance to look deeper into your car's behaviour on track.\n",
    "\n",
    "We start with plot_selected_laps. The general idea of this block is as follows:\n",
    "* Select laps(episodes) that have the properties that you care about, for instance, fastest, most progressed, failing in a certain section of the track or not failing in there,\n",
    "* Provide the list of them in a dataframe into the plot_selected_laps, together with the whole training dataframe and the track info,\n",
    "* You've got the laps to analyse."
   ]
  },
  {
   "cell_type": "code",
   "execution_count": null,
   "metadata": {
    "lines_to_next_cell": 0
   },
   "outputs": [],
   "source": [
    "# Some examples:\n",
    "# highest reward for complete laps:\n",
    "# episodes_to_plot = complete_ones.nlargest(3,'reward')\n",
    "\n",
    "# highest progress from all episodes:\n",
    "# episodes_to_plot = simulation_agg.nlargest(3,'progress')\n",
    "\n",
    "# fastest laps from all episodes:\n",
    "episodes_to_plot = complete_ones.nsmallest(3,'time')\n",
    "\n",
    "pu.plot_selected_laps(episodes_to_plot, df, track, section_to_plot=\"unique_episode\")"
   ]
  },
  {
   "cell_type": "code",
   "execution_count": null,
   "metadata": {},
   "outputs": [],
   "source": [
    "import pandas as pd\n",
    "\n",
    "start_index = 100000\n",
    "\n",
    "speed_mean_wp = df[start_index:].groupby('closest_waypoint')['speed'].mean()\n",
    "x_mean_wp = df[start_index:].groupby('closest_waypoint')['x'].mean()\n",
    "y_mean_wp = df[start_index:].groupby('closest_waypoint')['y'].mean()\n",
    "\n",
    "\n",
    "average_lap_df = pd.DataFrame({'speed': speed_mean_wp, 'x': x_mean_wp, 'y': y_mean_wp}).reset_index()\n",
    "average_lap_df['unique_episode'] = 1\n",
    "\n",
    "pu.plot_selected_laps(average_lap_df, average_lap_df, track, section_to_plot=\"unique_episode\")"
   ]
  },
  {
   "cell_type": "markdown",
   "metadata": {
    "lines_to_next_cell": 2
   },
   "source": [
    "### Plot a heatmap of rewards for current training. \n",
    "The brighter the colour, the higher the reward granted in given coordinates.\n",
    "If instead of a similar view as in the example below you get a dark image with hardly any \n",
    "dots, it might be that your rewards are highly disproportionate and possibly sparse.\n",
    "\n",
    "Disproportion means you may have one reward of 10.000 and the rest in range 0.01-1.\n",
    "In such cases the vast majority of dots will simply be very dark and the only bright dot\n",
    "might be in a place difficult to spot. I recommend you go back to the tables and show highest\n",
    "and average rewards per step to confirm if this is the case. Such disproportions may\n",
    "not affect your traning very negatively, but they will make the data less readable in this notebook.\n",
    "\n",
    "Sparse data means that the car gets a high reward for the best behaviour and very low reward\n",
    "for anything else, and worse even, reward is pretty much discrete (return 10 for narrow perfect,\n",
    "else return 0.1). The car relies on reward varying between behaviours to find gradients that can\n",
    "lead to improvement. If that is missing, the model will struggle to improve."
   ]
  },
  {
   "cell_type": "code",
   "execution_count": null,
   "metadata": {},
   "outputs": [],
   "source": [
    "#If you'd like some other colour criterion, you can add\n",
    "#a value_field parameter and specify a different column\n",
    "pu.plot_track(df, track)\n",
    "# pu.plot_track(df[:10000], track)\n",
    "# pu.plot_track(df[1000:], track)\n",
    "# pu.plot_track(df[df['unique_episode'] == complete_ones['unique_episode']], track)\n",
    "# pu.plot_track(df, track)\n",
    "# pu.plot_track(df[(df['x'] > 0) & (df['y'] > 0) & (df['y'] < df['y'].max()) & (df['y'] > df['y'].min())& (df['x'] < df['x'].max()) & (df['x'] > df['x'].min())] , track)\n",
    "# pu.plot_track(df[(df['y'] < df['y'].max()) & (df['y'] > df['y'].min())& (df['x'] < df['x'].max()) & (df['x'] > df['x'].min())] , track)"
   ]
  },
  {
   "cell_type": "markdown",
   "metadata": {},
   "source": [
    "### Plot including discount factor"
   ]
  },
  {
   "cell_type": "code",
   "execution_count": null,
   "metadata": {},
   "outputs": [],
   "source": [
    "# pu.plot_track(df[df['discounted_reward'] <  df['discounted_reward'].max() * 0.9], track, 'discounted_reward')\n",
    "# pu.plot_track(df, track, 'discounted_reward')\n",
    "pu.plot_track(df.tail(int(len(df) * 0.9)), track, 'discounted_reward')"
   ]
  },
  {
   "cell_type": "markdown",
   "metadata": {},
   "source": [
    "### Plot a particular iteration\n",
    "This is same as the heatmap above, but just for a single iteration."
   ]
  },
  {
   "cell_type": "code",
   "execution_count": null,
   "metadata": {},
   "outputs": [],
   "source": [
    "#If you'd like some other colour criterion, you can add\n",
    "#a value_field parameter and specify a different column\n",
    "# iteration_id = 304\n",
    "iteration_id=fastest_iteration\n",
    "pu.plot_track(df[df['iteration'] == iteration_id], track)"
   ]
  },
  {
   "cell_type": "markdown",
   "metadata": {},
   "source": [
    "### Path taken in a particular episode"
   ]
  },
  {
   "cell_type": "code",
   "execution_count": null,
   "metadata": {},
   "outputs": [],
   "source": [
    "# episode_id = fastest_episode\n",
    "# episode_id = 142 #856\n",
    "episode_id = 856\n",
    "\n",
    "pu.plot_selected_laps(df[df['unique_episode']==episode_id], df, track,single_plot=False)"
   ]
  },
  {
   "cell_type": "markdown",
   "metadata": {},
   "source": [
    "### Path taken in a particular iteration"
   ]
  },
  {
   "cell_type": "code",
   "execution_count": null,
   "metadata": {},
   "outputs": [],
   "source": [
    "iteration_id = int(fastest_iteration)\n",
    "\n",
    "pu.plot_selected_laps([iteration_id], df, track, section_to_plot = 'iteration')"
   ]
  },
  {
   "cell_type": "markdown",
   "metadata": {},
   "source": [
    "# Action breakdown per iteration and historgram for action distribution for each of the turns - reinvent track\n",
    "\n",
    "This plot is useful to understand the actions that the model takes for any given iteration. Unfortunately at this time it is not fit for purpose as it assumes six actions in the action space and has other issues. It will require some work to get it to done but the information it returns will be very valuable.\n",
    "\n",
    "This is a bit of an attempt to abstract away from the brilliant function in the original notebook towards a more general graph that we could use. It should be treated as a work in progress. The track_breakdown could be used as a starting point for a general track information object to handle all the customisations needed in methods of this notebook.\n",
    "\n",
    "A breakdown track data needs to be available for it. If you cannot find it for the desired track, MAKEIT.\n",
    "\n",
    "Currently supported tracks:"
   ]
  },
  {
   "cell_type": "code",
   "execution_count": null,
   "metadata": {},
   "outputs": [],
   "source": [
    "track_breakdown.keys()"
   ]
  },
  {
   "cell_type": "markdown",
   "metadata": {},
   "source": [
    "You can replace episode_ids with iteration_ids and make a breakdown for a whole iteration.\n",
    "\n",
    "**Note: does not work for continuous action space (yet).** "
   ]
  },
  {
   "cell_type": "code",
   "execution_count": null,
   "metadata": {},
   "outputs": [],
   "source": [
    "abu.action_breakdown(df, track, track_breakdown=track_breakdown.get(track_name), episode_ids=[fastest_episode])"
   ]
  },
  {
   "cell_type": "markdown",
   "metadata": {},
   "source": [
    "Look at the grid world"
   ]
  },
  {
   "cell_type": "code",
   "execution_count": null,
   "metadata": {},
   "outputs": [],
   "source": [
    "# df[df['episode']== fastest_episode]\n",
    "episode = df[df['unique_episode']==fastest_episode]"
   ]
  },
  {
   "cell_type": "code",
   "execution_count": null,
   "metadata": {},
   "outputs": [],
   "source": [
    "pu.plot_grid_world(episode, track)"
   ]
  },
  {
   "cell_type": "markdown",
   "metadata": {},
   "source": [
    "# Fault Finding"
   ]
  },
  {
   "cell_type": "code",
   "execution_count": null,
   "metadata": {},
   "outputs": [],
   "source": [
    "import matplotlib.pyplot as plt"
   ]
  },
  {
   "cell_type": "code",
   "execution_count": null,
   "metadata": {},
   "outputs": [],
   "source": [
    "complete_laps = simulation_agg[simulation_agg['progress']==100]"
   ]
  },
  {
   "cell_type": "code",
   "execution_count": null,
   "metadata": {},
   "outputs": [],
   "source": [
    "without_possible_off_tracks =  complete_laps[complete_laps['reward'] > 95]\n",
    "and_possible_going_crazy = without_possible_off_tracks[without_possible_off_tracks['reward'] < 105]"
   ]
  },
  {
   "cell_type": "code",
   "execution_count": null,
   "metadata": {
    "lines_to_next_cell": 2
   },
   "outputs": [],
   "source": [
    "# plt.title.set_text('Reward vs Time for completed laps')  # type: ignore\n",
    "# plt.set_xlabel('Time')\n",
    "# plt.set_ylabel('Reward')\n",
    "plt.scatter(and_possible_going_crazy['time'], and_possible_going_crazy['reward'], linewidth=2)"
   ]
  },
  {
   "cell_type": "code",
   "execution_count": null,
   "metadata": {},
   "outputs": [],
   "source": [
    "negative_reward = simulation_agg[simulation_agg['progress']<0]"
   ]
  },
  {
   "cell_type": "code",
   "execution_count": null,
   "metadata": {},
   "outputs": [],
   "source": [
    "this = complete_laps[complete_laps['reward'] > 105]"
   ]
  },
  {
   "cell_type": "code",
   "execution_count": null,
   "metadata": {
    "lines_to_next_cell": 2
   },
   "outputs": [],
   "source": [
    "df[df['unique_episode']==episode_id]"
   ]
  },
  {
   "cell_type": "code",
   "execution_count": null,
   "metadata": {},
   "outputs": [],
   "source": [
    "faulty_mask = df[(df['unique_episode']==episode_id) & (df['reward'] > 1)]\n",
    "faulty_mask = df[df['reward'] > 1]\n",
    "\n",
    "faulty_mask"
   ]
  },
  {
   "cell_type": "code",
   "execution_count": null,
   "metadata": {},
   "outputs": [],
   "source": [
    "\n",
    "pu.plot_selected_laps(faulty_mask, faulty_mask, track,single_plot=False)"
   ]
  },
  {
   "cell_type": "code",
   "execution_count": null,
   "metadata": {},
   "outputs": [],
   "source": []
  },
  {
   "cell_type": "code",
   "execution_count": null,
   "metadata": {},
   "outputs": [],
   "source": []
  }
 ],
 "metadata": {
  "jupytext": {
   "formats": "ipynb,py:light"
  },
  "kernelspec": {
   "display_name": "Python 3 (ipykernel)",
   "language": "python",
   "name": "python3"
  },
  "language_info": {
   "codemirror_mode": {
    "name": "ipython",
    "version": 3
   },
   "file_extension": ".py",
   "mimetype": "text/x-python",
   "name": "python",
   "nbconvert_exporter": "python",
   "pygments_lexer": "ipython3",
   "version": "3.7.6"
  }
 },
 "nbformat": 4,
 "nbformat_minor": 4
}
