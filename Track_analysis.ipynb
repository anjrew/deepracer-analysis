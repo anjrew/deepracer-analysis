{
 "cells": [
  {
   "cell_type": "code",
   "execution_count": 3,
   "metadata": {},
   "outputs": [],
   "source": [
    "#!{sys.executable} -m pip install --upgrade deepracer-utils\n"
   ]
  },
  {
   "cell_type": "code",
   "execution_count": 26,
   "metadata": {},
   "outputs": [],
   "source": [
    "class bcolors:\n",
    "    HEADER = '\\033[95m'\n",
    "    OKBLUE = '\\033[94m'\n",
    "    OKCYAN = '\\033[96m'\n",
    "    OKGREEN = '\\033[92m'\n",
    "    WARNING = '\\033[93m'\n",
    "    FAIL = '\\033[91m'\n",
    "    ENDC = '\\033[0m'\n",
    "    BOLD = '\\033[1m'\n",
    "    UNDERLINE = '\\033[4m'\n"
   ]
  },
  {
   "cell_type": "code",
   "execution_count": 27,
   "metadata": {},
   "outputs": [],
   "source": [
    "from deepracer.tracks import TrackIO, Track, GeometryUtils, TrackPlotter\n",
    "from deepracer.tracks.track_utils import track_breakdown, track_meta\n",
    "import math\n",
    "import numpy as np\n"
   ]
  },
  {
   "cell_type": "code",
   "execution_count": 28,
   "metadata": {},
   "outputs": [
    {
     "name": "stdout",
     "output_type": "stream",
     "text": [
      "Loaded 71 waypoints\n"
     ]
    },
    {
     "name": "stderr",
     "output_type": "stream",
     "text": [
      "<__array_function__ internals>:180: ShapelyDeprecationWarning: The array interface is deprecated and will no longer work in Shapely 2.0. Convert the '.coords' to a numpy array instead.\n"
     ]
    }
   ],
   "source": [
    "tu = TrackIO()\n",
    "track_name = \"reinvent_base\"\n",
    "track: Track = tu.load_track(track_name)\n"
   ]
  },
  {
   "cell_type": "code",
   "execution_count": 29,
   "metadata": {},
   "outputs": [
    {
     "data": {
      "image/png": "[encoded data removed]",
      "text/plain": [
       "<Figure size 640x480 with 1 Axes>"
      ]
     },
     "metadata": {},
     "output_type": "display_data"
    }
   ],
   "source": [
    "TrackPlotter.plot_track(track)\n"
   ]
  },
  {
   "cell_type": "code",
   "execution_count": 72,
   "metadata": {},
   "outputs": [
    {
     "data": {
      "text/plain": [
       "([0.6017725800257864,\n",
       "  0.6017236843242613,\n",
       "  0.6017117585434013,\n",
       "  0.6016867135492646,\n",
       "  0.6016199300307823],\n",
       " 71)"
      ]
     },
     "execution_count": 72,
     "metadata": {},
     "output_type": "execute_result"
    }
   ],
   "source": [
    "assert len(track.outer_border) == len(track.inner_border)\n",
    "track.outer_border\n",
    "track.inner_border\n",
    "\n",
    "track_widths = []\n",
    "for i, _ in enumerate(track.outer_border):\n",
    "    track_widths.append(\n",
    "        math.dist(track.outer_border[i], track.inner_border[i]))\n",
    "\n",
    "track_widths[:5]\n"
   ]
  },
  {
   "cell_type": "code",
   "execution_count": 101,
   "metadata": {},
   "outputs": [
    {
     "data": {
      "text/plain": [
       "(array([2.90999528, 0.68319247]), array([2.90999528, 0.68319247]))"
      ]
     },
     "execution_count": 101,
     "metadata": {},
     "output_type": "execute_result"
    }
   ],
   "source": [
    "track.center_line[0], track.center_line[-1]"
   ]
  },
  {
   "cell_type": "code",
   "execution_count": 73,
   "metadata": {},
   "outputs": [
    {
     "data": {
      "text/plain": [
       "71"
      ]
     },
     "execution_count": 73,
     "metadata": {},
     "output_type": "execute_result"
    }
   ],
   "source": [
    "len(track_widths)"
   ]
  },
  {
   "cell_type": "code",
   "execution_count": 61,
   "metadata": {},
   "outputs": [
    {
     "data": {
      "text/plain": [
       "(0.6242015289254961, 0.5906041356688785, 0.6089869570222295)"
      ]
     },
     "execution_count": 61,
     "metadata": {},
     "output_type": "execute_result"
    }
   ],
   "source": [
    "max(track_widths), min(track_widths), sum(track_widths) / len(track_widths)\n"
   ]
  },
  {
   "cell_type": "code",
   "execution_count": 62,
   "metadata": {},
   "outputs": [
    {
     "name": "stdout",
     "output_type": "stream",
     "text": [
      "For test ((-4, 8), (-4, 4), (-8, 4)), expected value (0, 0) and got (0, 0)\n",
      "For test ((-4, 8), (-4, 4), (-8, 4)), expected value (0, -4) and got (0, -4)\n",
      "For test ((-4, 8), (-4, 4), (-8, 4)), expected value (-4, -4) and got (-4, -4)\n"
     ]
    }
   ],
   "source": [
    "def put_to_origin(closest_waypoint, the_second_closest_wp, furthest_waypoint) -> tuple:\n",
    "    \"\"\"Move all the vectors to the origin relative to the closest_waypoint\"\"\"\n",
    "    new_closest_wp = (0, 0)\n",
    "    new_second_closest_wp = (\n",
    "        the_second_closest_wp[0] - closest_waypoint[0], the_second_closest_wp[1] - closest_waypoint[1])\n",
    "    new_furthest_wp = (\n",
    "        furthest_waypoint[0] - closest_waypoint[0], furthest_waypoint[1] - closest_waypoint[1])\n",
    "    return (new_closest_wp,  new_second_closest_wp, new_furthest_wp)\n",
    "    \n",
    "tests = [\n",
    "    {\n",
    "        'data': ((-4, 8), (-4, 4), (-8, 4)),\n",
    "        'expected_point': ((0, 0), (0, -4), (-4, -4))\n",
    "    },\n",
    "]\n",
    "\n",
    "for test in tests:\n",
    "    result = put_to_origin(*test['data'])\n",
    "    \n",
    "    for i, point in enumerate(result):\n",
    "        expected_point = test['expected_point'][i]\n",
    "        calculated_point = result[i]\n",
    "        assert expected_point[0] == calculated_point[0] and expected_point[1] == calculated_point[1], f'Result {calculated_point} did not match expected value {expected_point}'\n",
    "        print(f'For test {test[\"data\"]}, expected value {expected_point} and got {calculated_point}')"
   ]
  },
  {
   "cell_type": "code",
   "execution_count": 63,
   "metadata": {},
   "outputs": [
    {
     "name": "stdout",
     "output_type": "stream",
     "text": [
      "For test ((8, 6), (7, 9)), expected value 15.255118703057764 and got 15.255118703057764\n",
      "For test ((8, 6), (7, 9)), expected value 15.255118703057764 and got 15.255118703057764\n"
     ]
    }
   ],
   "source": [
    "def angle_of_vectors(ab,cd):\n",
    "    \"\"\"Returns the angle of the vectors\"\"\"\n",
    "    dot_product = ab[0]*cd[0] + ab[1]*cd[1]\n",
    "    mod_of_vector_1 = math.sqrt( ab[0]** 2 + ab[1]** 2)*math.sqrt(cd[0] ** 2 + cd[1] ** 2) \n",
    "    angle = dot_product/mod_of_vector_1\n",
    "    angle_in_degree = math.degrees(math.acos(angle))\n",
    "    return angle_in_degree\n",
    " \n",
    "tests = [\n",
    "    {\n",
    "        'data': ((8,6), (7,9)),\n",
    "        'expected_angle': 15.255118703057764\n",
    "    },\n",
    "    {\n",
    "        'data': ((8,6), (7,9)),\n",
    "        'expected_angle': 15.255118703057764\n",
    "    },\n",
    "]\n",
    "\n",
    "for test in tests:\n",
    "    result = angle_of_vectors(test['data'][0], test['data'][1])\n",
    "    expected_angle = test['expected_angle']\n",
    "    calculated_angle = result\n",
    "    assert expected_angle == calculated_angle, f'Result {calculated_angle} did not match expected value {expected_angle}'\n",
    "    print(f'For test {test[\"data\"]}, expected value {expected_angle} and got {calculated_angle}')"
   ]
  },
  {
   "cell_type": "code",
   "execution_count": 64,
   "metadata": {},
   "outputs": [
    {
     "name": "stdout",
     "output_type": "stream",
     "text": [
      "Result was, (4.0, 4.0)\n",
      "\u001b[92mTest Passes\u001b[0m\n",
      "For test ((0, 0), (-4, -4), 180), expected value (4, 4) and got (4.0, 4.0)\n",
      "Result was, (4.0, 4.0)\n",
      "\u001b[92mTest Passes\u001b[0m\n",
      "For test ((0, 0), (-4, -4), 180), expected value (4, 4) and got (4.0, 4.0)\n"
     ]
    }
   ],
   "source": [
    "def rotate_around_origin(origin, point, angle, decimel_points=2) -> tuple:\n",
    "    \"\"\"\n",
    "    Rotate a point counterclockwise by a given angle around a given origin.\n",
    "\n",
    "    The angle should be given in radians.\n",
    "    \"\"\"\n",
    "    angle = math.radians(angle)\n",
    "    ox, oy = origin\n",
    "    px, py = point\n",
    "\n",
    "    qx = ox + math.cos(angle) * (px - ox) - math.sin(angle) * (py - oy)\n",
    "    qy = oy + math.sin(angle) * (px - ox) + math.cos(angle) * (py - oy)\n",
    "    \n",
    "    return round(qx, decimel_points), round(qy, decimel_points)\n",
    "\n",
    "tests = [\n",
    "    {\n",
    "        'data': ((0, 0), (-4, -4), 180),\n",
    "        'expected_point': (4, 4)\n",
    "    },\n",
    "]\n",
    "\n",
    "\n",
    "for test in tests:\n",
    "    result = rotate_around_origin(*test['data'])\n",
    "    \n",
    "    for i, point in enumerate(result):\n",
    "        expected_point = test['expected_point']\n",
    "        calculated_point = result\n",
    "        print('Result was,', result)\n",
    "        assert expected_point[0] == calculated_point[0] and expected_point[1] == calculated_point[1], f'Result {calculated_point} did not match expected value {expected_point}'\n",
    "        print(bcolors.OKGREEN + \"Test Passes\" + bcolors.ENDC)\n",
    "        print(f'For test {test[\"data\"]}, expected value {expected_point} and got {calculated_point}')\n"
   ]
  },
  {
   "cell_type": "code",
   "execution_count": 65,
   "metadata": {},
   "outputs": [
    {
     "name": "stdout",
     "output_type": "stream",
     "text": [
      "Result ((0, 0), (0.0, 4.0), (4.0, 4.0)) Test {'data': ((0, 0), (0, -4), (-4, -4)), 'expected_point': ((0, 0), (0, 4), (4, 4))}\n",
      "For test ((0, 0), (0, -4), (-4, -4)), expected value (0, 0) and got (0, 0)\n",
      "For test ((0, 0), (0, -4), (-4, -4)), expected value (0, 4) and got (0.0, 4.0)\n",
      "For test ((0, 0), (0, -4), (-4, -4)), expected value (4, 4) and got (4.0, 4.0)\n"
     ]
    },
    {
     "name": "stderr",
     "output_type": "stream",
     "text": [
      "<>:3: SyntaxWarning: assertion is always true, perhaps remove parentheses?\n",
      "<>:3: SyntaxWarning: assertion is always true, perhaps remove parentheses?\n",
      "/tmp/ipykernel_571098/68622081.py:3: SyntaxWarning: assertion is always true, perhaps remove parentheses?\n",
      "  assert(closest_waypoint[0] == 0 and closest_waypoint[1] == 0 ,   'closest_waypoint[0] == 0 and closest_waypoint[1]', closest_waypoint[0] , closest_waypoint[1] )\n"
     ]
    }
   ],
   "source": [
    "def transform_to_origin(closest_waypoint, the_second_closest_wp, furthest_waypoint) -> tuple:\n",
    "    \"\"\"Align the vectors so that the closest and second closest waypoint are 0 on the x axis. This depends on the closest waypoint having the coordinates origin at 0,0\"\"\"\n",
    "    assert(closest_waypoint[0] == 0 and closest_waypoint[1] == 0 ,   'closest_waypoint[0] == 0 and closest_waypoint[1]', closest_waypoint[0] , closest_waypoint[1] )\n",
    "    second_point_origin_dist = math.dist((0,0), the_second_closest_wp)\n",
    "    second_point_transformed = (0, second_point_origin_dist)\n",
    "    degrees_of_rotation_needed = angle_of_vectors(second_point_transformed, the_second_closest_wp)\n",
    "    \n",
    "    new_second_closest_wp = rotate_around_origin(closest_waypoint, the_second_closest_wp, degrees_of_rotation_needed)\n",
    "\n",
    "    new_furthest_wp = rotate_around_origin(closest_waypoint, furthest_waypoint, degrees_of_rotation_needed)\n",
    "\n",
    "    return ( closest_waypoint, new_second_closest_wp, new_furthest_wp )\n",
    "\n",
    "tests = [\n",
    "    {\n",
    "        'data': ((0, 0), (0, -4), (-4, -4)),\n",
    "        'expected_point': ((0, 0), (0, 4), (4, 4))\n",
    "    },\n",
    "]\n",
    "\n",
    "for test in tests:\n",
    "    result = transform_to_origin(*test['data'])\n",
    "    print('Result', result,'Test', test)\n",
    "    \n",
    "    for i, point in enumerate(result):\n",
    "        expected_point = test['expected_point'][i]\n",
    "        calculated_point = result[i]\n",
    "        assert expected_point[0] == calculated_point[0] and expected_point[1] == calculated_point[1], f'Result {calculated_point} did not match expected value {expected_point}'\n",
    "        print(f'For test {test[\"data\"]}, expected value {expected_point} and got {calculated_point}')"
   ]
  },
  {
   "cell_type": "code",
   "execution_count": 69,
   "metadata": {},
   "outputs": [
    {
     "name": "stdout",
     "output_type": "stream",
     "text": [
      "For test {'data': ((0, 0), (0, 5), (-5, 5)), 'expected_ang': -45}, expected value -45 and got -45.0\n",
      "For test {'data': ((0, 0), (0, 5), (-4, 0)), 'expected_ang': -90}, expected value -90 and got -90.0\n",
      "For test {'data': ((0, 0), (0, 5), (-5, 0)), 'expected_ang': -90}, expected value -90 and got -90.0\n",
      "For test {'data': ((0, 0), (0, 5), (-5, 0)), 'expected_ang': -90}, expected value -90 and got -90.0\n",
      "For test {'data': ((-5, 7), (-5, 4), (-8, 4)), 'expected_ang': 45}, expected value 45 and got 45.0\n"
     ]
    }
   ],
   "source": [
    "\n",
    "\n",
    "def get_angle_deg(closest_waypoint, the_second_closest_wp, furthest_waypoint):\n",
    "    \"\"\"Get angle in degrees\"\"\"\n",
    "    \n",
    "    closest_waypoint, the_second_closest_wp, furthest_waypoint = put_to_origin(closest_waypoint, the_second_closest_wp, furthest_waypoint)\n",
    "    closest_waypoint, the_second_closest_wp, furthest_waypoint = transform_to_origin(closest_waypoint, the_second_closest_wp, furthest_waypoint)\n",
    "\n",
    "    angle = math.degrees(math.atan2(\n",
    "        furthest_waypoint[0], furthest_waypoint[1]))\n",
    "    return angle\n",
    "\n",
    "\n",
    "tests = [\n",
    "    {\n",
    "        'data': ((0, 0), (0, 5), (-5, 5)),\n",
    "        'expected_ang': -45\n",
    "    },\n",
    "    {\n",
    "        'data': ((0, 0), (0, 5), (-4, 0)),\n",
    "        'expected_ang': -90\n",
    "    },\n",
    "    {\n",
    "        'data': ((0, 0), (0, 5), (-5, 0)),\n",
    "        'expected_ang': -90\n",
    "    },\n",
    "    {\n",
    "        'data': ((0, 0), (0, 5), (-5, 0)),\n",
    "        'expected_ang': -90\n",
    "    },\n",
    "    {\n",
    "        'data': ((-5, 7), (-5, 4), (-8, 4)),\n",
    "        'expected_ang': 45\n",
    "    },\n",
    "]\n",
    "\n",
    "for test in tests:\n",
    "    result = get_angle_deg(*test['data'])\n",
    "    expected_angle = test['expected_ang']\n",
    "    print(f'For test {test}, expected value {expected_angle} and got {result}')\n",
    "    assert expected_angle == result, f'Result {result} did not match expected value {expected_angle}'\n"
   ]
  },
  {
   "cell_type": "code",
   "execution_count": 102,
   "metadata": {},
   "outputs": [
    {
     "name": "stdout",
     "output_type": "stream",
     "text": [
      "is_second_last_index 69\n",
      "Is last index 70\n",
      "Break on last index because it is a repeat of the first waypoint\n",
      "Angles \n",
      " [-0.0, 0.0, 0.0, -0.0, 0.0, -0.0, -0.0, 0.0, -0.658543177563603, -1.6846843178962914, -0.0, -11.309932474020215, -4.763641690726178, -3.2704879231835657, -7.125016348901798, -3.6913859864512757, -13.134022306396325, -2.0454084888872277, -16.69924423399362, -27.552811576717797, -44.3414568224364, -85.51539399045538, -108.43494882292201, -146.79342968491048, -169.7778313663639, 178.40885972880542, 180.0, 178.89829388479365, 179.0759546472273, -180.0, -169.69515353123398, -156.80140948635182, -132.42085249971657, -93.46822925891715, -78.69006752597979, -78.46537934635528, -78.46537934635528, -78.69006752597979, -80.69005982501396, -88.8542371618249, -119.05460409907717, -128.6598082540901, -149.03624346792648, -167.90524292298792, 174.47245984834385, 178.97696981133217, 176.63353933657018, 176.63353933657018, 171.46923439005187, 159.3410899366925, 96.25403274391647, 61.741970385293115, -2.602562202499806, -0.0, -0.0, 0.0, -0.0, 0.0, -0.0, -1.507435758774968, -1.0050860052541812, -3.576334374997351, -3.8140748342903543, 0.0, -2.8624052261117474, -4.085616779974877, -13.348727113287381, -7.744710546422915, 0.0, -0.0]\n",
      "The individual angles stats are, right_max: 180.0, left_max: -180.0, mean: -7.947656889366473, amount: 70\n"
     ]
    }
   ],
   "source": [
    "angles = []\n",
    "\n",
    "for i, _ in enumerate(track.center_line):\n",
    "    is_last_index = i == len(track.center_line) - 1\n",
    "    is_second_last_index = i == len(track.center_line) - 2\n",
    "    \n",
    "    if is_last_index == True:\n",
    "        print('Is last index', i)\n",
    "        print('Break on last index because it is a repeat of the first waypoint')\n",
    "        break\n",
    "    \n",
    "    if is_second_last_index == True:\n",
    "        print('is_second_last_index', i)\n",
    "        \n",
    "        \n",
    "    # print('is_last_index',is_last_index,'is_second_last_index',is_second_last_index)\n",
    "    last_index = i+1\n",
    "\n",
    "    second_point = track.center_line[0] if is_last_index else track.center_line[last_index]\n",
    "\n",
    "    third_point = track.center_line[0] if is_second_last_index else \\\n",
    "        track.center_line[1] \\\n",
    "        if is_last_index \\\n",
    "        else track.center_line[i+2]\n",
    "\n",
    "    current_wp = track.center_line[i]\n",
    "    \n",
    "    angle_result = get_angle_deg(\n",
    "        current_wp, second_point, third_point)\n",
    "    \n",
    "    if math.isnan(angle_result):\n",
    "        print('Angle result', angle_result)\n",
    "        print('NaN was found')\n",
    "        print(  \n",
    "            'is_last_index', is_last_index,\n",
    "            'is_second_last_index', is_second_last_index,\n",
    "            'current_wp', current_wp,\n",
    "            'last_index', last_index,\n",
    "            'second_point', second_point,\n",
    "            'third_point', third_point,\n",
    "        )\n",
    "\n",
    "\n",
    "    angles.append(angle_result)\n",
    "    \n",
    "\n",
    "print('Angles \\n', angles)\n",
    "print(\n",
    "    f'The individual angles stats are, right_max: {max(angles)}, left_max: {min(angles)}, mean: {sum(angles) / len(angles)}, amount: {len(angles)}')\n"
   ]
  },
  {
   "cell_type": "code",
   "execution_count": 103,
   "metadata": {},
   "outputs": [
    {
     "data": {
      "text/html": [
       "<div>\n",
       "<style scoped>\n",
       "    .dataframe tbody tr th:only-of-type {\n",
       "        vertical-align: middle;\n",
       "    }\n",
       "\n",
       "    .dataframe tbody tr th {\n",
       "        vertical-align: top;\n",
       "    }\n",
       "\n",
       "    .dataframe thead th {\n",
       "        text-align: right;\n",
       "    }\n",
       "</style>\n",
       "<table border=\"1\" class=\"dataframe\">\n",
       "  <thead>\n",
       "    <tr style=\"text-align: right;\">\n",
       "      <th></th>\n",
       "      <th>angles</th>\n",
       "    </tr>\n",
       "  </thead>\n",
       "  <tbody>\n",
       "    <tr>\n",
       "      <th>0</th>\n",
       "      <td>-0.000000</td>\n",
       "    </tr>\n",
       "    <tr>\n",
       "      <th>1</th>\n",
       "      <td>0.000000</td>\n",
       "    </tr>\n",
       "    <tr>\n",
       "      <th>2</th>\n",
       "      <td>0.000000</td>\n",
       "    </tr>\n",
       "    <tr>\n",
       "      <th>3</th>\n",
       "      <td>-0.000000</td>\n",
       "    </tr>\n",
       "    <tr>\n",
       "      <th>4</th>\n",
       "      <td>0.000000</td>\n",
       "    </tr>\n",
       "    <tr>\n",
       "      <th>...</th>\n",
       "      <td>...</td>\n",
       "    </tr>\n",
       "    <tr>\n",
       "      <th>65</th>\n",
       "      <td>-4.085617</td>\n",
       "    </tr>\n",
       "    <tr>\n",
       "      <th>66</th>\n",
       "      <td>-13.348727</td>\n",
       "    </tr>\n",
       "    <tr>\n",
       "      <th>67</th>\n",
       "      <td>-7.744711</td>\n",
       "    </tr>\n",
       "    <tr>\n",
       "      <th>68</th>\n",
       "      <td>0.000000</td>\n",
       "    </tr>\n",
       "    <tr>\n",
       "      <th>69</th>\n",
       "      <td>-0.000000</td>\n",
       "    </tr>\n",
       "  </tbody>\n",
       "</table>\n",
       "<p>70 rows × 1 columns</p>\n",
       "</div>"
      ],
      "text/plain": [
       "       angles\n",
       "0   -0.000000\n",
       "1    0.000000\n",
       "2    0.000000\n",
       "3   -0.000000\n",
       "4    0.000000\n",
       "..        ...\n",
       "65  -4.085617\n",
       "66 -13.348727\n",
       "67  -7.744711\n",
       "68   0.000000\n",
       "69  -0.000000\n",
       "\n",
       "[70 rows x 1 columns]"
      ]
     },
     "execution_count": 103,
     "metadata": {},
     "output_type": "execute_result"
    }
   ],
   "source": [
    "import pandas as pd\n",
    "\n",
    "df = pd.DataFrame({ 'angles': angles })\n",
    "df\n",
    "# df.to_csv('./angles.csv')\n",
    "\n",
    "\n"
   ]
  },
  {
   "cell_type": "code",
   "execution_count": 112,
   "metadata": {},
   "outputs": [
    {
     "name": "stdout",
     "output_type": "stream",
     "text": [
      "Angle for wp -0.0 [2.90999528 0.68319247]\n",
      "Angle for wp 0.0 [3.31999523 0.68333905]\n",
      "Angle for wp 0.0 [3.41999522 0.6833748 ]\n",
      "Angle for wp -0.0 [3.63000234 0.68344988]\n",
      "Angle for wp 0.0 [4.18999512 0.68365009]\n",
      "Angle for wp -0.0 [4.50000223 0.68376092]\n",
      "Angle for wp -0.0 [4.54999507 0.68377879]\n",
      "Angle for wp 0.0 [5.32000213 0.68405407]\n",
      "Angle for wp -0.658543177563603 [5.42000211 0.68408983]\n",
      "Angle for wp -1.6846843178962914 [5.78000207 0.68421853]\n",
      "Angle for wp -0.0 [6.28974786 0.69214001]\n",
      "Angle for wp -11.309932474020215 [6.46090648 0.71230635]\n",
      "Angle for wp -4.763641690726178 [6.51369806 0.72102941]\n",
      "Angle for wp -3.2704879231835657 [6.70428787 0.79959867]\n",
      "Angle for wp -7.125016348901798 [6.83628178 0.88170048]\n",
      "Angle for wp -3.6913859864512757 [6.99166336 1.00626532]\n",
      "Angle for wp -13.134022306396325 [7.11420746 1.16932251]\n",
      "Angle for wp -2.0454084888872277 [7.16583068 1.26342676]\n",
      "Angle for wp -16.69924423399362 [7.28001974 1.76283083]\n",
      "Angle for wp -27.552811576717797 [7.27289221 1.813237  ]\n",
      "Angle for wp -44.3414568224364 [7.2659607  1.86225687]\n",
      "Angle for wp -85.51539399045538 [7.10457477 2.30148749]\n",
      "Angle for wp -108.43494882292201 [7.01174901 2.41926029]\n",
      "Angle for wp -146.79342968491048 [6.72727371 2.64749248]\n",
      "Angle for wp -169.7778313663639 [6.53692122 2.72664476]\n",
      "Angle for wp 178.40885972880542 [6.07980218 2.77336077]\n",
      "Angle for wp 180.0 [5.91981365 2.77200597]\n",
      "Angle for wp 178.89829388479365 [5.71982799 2.77031248]\n",
      "Angle for wp 179.0759546472273 [5.67000093 2.76989054]\n",
      "Angle for wp -180.0 [5.20003463 2.76591082]\n",
      "Angle for wp -169.69515353123398 [5.04987603 2.76463926]\n",
      "Angle for wp -156.80140948635182 [5.00203087 2.76898071]\n",
      "Angle for wp -132.42085249971657 [4.94270999 2.77532785]\n",
      "Angle for wp -93.46822925891715 [4.56134017 2.89832251]\n",
      "Angle for wp -78.69006752597979 [4.25853311 3.16695522]\n",
      "Angle for wp -78.46537934635528 [4.09272854 3.37037486]\n",
      "Angle for wp -78.46537934635528 [4.00112197 3.48276364]\n",
      "Angle for wp -78.69006752597979 [3.77400008 3.76141127]\n",
      "Angle for wp -80.69005982501396 [3.68239351 3.87380006]\n",
      "Angle for wp -88.8542371618249 [3.54905875 4.03738366]\n",
      "Angle for wp -119.05460409907717 [3.2758533  4.33329532]\n",
      "Angle for wp -128.6598082540901 [3.19114636 4.38568483]\n",
      "Angle for wp -149.03624346792648 [3.09549452 4.43592231]\n",
      "Angle for wp -167.90524292298792 [2.95497389 4.48441361]\n",
      "Angle for wp 174.47245984834385 [2.80898223 4.50003865]\n",
      "Angle for wp 178.97696981133217 [2.81100456 4.49983203]\n",
      "Angle for wp 176.63353933657018 [2.5003277  4.49871816]\n",
      "Angle for wp 176.63353933657018 [2.24937757 4.49142897]\n",
      "Angle for wp 171.46923439005187 [1.99017718 4.48390014]\n",
      "Angle for wp 159.3410899366925 [1.73951727 4.47661938]\n",
      "Angle for wp 96.25403274391647 [1.18711561 4.39179293]\n",
      "Angle for wp 61.741970385293115 [1.10543894 4.34023073]\n",
      "Angle for wp -2.602562202499806 [0.73161963 3.81965884]\n",
      "Angle for wp -0.0 [0.70804689 3.52959532]\n",
      "Angle for wp -0.0 [0.87473194 2.72512442]\n",
      "Angle for wp 0.0 [0.88631196 2.66923584]\n",
      "Angle for wp -0.0 [0.91809904 2.51582208]\n",
      "Angle for wp 0.0 [0.93803747 2.41959337]\n",
      "Angle for wp -0.0 [1.02120993 2.01817871]\n",
      "Angle for wp -1.507435758774968 [1.04306355 1.91270675]\n",
      "Angle for wp -1.0050860052541812 [1.09362565 1.66867925]\n",
      "Angle for wp -3.576334374997351 [1.21972441 1.16988941]\n",
      "Angle for wp -3.8140748342903543 [1.24046201 1.11821104]\n",
      "Angle for wp 0.0 [1.2866114  1.02701934]\n",
      "Angle for wp -2.8624052261117474 [1.31953443 0.98959047]\n",
      "Angle for wp -4.085616779974877 [1.38974261 0.9097736 ]\n",
      "Angle for wp -13.348727113287381 [1.45638538 0.84353085]\n",
      "Angle for wp -7.744710546422915 [1.49964287 0.81936084]\n",
      "Angle for wp 0.0 [2.04000254 0.68288144]\n",
      "Angle for wp -0.0 [2.75000245 0.68313528]\n",
      "Is last index 70\n",
      "Break on last index because it is a repeat of the first waypoint\n"
     ]
    },
    {
     "data": {
      "image/png": "[encoded data removed]",
      "text/plain": [
       "<Figure size 640x480 with 1 Axes>"
      ]
     },
     "metadata": {},
     "output_type": "display_data"
    }
   ],
   "source": [
    "import matplotlib.pyplot as plt\n",
    "\n",
    "def plot_coords(ax, track, angles, annotate=False, ):                                                        \n",
    "    if annotate is True:                                                         \n",
    "        for i, wp in enumerate(track.center_line):\n",
    "            is_last_index = i == len(track.center_line) - 1\n",
    "\n",
    "            if is_last_index == True:\n",
    "                print('Is last index', i)\n",
    "                print('Break on last index because it is a repeat of the first waypoint')\n",
    "                return\n",
    "            relative_angle = angles[i]\n",
    "            print('Angle for wp', relative_angle, wp)\n",
    "            plt.annotate(\n",
    "                    str(round(angles[i])), # this is the text\n",
    "                    (wp), # these are the coordinates to position the label\n",
    "                    textcoords=\"offset points\", # how to position the text\n",
    "                    xytext=(0,0), # distance from text to points (x,y)\n",
    "                    ha='center'\n",
    "                ) # horizontal alignment can be left, right or center  \n",
    "              \n",
    "plot_coords(1, track, angles, True )\n",
    "TrackPlotter.plot_track(track)"
   ]
  },
  {
   "cell_type": "code",
   "execution_count": 86,
   "metadata": {},
   "outputs": [],
   "source": [
    "# CORNER_THRESHOLD_ANGLE = 0.5\n",
    "\n",
    "# corners = []\n",
    "# current_corner = {'id': 0}\n",
    "\n",
    "# for i, _ in enumerate(track.center_line):\n",
    "\n",
    "#     is_last_index = i == len(track.center_line) -1\n",
    "\n",
    "#     second_point = track.center_line[0] if is_last_index else track.center_line[i+1]\n",
    "\n",
    "#     angles.append(get_angle_deg(track.center_line[i], second_point))\n",
    "\n",
    "# print(\n",
    "#     f'The individual angles stats are, max: {max(angles)}, min: {min(angles)}, mean: {sum(angles) / len(angles)}')\n"
   ]
  },
  {
   "cell_type": "code",
   "execution_count": null,
   "metadata": {},
   "outputs": [],
   "source": []
  }
 ],
 "metadata": {
  "kernelspec": {
   "display_name": "Python 3.8.10 64-bit",
   "language": "python",
   "name": "python3"
  },
  "language_info": {
   "codemirror_mode": {
    "name": "ipython",
    "version": 3
   },
   "file_extension": ".py",
   "mimetype": "text/x-python",
   "name": "python",
   "nbconvert_exporter": "python",
   "pygments_lexer": "ipython3",
   "version": "3.8.10"
  },
  "orig_nbformat": 4,
  "vscode": {
   "interpreter": {
    "hash": "916dbcbb3f70747c44a77c7bcd40155683ae19c65e1c03b4aa3499c5328201f1"
   }
  }
 },
 "nbformat": 4,
 "nbformat_minor": 2
}
