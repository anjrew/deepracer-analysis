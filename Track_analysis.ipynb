{
 "cells": [
  {
   "cell_type": "code",
   "execution_count": 3,
   "metadata": {},
   "outputs": [],
   "source": [
    "#!{sys.executable} -m pip install --upgrade deepracer-utils"
   ]
  },
  {
   "cell_type": "code",
   "execution_count": 4,
   "metadata": {},
   "outputs": [],
   "source": [
    "from deepracer.tracks import TrackIO, Track, GeometryUtils, TrackPlotter\n",
    "from deepracer.tracks.track_utils import track_breakdown, track_meta\n",
    "import math\n",
    "import numpy as np"
   ]
  },
  {
   "cell_type": "code",
   "execution_count": 5,
   "metadata": {},
   "outputs": [
    {
     "name": "stdout",
     "output_type": "stream",
     "text": [
      "Loaded 71 waypoints\n"
     ]
    },
    {
     "name": "stderr",
     "output_type": "stream",
     "text": [
      "<__array_function__ internals>:180: ShapelyDeprecationWarning: The array interface is deprecated and will no longer work in Shapely 2.0. Convert the '.coords' to a numpy array instead.\n"
     ]
    }
   ],
   "source": [
    "tu = TrackIO()\n",
    "track_name = \"reinvent_base\"\n",
    "track: Track = tu.load_track(track_name)"
   ]
  },
  {
   "cell_type": "code",
   "execution_count": 6,
   "metadata": {},
   "outputs": [
    {
     "data": {
      "image/png": "[encoded data removed]",
      "text/plain": [
       "<Figure size 640x480 with 1 Axes>"
      ]
     },
     "metadata": {},
     "output_type": "display_data"
    }
   ],
   "source": [
    "TrackPlotter.plot_track(track)"
   ]
  },
  {
   "cell_type": "code",
   "execution_count": 7,
   "metadata": {},
   "outputs": [
    {
     "data": {
      "text/plain": [
       "[0.6017725800257864,\n",
       " 0.6017236843242612,\n",
       " 0.6017117585434013,\n",
       " 0.6016867135492645,\n",
       " 0.6016199300307823]"
      ]
     },
     "execution_count": 7,
     "metadata": {},
     "output_type": "execute_result"
    }
   ],
   "source": [
    "assert len(track.outer_border) == len(track.inner_border)\n",
    "track.outer_border\n",
    "track.inner_border\n",
    "\n",
    "track_widths = []\n",
    "for i, _ in enumerate(track.outer_border):\n",
    "    track_widths.append(math.dist(track.outer_border[i], track.inner_border[i]))\n",
    "\n",
    "track_widths[:5]\n"
   ]
  },
  {
   "cell_type": "code",
   "execution_count": 8,
   "metadata": {},
   "outputs": [
    {
     "data": {
      "text/plain": [
       "(0.6242015289254961, 0.5906041356688785, 0.6089869570222295)"
      ]
     },
     "execution_count": 8,
     "metadata": {},
     "output_type": "execute_result"
    }
   ],
   "source": [
    "max(track_widths), min(track_widths), sum(track_widths) / len(track_widths)"
   ]
  },
  {
   "cell_type": "code",
   "execution_count": 96,
   "metadata": {},
   "outputs": [
    {
     "name": "stdout",
     "output_type": "stream",
     "text": [
      "\n",
      "----- Getting angle in degrees -----\n",
      "Inputs (0, 0) (0, 5) (-5, 5)\n",
      "dist_cl_to_second term 5.0\n",
      "dist_cl_to_last term 7.0710678118654755\n",
      "dist_cl_to_last term 5.0\n",
      "hypotenuse_from_first_to_last 7.0710678118654755\n",
      "For test {'data': ((0, 0), (0, 5), (-5, 5)), 'expected_ang': -45}, expected value -45 and got -45.0\n",
      "\n",
      "----- Getting angle in degrees -----\n",
      "Inputs (0, 0) (0, 5) (-4, 0)\n",
      "dist_cl_to_second term 5.0\n",
      "dist_cl_to_last term 4.0\n",
      "dist_cl_to_last term 6.4031242374328485\n",
      "hypotenuse_from_first_to_last 4.0\n",
      "For test {'data': ((0, 0), (0, 5), (-4, 0)), 'expected_ang': -90}, expected value -90 and got -90.0\n",
      "\n",
      "----- Getting angle in degrees -----\n",
      "Inputs (0, 0) (0, 5) (-5, 0)\n",
      "dist_cl_to_second term 5.0\n",
      "dist_cl_to_last term 5.0\n",
      "dist_cl_to_last term 7.0710678118654755\n",
      "hypotenuse_from_first_to_last 5.0\n",
      "For test {'data': ((0, 0), (0, 5), (-5, 0)), 'expected_ang': -90}, expected value -90 and got -90.0\n"
     ]
    }
   ],
   "source": [
    "from math import atan2, degrees, radians\n",
    " \n",
    "# def get_angle_deg(closest_waypoint, the_second_closest_wp, furthest_waypoint):\n",
    "#     \"\"\"Get angle in degrees\"\"\"\n",
    "#     print('Inputs',closest_waypoint, the_second_closest_wp, furthest_waypoint)\n",
    "#     first_term = math.atan2(furthest_waypoint[1]-closest_waypoint[1], furthest_waypoint[0]-closest_waypoint[0])\n",
    "#     print('first term',first_term)\n",
    "#     second_term = math.atan2(the_second_closest_wp[1]-closest_waypoint[1], the_second_closest_wp[0]-closest_waypoint[0])\n",
    "#     print('second term', second_term)\n",
    "    \n",
    "#     ang = math.degrees(first_term - second_term)\n",
    "#     return ang + 360 if ang < 0 else ang\n",
    "def get_angle_deg(closest_waypoint, the_second_closest_wp, furthest_waypoint):\n",
    "    \"\"\"Get angle in degrees\"\"\"\n",
    "    \n",
    "    print('\\n----- Getting angle in degrees -----')\n",
    "    print('Inputs',closest_waypoint, the_second_closest_wp, furthest_waypoint)\n",
    "    \n",
    "    dist_cl_to_second = math.dist(closest_waypoint, the_second_closest_wp)\n",
    "    print('dist_cl_to_second term',dist_cl_to_second)\n",
    "\n",
    "    dist_cl_to_last = math.dist(closest_waypoint, furthest_waypoint)\n",
    "    print('dist_cl_to_last term',dist_cl_to_last)\n",
    "    \n",
    "    dist_second_to_last = math.dist(the_second_closest_wp, furthest_waypoint)\n",
    "    print('dist_cl_to_last term',dist_second_to_last)\n",
    "    \n",
    "    hypotenuse_from_first_to_last = math.sqrt(furthest_waypoint[0]**2 + furthest_waypoint[1]**2)  \n",
    "    print('hypotenuse_from_first_to_last',hypotenuse_from_first_to_last)\n",
    "    assert(hypotenuse_from_first_to_last == dist_cl_to_last)\n",
    "    \n",
    "    # arc_tan_term_one = hypotenuse_from_first_to_last**2 + furthest_waypoint[0]**2 - furthest_waypoint[1]**2\n",
    "    # arc_tan_term_two = 2 * hypotenuse_from_first_to_last * furthest_waypoint[1]\n",
    "    # angle_from_first = math.degrees(math.acos(arc_tan_term_one/ arc_tan_term_two))\n",
    "    # print('angle_from_first', angle_from_first)\n",
    "\n",
    "    # bearing = math.degrees(math.atan2(dist_cl_to_second, dist_cl_to_last))\n",
    "    # print('Bearing is', bearing)\n",
    "    # print('furthest_waypoint', furthest_waypoint)\n",
    "    # print('furthest_waypoint[0]/ furthest_waypoint[1]', furthest_waypoint[0], furthest_waypoint[1])\n",
    "    # x_div_y = 0 if furthest_waypoint[0] == 0 else furthest_waypoint[1]/ furthest_waypoint[0]\n",
    "    # x_div_y = dist_second_to_last / dist_cl_to_second\n",
    "    # x_div_y = furthest_waypoint[1] / closest_waypoint[0]\n",
    "    \n",
    "    # print('x_div_y',x_div_y)\n",
    "    angle = math.degrees(math.atan2(furthest_waypoint[0], furthest_waypoint[1]))\n",
    "    return angle\n",
    " \n",
    "tests = [\n",
    "            {   \n",
    "                'data':((0, 0), (0, 5), (-5, 5)),\n",
    "                'expected_ang': -45\n",
    "            },   \n",
    "            {   \n",
    "                'data':((0, 0), (0, 5), (-4, 0)),\n",
    "                'expected_ang': -90\n",
    "            },   \n",
    "            {   \n",
    "                'data':((0, 0), (0, 5), (-5, 0)),\n",
    "                'expected_ang': -90\n",
    "            }, \n",
    "         ] \n",
    "\n",
    "for test in tests:\n",
    "    result=get_angle_deg(*test['data'])\n",
    "    expected_angle = test['expected_ang']\n",
    "    assert expected_angle == result, f'Result {result} did not match expected value {expected_angle}'\n",
    "    print(f'For test {test}, expected value {expected_angle} and got {result}')\n",
    " \n",
    "# pos_90_1=((0, 0), (-5, 5), (0, 5))\n",
    "# ass_pos_90_1 = get_angle_deg(*pos_90_1)\n",
    "# assert ass_pos_90_1 == 90 \n",
    "\n",
    "# print('Should be 45:', get_angle_deg((0, 0),(5, 0), (-5, 5)))\n",
    "# print('Should be 45:', get_angle_deg((0, 0), (5, 0), (5, 5)))\n",
    "# print('Should be 90:', ass_pos_90_1)\n"
   ]
  },
  {
   "cell_type": "code",
   "execution_count": 21,
   "metadata": {},
   "outputs": [
    {
     "name": "stdout",
     "output_type": "stream",
     "text": [
      "The individual angles stats are, right_max: 360.0, left_max: 0.0, mean: 86.1412908622458\n"
     ]
    }
   ],
   "source": [
    "angles = []\n",
    "for i, _ in enumerate(track.center_line):\n",
    "    is_last_index = i == len(track.center_line) - 1\n",
    "    is_second_last_index = i == len(track.center_line) - 2\n",
    "    last_index = i+1\n",
    "    \n",
    "    second_point = track.center_line[0]if is_last_index else track.center_line[last_index] \n",
    "\n",
    "    third_point = track.center_line[0] if is_second_last_index else \\\n",
    "        track.center_line[1] \\\n",
    "            if is_last_index \\\n",
    "                else track.center_line[i+2]\n",
    "         \n",
    "    angles.append(get_angle_deg(track.center_line[i], second_point, third_point))\n",
    "\n",
    "print(f'The individual angles stats are, right_max: {max(angles)}, left_max: {min(angles)}, mean: {sum(angles) / len(angles)}')"
   ]
  },
  {
   "cell_type": "code",
   "execution_count": 33,
   "metadata": {},
   "outputs": [
    {
     "name": "stdout",
     "output_type": "stream",
     "text": [
      "The individual angles stats are, max: 3.039774025327458, min: -3.141235144419253, mean: -0.4881785381388011\n"
     ]
    }
   ],
   "source": [
    "CORNER_THRESHOLD_ANGLE = 0.5\n",
    "\n",
    "corners=[]\n",
    "current_corner={ 'id': 0 }\n",
    "\n",
    "for i, _ in enumerate(track.center_line):\n",
    "    \n",
    "    # is_last_index = i == len(track.center_line) -1\n",
    "    \n",
    "    second_point = track.center_line[0]if is_last_index else track.center_line[i+1] \n",
    "    \n",
    "    angles.append(get_angle_deg(track.center_line[i], second_point))\n",
    "\n",
    "print(f'The individual angles stats are, max: {max(angles)}, min: {min(angles)}, mean: {sum(angles) / len(angles)}')"
   ]
  },
  {
   "cell_type": "code",
   "execution_count": null,
   "metadata": {},
   "outputs": [],
   "source": []
  }
 ],
 "metadata": {
  "kernelspec": {
   "display_name": "Python 3.10.6 64-bit",
   "language": "python",
   "name": "python3"
  },
  "language_info": {
   "codemirror_mode": {
    "name": "ipython",
    "version": 3
   },
   "file_extension": ".py",
   "mimetype": "text/x-python",
   "name": "python",
   "nbconvert_exporter": "python",
   "pygments_lexer": "ipython3",
   "version": "3.10.6"
  },
  "orig_nbformat": 4,
  "vscode": {
   "interpreter": {
    "hash": "44a9cdcbdccbf05a880e90d2e6fe72470baab4d1b82472d890be0596ed887a6b"
   }
  }
 },
 "nbformat": 4,
 "nbformat_minor": 2
}
