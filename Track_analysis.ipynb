{
 "cells": [
  {
   "cell_type": "code",
   "execution_count": 1,
   "metadata": {},
   "outputs": [],
   "source": [
    "#!{sys.executable} -m pip install --upgrade deepracer-utils\n"
   ]
  },
  {
   "cell_type": "code",
   "execution_count": 2,
   "metadata": {},
   "outputs": [],
   "source": [
    "class bcolors:\n",
    "    HEADER = '\\033[95m'\n",
    "    OKBLUE = '\\033[94m'\n",
    "    OKCYAN = '\\033[96m'\n",
    "    OKGREEN = '\\033[92m'\n",
    "    WARNING = '\\033[93m'\n",
    "    FAIL = '\\033[91m'\n",
    "    ENDC = '\\033[0m'\n",
    "    BOLD = '\\033[1m'\n",
    "    UNDERLINE = '\\033[4m'\n"
   ]
  },
  {
   "cell_type": "code",
   "execution_count": 3,
   "metadata": {},
   "outputs": [],
   "source": [
    "from deepracer.tracks import TrackIO, Track, GeometryUtils, TrackPlotter\n",
    "from deepracer.tracks.track_utils import track_breakdown, track_meta\n",
    "import math\n",
    "import numpy as np\n"
   ]
  },
  {
   "cell_type": "code",
   "execution_count": 4,
   "metadata": {},
   "outputs": [
    {
     "name": "stdout",
     "output_type": "stream",
     "text": [
      "Loaded 112 waypoints\n"
     ]
    },
    {
     "name": "stderr",
     "output_type": "stream",
     "text": [
      "<__array_function__ internals>:180: ShapelyDeprecationWarning: The array interface is deprecated and will no longer work in Shapely 2.0. Convert the '.coords' to a numpy array instead.\n"
     ]
    }
   ],
   "source": [
    "tu = TrackIO()\n",
    "track_name = \"2022_reinvent_champ\"\n",
    "track: Track = tu.load_track(track_name)\n"
   ]
  },
  {
   "cell_type": "code",
   "execution_count": 5,
   "metadata": {},
   "outputs": [
    {
     "data": {
      "image/png": "[encoded data removed]",
      "text/plain": [
       "<Figure size 640x480 with 1 Axes>"
      ]
     },
     "metadata": {},
     "output_type": "display_data"
    }
   ],
   "source": [
    "TrackPlotter.plot_track(track)\n"
   ]
  },
  {
   "cell_type": "code",
   "execution_count": 6,
   "metadata": {},
   "outputs": [
    {
     "data": {
      "text/plain": [
       "[0.950000314998835,\n",
       " 0.9500000823415634,\n",
       " 0.9500002285517173,\n",
       " 0.949999807097509,\n",
       " 0.9499996967100073]"
      ]
     },
     "execution_count": 6,
     "metadata": {},
     "output_type": "execute_result"
    }
   ],
   "source": [
    "assert len(track.outer_border) == len(track.inner_border)\n",
    "track.outer_border\n",
    "track.inner_border\n",
    "\n",
    "track_widths = []\n",
    "for i, _ in enumerate(track.outer_border):\n",
    "    track_widths.append(\n",
    "        math.dist(track.outer_border[i], track.inner_border[i]))\n",
    "\n",
    "track_widths[:5]\n"
   ]
  },
  {
   "cell_type": "code",
   "execution_count": 7,
   "metadata": {},
   "outputs": [
    {
     "data": {
      "text/plain": [
       "(array([0.7088999 , 0.35731884]), array([0.7088999 , 0.35731884]))"
      ]
     },
     "execution_count": 7,
     "metadata": {},
     "output_type": "execute_result"
    }
   ],
   "source": [
    "track.center_line[0], track.center_line[-1]"
   ]
  },
  {
   "cell_type": "code",
   "execution_count": 8,
   "metadata": {},
   "outputs": [
    {
     "data": {
      "text/plain": [
       "112"
      ]
     },
     "execution_count": 8,
     "metadata": {},
     "output_type": "execute_result"
    }
   ],
   "source": [
    "len(track_widths)"
   ]
  },
  {
   "cell_type": "code",
   "execution_count": 9,
   "metadata": {},
   "outputs": [
    {
     "data": {
      "text/plain": [
       "(0.9500009974512499, 0.9499992170703725, 0.9499999806774512)"
      ]
     },
     "execution_count": 9,
     "metadata": {},
     "output_type": "execute_result"
    }
   ],
   "source": [
    "max(track_widths), min(track_widths), sum(track_widths) / len(track_widths)\n"
   ]
  },
  {
   "cell_type": "code",
   "execution_count": 10,
   "metadata": {},
   "outputs": [
    {
     "name": "stdout",
     "output_type": "stream",
     "text": [
      "For test ((-4, 8), (-4, 4), (-8, 4)), expected value (0, 0) and got (0, 0)\n",
      "For test ((-4, 8), (-4, 4), (-8, 4)), expected value (0, -4) and got (0, -4)\n",
      "For test ((-4, 8), (-4, 4), (-8, 4)), expected value (-4, -4) and got (-4, -4)\n",
      "For test ((6.84, 0.88), (6.99, 1.01), (7.11, 1.17)), expected value (0, 0) and got (0, 0)\n",
      "For test ((6.84, 0.88), (6.99, 1.01), (7.11, 1.17)), expected value (0.15, 0.13) and got (0.15, 0.13)\n",
      "For test ((6.84, 0.88), (6.99, 1.01), (7.11, 1.17)), expected value (0.27, 0.29) and got (0.27, 0.29)\n"
     ]
    }
   ],
   "source": [
    "def put_to_origin(closest_waypoint, the_second_closest_wp, furthest_waypoint) -> tuple:\n",
    "    \"\"\"Move all the vectors to the origin relative to the closest_waypoint\"\"\"\n",
    "    new_closest_wp = (0, 0)\n",
    "    \n",
    "    new_second_closest_wp = (\n",
    "        round(the_second_closest_wp[0] - closest_waypoint[0], 2), round(the_second_closest_wp[1] - closest_waypoint[1], 2))\n",
    "    new_furthest_wp = (\n",
    "        round(furthest_waypoint[0] - closest_waypoint[0], 2), round(furthest_waypoint[1] - closest_waypoint[1],2))\n",
    "    # new_second_closest_wp = (\n",
    "    #     the_second_closest_wp[0] - closest_waypoint[0], the_second_closest_wp[1] - closest_waypoint[1])\n",
    "    # new_furthest_wp = (\n",
    "    #     furthest_waypoint[0] - closest_waypoint[0], furthest_waypoint[1] - closest_waypoint[1])\n",
    "    return (new_closest_wp,  new_second_closest_wp, new_furthest_wp)\n",
    "    \n",
    "tests = [\n",
    "    {\n",
    "        'data': ((-4, 8), (-4, 4), (-8, 4)),\n",
    "        'expected_point': ((0, 0), (0, -4), (-4, -4))\n",
    "    },\n",
    "    {\n",
    "        'data': ((6.84, 0.88), (6.99, 1.01), (7.11, 1.17)),\n",
    "        'expected_point': ((0, 0), (0.15, 0.13), (0.27, 0.29))\n",
    "    },\n",
    "]\n",
    "\n",
    "for test in tests:\n",
    "    result = put_to_origin(*test['data'])\n",
    "    \n",
    "    for i, point in enumerate(result):\n",
    "        expected_point = test['expected_point'][i]\n",
    "        calculated_point = result[i]\n",
    "        assert expected_point[0] == calculated_point[0] and expected_point[1] == calculated_point[1], f'Result {calculated_point} did not match expected value {expected_point}'\n",
    "        print(f'For test {test[\"data\"]}, expected value {expected_point} and got {calculated_point}')"
   ]
  },
  {
   "cell_type": "code",
   "execution_count": 11,
   "metadata": {},
   "outputs": [
    {
     "name": "stdout",
     "output_type": "stream",
     "text": [
      "For test ((8, 6), (7, 9)), expected value 15.26 and got 15.26\n",
      "For test ((8, 6), (7, 9)), expected value 15.26 and got 15.26\n",
      "For test ((0.15, 0.13), (0.27, 0.29)), expected value 6.13 and got 6.13\n"
     ]
    }
   ],
   "source": [
    "def angle_of_vectors(ab,cd):\n",
    "    \"\"\"Returns the angle of the vectors\"\"\"\n",
    "    dot_product = ab[0]*cd[0] + ab[1]*cd[1]\n",
    "    mod_of_vector_1 = math.sqrt( ab[0]** 2 + ab[1]** 2)*math.sqrt(cd[0] ** 2 + cd[1] ** 2) \n",
    "    angle = dot_product/mod_of_vector_1\n",
    "    angle_in_degree = math.degrees(math.acos(angle))\n",
    "    return round(angle_in_degree,2)\n",
    " \n",
    "tests = [\n",
    "    {\n",
    "        'data': ((8,6), (7,9)),\n",
    "        'expected_angle': 15.26\n",
    "    },\n",
    "    {\n",
    "        'data': ((8,6), (7,9)),\n",
    "        'expected_angle': 15.26\n",
    "    },\n",
    "    {\n",
    "        'data': ((0.15, 0.13), (0.27, 0.29)),\n",
    "        'expected_angle': 6.13\n",
    "    },\n",
    "]\n",
    "\n",
    "for test in tests:\n",
    "    result = angle_of_vectors(test['data'][0], test['data'][1])\n",
    "    expected_angle = test['expected_angle']\n",
    "    calculated_angle = result\n",
    "    assert expected_angle == calculated_angle, f'Result {calculated_angle} did not match expected value {expected_angle}'\n",
    "    print(f'For test {test[\"data\"]}, expected value {expected_angle} and got {calculated_angle}')"
   ]
  },
  {
   "cell_type": "code",
   "execution_count": 12,
   "metadata": {},
   "outputs": [
    {
     "name": "stdout",
     "output_type": "stream",
     "text": [
      "Result was, (4.0, 4.0)\n",
      "\u001b[92mTest Passes\u001b[0m\n",
      "For test ((0, 0), (-4, -4), 180), expected value (4, 4) and got (4.0, 4.0)\n",
      "Result was, (4.0, 4.0)\n",
      "\u001b[92mTest Passes\u001b[0m\n",
      "For test ((0, 0), (-4, -4), 180), expected value (4, 4) and got (4.0, 4.0)\n"
     ]
    }
   ],
   "source": [
    "def rotate_around_origin(origin, point, angle, decimel_points=2) -> tuple: # <<<<< SOMETHING IS WRONG HERE\n",
    "    \"\"\"\n",
    "    Rotate a point counterclockwise by a given angle around a given origin.\n",
    "\n",
    "    The angle should be given in radians.\n",
    "    \"\"\"\n",
    "    # print('origin', origin, 'point', point, 'angle', angle, 'decimel_points', decimel_points)\n",
    "    angle = math.radians(angle)\n",
    "    ox, oy = origin\n",
    "    # print('ox, oy', ox, oy)\n",
    "    px, py = point\n",
    "    # print('px, py', px, py)\n",
    "\n",
    "    qx = ox + math.cos(angle) * (px - ox) - math.sin(angle) * (py - oy)\n",
    "    qy = oy + math.sin(angle) * (px - ox) + math.cos(angle) * (py - oy)\n",
    "    \n",
    "    return round(qx, decimel_points), round(qy, decimel_points)\n",
    "\n",
    "tests = [\n",
    "    {\n",
    "        'data': ((0, 0), (-4, -4), 180),\n",
    "        'expected_point': (4, 4)\n",
    "    },\n",
    "#     {\n",
    "#         'data': ((0, 0), (0.15, 0.13), 6.13),\n",
    "#         'expected_point': (0.163, 0.113) ## Confirmed twice\n",
    "#     },\n",
    "]\n",
    "\n",
    "\n",
    "for test in tests:\n",
    "    result = rotate_around_origin(*test['data'])\n",
    "    \n",
    "    for i, point in enumerate(result):\n",
    "        expected_point = test['expected_point']\n",
    "        calculated_point = result\n",
    "        print('Result was,', result)\n",
    "        assert expected_point[0] == calculated_point[0] and expected_point[1] == calculated_point[1], f'Result {calculated_point} did not match expected value {expected_point}'\n",
    "        print(bcolors.OKGREEN + \"Test Passes\" + bcolors.ENDC)\n",
    "        print(f'For test {test[\"data\"]}, expected value {expected_point} and got {calculated_point}')\n"
   ]
  },
  {
   "cell_type": "code",
   "execution_count": 13,
   "metadata": {},
   "outputs": [
    {
     "name": "stdout",
     "output_type": "stream",
     "text": [
      "Result ((0, 0), (0.0, 4.0), (4.0, 4.0)) Test {'data': ((0, 0), (0, -4), (-4, -4)), 'expected_point': ((0, 0), (0, 4), (4, 4))}\n",
      "For test ((0, 0), (0, -4), (-4, -4)), expected value (0, 0) and got (0, 0)\n",
      "For test ((0, 0), (0, -4), (-4, -4)), expected value (0, 4) and got (0.0, 4.0)\n",
      "For test ((0, 0), (0, -4), (-4, -4)), expected value (4, 4) and got (4.0, 4.0)\n"
     ]
    },
    {
     "name": "stderr",
     "output_type": "stream",
     "text": [
      "<>:3: SyntaxWarning: assertion is always true, perhaps remove parentheses?\n",
      "<>:3: SyntaxWarning: assertion is always true, perhaps remove parentheses?\n",
      "/tmp/ipykernel_721378/68622081.py:3: SyntaxWarning: assertion is always true, perhaps remove parentheses?\n",
      "  assert(closest_waypoint[0] == 0 and closest_waypoint[1] == 0 ,   'closest_waypoint[0] == 0 and closest_waypoint[1]', closest_waypoint[0] , closest_waypoint[1] )\n"
     ]
    }
   ],
   "source": [
    "def transform_to_origin(closest_waypoint, the_second_closest_wp, furthest_waypoint) -> tuple:\n",
    "    \"\"\"Align the vectors so that the closest and second closest waypoint are 0 on the x axis. This depends on the closest waypoint having the coordinates origin at 0,0\"\"\"\n",
    "    assert(closest_waypoint[0] == 0 and closest_waypoint[1] == 0 ,   'closest_waypoint[0] == 0 and closest_waypoint[1]', closest_waypoint[0] , closest_waypoint[1] )\n",
    "    second_point_origin_dist = math.dist((0,0), the_second_closest_wp)\n",
    "    second_point_transformed = (0, second_point_origin_dist)\n",
    "    degrees_of_rotation_needed = angle_of_vectors(second_point_transformed, the_second_closest_wp)\n",
    "    \n",
    "    new_second_closest_wp = rotate_around_origin(closest_waypoint, the_second_closest_wp, degrees_of_rotation_needed)\n",
    "\n",
    "    new_furthest_wp = rotate_around_origin(closest_waypoint, furthest_waypoint, degrees_of_rotation_needed)\n",
    "\n",
    "    return ( closest_waypoint, new_second_closest_wp, new_furthest_wp )\n",
    "\n",
    "tests = [\n",
    "    {\n",
    "        'data': ((0, 0), (0, -4), (-4, -4)),\n",
    "        'expected_point': ((0, 0), (0, 4), (4, 4))\n",
    "    },\n",
    "]\n",
    "\n",
    "for test in tests:\n",
    "    result = transform_to_origin(*test['data'])\n",
    "    print('Result', result,'Test', test)\n",
    "    \n",
    "    for i, point in enumerate(result):\n",
    "        expected_point = test['expected_point'][i]\n",
    "        calculated_point = result[i]\n",
    "        assert expected_point[0] == calculated_point[0] and expected_point[1] == calculated_point[1], f'Result {calculated_point} did not match expected value {expected_point}'\n",
    "        print(f'For test {test[\"data\"]}, expected value {expected_point} and got {calculated_point}')"
   ]
  },
  {
   "cell_type": "code",
   "execution_count": 14,
   "metadata": {},
   "outputs": [
    {
     "name": "stdout",
     "output_type": "stream",
     "text": [
      "For test {'data': ((0, 0), (0, 5), (-5, 5)), 'expected_ang': -45}, expected value -45 and got -45.0\n",
      "For test {'data': ((0, 0), (0, 5), (-4, 0)), 'expected_ang': -90}, expected value -90 and got -90.0\n",
      "For test {'data': ((0, 0), (0, 5), (-5, 0)), 'expected_ang': -90}, expected value -90 and got -90.0\n",
      "For test {'data': ((0, 0), (0, 5), (-5, 0)), 'expected_ang': -90}, expected value -90 and got -90.0\n"
     ]
    }
   ],
   "source": [
    "\n",
    "\n",
    "def get_angle_deg(closest_waypoint, the_second_closest_wp, furthest_waypoint):\n",
    "    \"\"\"Get angle in degrees\"\"\"\n",
    "    \n",
    "    closest_waypoint, the_second_closest_wp, furthest_waypoint = put_to_origin(closest_waypoint, the_second_closest_wp, furthest_waypoint)\n",
    "    \n",
    "    # print('after moving to origin', c1losest_waypoint, the_second_closest_wp, furthest_waypoint)\n",
    "    \n",
    "    closest_waypoint, the_second_closest_wp, furthest_waypoint = transform_to_origin(closest_waypoint, the_second_closest_wp, furthest_waypoint)\n",
    "    \n",
    "    # print('transform_to_origin', closest_waypoint, the_second_closest_wp, furthest_waypoint)\n",
    "\n",
    "    angle = math.degrees(math.atan2(\n",
    "        furthest_waypoint[0], furthest_waypoint[1]))\n",
    "    \n",
    "    return angle\n",
    "\n",
    "\n",
    "tests = [\n",
    "    {\n",
    "        'data': ((0, 0), (0, 5), (-5, 5)),\n",
    "        'expected_ang': -45\n",
    "    },\n",
    "    {\n",
    "        'data': ((0, 0), (0, 5), (-4, 0)),\n",
    "        'expected_ang': -90\n",
    "    },\n",
    "    {\n",
    "        'data': ((0, 0), (0, 5), (-5, 0)),\n",
    "        'expected_ang': -90\n",
    "    },\n",
    "    {\n",
    "        'data': ((0, 0), (0, 5), (-5, 0)),\n",
    "        'expected_ang': -90\n",
    "    },\n",
    "    # {\n",
    "    #     'data': ((6.84, 0.88), (6.99, 1.01), (7.11, 1.17)),\n",
    "    #     'expected_ang': -6.1\n",
    "    # },\n",
    "]\n",
    "\n",
    "for test in tests:\n",
    "    result = get_angle_deg(*test['data'])\n",
    "    expected_angle = test['expected_ang']\n",
    "    print(f'For test {test}, expected value {expected_angle} and got {result}')\n",
    "    assert expected_angle == result, f'Result {result} did not match expected value {expected_angle}'\n"
   ]
  },
  {
   "cell_type": "code",
   "execution_count": 15,
   "metadata": {},
   "outputs": [
    {
     "name": "stdout",
     "output_type": "stream",
     "text": [
      "Angle result nan\n",
      "NaN was found\n",
      "is_last_index False is_second_last_index False current_wp [-3.81859243  1.91309297] last_index 27 second_point [-3.81859243  1.91309297] third_point [-3.59050393  1.71841502]\n",
      "is_second_last_index 110\n",
      "Is last index 111\n",
      "Break on last index because it is a repeat of the first waypoint\n",
      "The individual angles stats are, right_max: 146.30993247402023, left_max: -179.0451587461278, mean: nan, amount: 111\n"
     ]
    },
    {
     "name": "stderr",
     "output_type": "stream",
     "text": [
      "/tmp/ipykernel_721378/1434163933.py:5: RuntimeWarning: invalid value encountered in double_scalars\n",
      "  angle = dot_product/mod_of_vector_1\n"
     ]
    }
   ],
   "source": [
    "angles = []\n",
    "\n",
    "for i, _ in enumerate(track.center_line):\n",
    "    is_last_index = i == len(track.center_line) - 1\n",
    "    is_second_last_index = i == len(track.center_line) - 2\n",
    "    \n",
    "    if is_last_index == True:\n",
    "        print('Is last index', i)\n",
    "        print('Break on last index because it is a repeat of the first waypoint')\n",
    "        break\n",
    "    \n",
    "    if is_second_last_index == True:\n",
    "        print('is_second_last_index', i)\n",
    "        \n",
    "        \n",
    "    # print('is_last_index',is_last_index,'is_second_last_index',is_second_last_index)\n",
    "    last_index = i+1\n",
    "\n",
    "    second_point = track.center_line[0] if is_last_index else track.center_line[last_index]\n",
    "\n",
    "    third_point = track.center_line[0] if is_second_last_index else \\\n",
    "        track.center_line[1] \\\n",
    "        if is_last_index \\\n",
    "        else track.center_line[i+2]\n",
    "\n",
    "    current_wp = track.center_line[i]\n",
    "    \n",
    "    angle_result = get_angle_deg(\n",
    "        current_wp, second_point, third_point)\n",
    "    \n",
    "    if math.isnan(angle_result):\n",
    "        print('Angle result', angle_result)\n",
    "        print('NaN was found')\n",
    "        print(  \n",
    "            'is_last_index', is_last_index,\n",
    "            'is_second_last_index', is_second_last_index,\n",
    "            'current_wp', current_wp,\n",
    "            'last_index', last_index,\n",
    "            'second_point', second_point,\n",
    "            'third_point', third_point,\n",
    "        )\n",
    "\n",
    "\n",
    "    angles.append(angle_result)\n",
    "    \n",
    "\n",
    "# print('Angles \\n', angles)\n",
    "print(\n",
    "    f'The individual angles stats are, right_max: {max(angles)}, left_max: {min(angles)}, mean: {sum(angles) / len(angles)}, amount: {len(angles)}')\n"
   ]
  },
  {
   "cell_type": "code",
   "execution_count": 16,
   "metadata": {},
   "outputs": [
    {
     "data": {
      "text/plain": [
       "angles   NaN\n",
       "Name: 26, dtype: float64"
      ]
     },
     "execution_count": 16,
     "metadata": {},
     "output_type": "execute_result"
    }
   ],
   "source": [
    "import pandas as pd\n",
    "\n",
    "df = pd.DataFrame({ 'angles': angles })\n",
    "df.iloc[26]\n",
    "# df.to_csv('./angles.csv')\n",
    "\n",
    "\n"
   ]
  },
  {
   "cell_type": "code",
   "execution_count": 17,
   "metadata": {},
   "outputs": [
    {
     "name": "stdout",
     "output_type": "stream",
     "text": [
      "Angle for wp 0 [0.7088999  0.35731884] -82.40535663140857 [0.7088999  0.35731884]\n",
      "Angle for wp 1 [0.50769304 0.58412436] -82.40535663140857 [0.50769304 0.58412436]\n",
      "Angle for wp 2 [0.30638189 0.81083442] -83.3455749539934 [0.30638189 0.81083442]\n",
      "Angle for wp 3 [0.10454195 1.03707612] -84.38241940987318 [0.10454195 1.03707612]\n",
      "Angle for wp 4 [-0.09996715  1.26089245] -82.40535663140857 [-0.09996715  1.26089245]\n",
      "Angle for wp 5 [-0.30175268  1.48718005] -82.40535663140857 [-0.30175268  1.48718005]\n",
      "Angle for wp 6 [-0.50307736  1.71387905] -82.40535663140857 [-0.50307736  1.71387905]\n",
      "Angle for wp 7 [-0.70425647  1.94070756] -82.40535663140857 [-0.70425647  1.94070756]\n",
      "Angle for wp 8 [-0.9053517   2.16760993] -82.40535663140857 [-0.9053517   2.16760993]\n",
      "Angle for wp 9 [-1.10635018  2.39459753] -82.40535663140857 [-1.10635018  2.39459753]\n",
      "Angle for wp 10 [-1.30724964  2.62167251] -82.40535663140857 [-1.30724964  2.62167251]\n",
      "Angle for wp 11 [-1.50806803  2.84881997] -82.40535663140857 [-1.50806803  2.84881997]\n",
      "Angle for wp 12 [-1.70906854  3.07580602] -84.28940686250037 [-1.70906854  3.07580602]\n",
      "Angle for wp 13 [-1.91061896  3.30230403] -90.93919094573559 [-1.91061896  3.30230403]\n",
      "Angle for wp 14 [-2.12099993  3.52052748] -109.33480853782642 [-2.12099993  3.52052748]\n",
      "Angle for wp 15 [-2.35695493  3.7103616 ] -135.0 [-2.35695493  3.7103616 ]\n",
      "Angle for wp 16 [-2.62819242  3.84422195] -160.6651914621736 [-2.62819242  3.84422195]\n",
      "Angle for wp 17 [-2.92411852  3.90804255] -179.0451587461278 [-2.92411852  3.90804255]\n",
      "Angle for wp 18 [-3.22665656  3.92702341] 146.30993247402023 [-3.22665656  3.92702341]\n",
      "Angle for wp 19 [-3.52449596  3.87578845] 87.08916217383225 [-3.52449596  3.87578845]\n",
      "Angle for wp 20 [-3.75881696  3.68951452] 36.86989764584402 [-3.75881696  3.68951452]\n",
      "Angle for wp 21 [-3.87371588  3.41031849] 12.425942865427487 [-3.87371588  3.41031849]\n",
      "Angle for wp 22 [-3.91732717  3.11042392] 1.8778774472853594 [-3.91732717  3.11042392]\n",
      "Angle for wp 23 [-3.92767596  2.807428  ] 0.0 [-3.92767596  2.807428  ]\n",
      "Angle for wp 24 [-3.92080259  2.50431049] -5.710593137499642 [-3.92080259  2.50431049]\n",
      "Angle for wp 25 [-3.90397203  2.20158052] -0.0 [-3.90397203  2.20158052]\n",
      "Angle for wp 26 [-3.81859243  1.91309297] nan [-3.81859243  1.91309297]\n"
     ]
    },
    {
     "ename": "ValueError",
     "evalue": "cannot convert float NaN to integer",
     "output_type": "error",
     "traceback": [
      "\u001b[0;31m---------------------------------------------------------------------------\u001b[0m",
      "\u001b[0;31mValueError\u001b[0m                                Traceback (most recent call last)",
      "Cell \u001b[0;32mIn [17], line 25\u001b[0m\n\u001b[1;32m     16\u001b[0m             \u001b[39mprint\u001b[39m(\u001b[39mf\u001b[39m\u001b[39m'\u001b[39m\u001b[39mAngle for wp \u001b[39m\u001b[39m{\u001b[39;00mi\u001b[39m}\u001b[39;00m\u001b[39m'\u001b[39m,wp, relative_angle, wp)\n\u001b[1;32m     17\u001b[0m             plt\u001b[39m.\u001b[39mannotate(\n\u001b[1;32m     18\u001b[0m                     \u001b[39mstr\u001b[39m(\u001b[39mround\u001b[39m(angles[i])) \u001b[39m+\u001b[39m \u001b[39mf\u001b[39m\u001b[39m'\u001b[39m\u001b[39m(\u001b[39m\u001b[39m{\u001b[39;00m\u001b[39mstr\u001b[39m(i)\u001b[39m}\u001b[39;00m\u001b[39m, \u001b[39m\u001b[39m{\u001b[39;00m (\u001b[39mround\u001b[39m(wp[\u001b[39m0\u001b[39m],\u001b[39m2\u001b[39m), \u001b[39mround\u001b[39m(wp[\u001b[39m1\u001b[39m],\u001b[39m2\u001b[39m))\u001b[39m}\u001b[39;00m\u001b[39m )\u001b[39m\u001b[39m'\u001b[39m, \u001b[39m# this is the text\u001b[39;00m\n\u001b[1;32m     19\u001b[0m                     (wp), \u001b[39m# these are the coordinates to position the label\u001b[39;00m\n\u001b[0;32m   (...)\u001b[0m\n\u001b[1;32m     22\u001b[0m                     ha\u001b[39m=\u001b[39m\u001b[39m'\u001b[39m\u001b[39mcenter\u001b[39m\u001b[39m'\u001b[39m\n\u001b[1;32m     23\u001b[0m                 ) \u001b[39m# horizontal alignment can be left, right or center  \u001b[39;00m\n\u001b[0;32m---> 25\u001b[0m plot_coords(\u001b[39m1\u001b[39;49m, track, angles, \u001b[39mTrue\u001b[39;49;00m )\n\u001b[1;32m     27\u001b[0m \u001b[39mfor\u001b[39;00m point \u001b[39min\u001b[39;00m track\u001b[39m.\u001b[39mcenter_line:\n\u001b[1;32m     28\u001b[0m     plt\u001b[39m.\u001b[39mscatter(point[\u001b[39m0\u001b[39m], point[\u001b[39m1\u001b[39m], c\u001b[39m=\u001b[39m\u001b[39m\"\u001b[39m\u001b[39mblue\u001b[39m\u001b[39m\"\u001b[39m)\n",
      "Cell \u001b[0;32mIn [17], line 18\u001b[0m, in \u001b[0;36mplot_coords\u001b[0;34m(ax, track, angles, annotate)\u001b[0m\n\u001b[1;32m     14\u001b[0m relative_angle \u001b[39m=\u001b[39m angles[i]\n\u001b[1;32m     16\u001b[0m \u001b[39mprint\u001b[39m(\u001b[39mf\u001b[39m\u001b[39m'\u001b[39m\u001b[39mAngle for wp \u001b[39m\u001b[39m{\u001b[39;00mi\u001b[39m}\u001b[39;00m\u001b[39m'\u001b[39m,wp, relative_angle, wp)\n\u001b[1;32m     17\u001b[0m plt\u001b[39m.\u001b[39mannotate(\n\u001b[0;32m---> 18\u001b[0m         \u001b[39mstr\u001b[39m(\u001b[39mround\u001b[39;49m(angles[i])) \u001b[39m+\u001b[39m \u001b[39mf\u001b[39m\u001b[39m'\u001b[39m\u001b[39m(\u001b[39m\u001b[39m{\u001b[39;00m\u001b[39mstr\u001b[39m(i)\u001b[39m}\u001b[39;00m\u001b[39m, \u001b[39m\u001b[39m{\u001b[39;00m (\u001b[39mround\u001b[39m(wp[\u001b[39m0\u001b[39m],\u001b[39m2\u001b[39m), \u001b[39mround\u001b[39m(wp[\u001b[39m1\u001b[39m],\u001b[39m2\u001b[39m))\u001b[39m}\u001b[39;00m\u001b[39m )\u001b[39m\u001b[39m'\u001b[39m, \u001b[39m# this is the text\u001b[39;00m\n\u001b[1;32m     19\u001b[0m         (wp), \u001b[39m# these are the coordinates to position the label\u001b[39;00m\n\u001b[1;32m     20\u001b[0m         textcoords\u001b[39m=\u001b[39m\u001b[39m\"\u001b[39m\u001b[39moffset points\u001b[39m\u001b[39m\"\u001b[39m, \u001b[39m# how to position the text\u001b[39;00m\n\u001b[1;32m     21\u001b[0m         xytext\u001b[39m=\u001b[39m(\u001b[39m3\u001b[39m,\u001b[39m3\u001b[39m), \u001b[39m# distance from text to points (x,y)\u001b[39;00m\n\u001b[1;32m     22\u001b[0m         ha\u001b[39m=\u001b[39m\u001b[39m'\u001b[39m\u001b[39mcenter\u001b[39m\u001b[39m'\u001b[39m\n\u001b[1;32m     23\u001b[0m     )\n",
      "\u001b[0;31mValueError\u001b[0m: cannot convert float NaN to integer"
     ]
    },
    {
     "data": {
      "image/png": "[encoded data removed]",
      "text/plain": [
       "<Figure size 4800x3600 with 1 Axes>"
      ]
     },
     "metadata": {},
     "output_type": "display_data"
    }
   ],
   "source": [
    "import matplotlib.pyplot as plt\n",
    "\n",
    "plt.figure(figsize=(16, 12), dpi=300)\n",
    "\n",
    "def plot_coords(ax, track, angles, annotate=False, ):                                                        \n",
    "    if annotate is True:                                                         \n",
    "        for i, wp in enumerate(track.center_line):\n",
    "            is_last_index = i == len(track.center_line) - 1\n",
    "\n",
    "            if is_last_index == True:\n",
    "                print('Is last index', i)\n",
    "                print('Break on last index because it is a repeat of the first waypoint')\n",
    "                return\n",
    "            relative_angle = angles[i]\n",
    "            \n",
    "            print(f'Angle for wp {i}',wp, relative_angle, wp)\n",
    "            plt.annotate(\n",
    "                    str(round(angles[i])) + f'({str(i)}, { (round(wp[0],2), round(wp[1],2))} )', # this is the text\n",
    "                    (wp), # these are the coordinates to position the label\n",
    "                    textcoords=\"offset points\", # how to position the text\n",
    "                    xytext=(3,3), # distance from text to points (x,y)\n",
    "                    ha='center'\n",
    "                ) # horizontal alignment can be left, right or center  \n",
    "              \n",
    "plot_coords(1, track, angles, True )\n",
    "\n",
    "for point in track.center_line:\n",
    "    plt.scatter(point[0], point[1], c=\"blue\")\n",
    "plt.show()\n",
    "\n"
   ]
  },
  {
   "cell_type": "code",
   "execution_count": null,
   "metadata": {},
   "outputs": [
    {
     "ename": "",
     "evalue": "",
     "output_type": "error",
     "traceback": [
      "\u001b[1;31mFailed to start the Kernel. \n",
      "\u001b[1;31mJupyter notebook failed to launch. \n",
      "\u001b[1;31mError: ENOSPC: no space left on device, mkdir '/tmp/231e3c43-cda1-4635-a4d8-d620098096b0'. \n",
      "\u001b[1;31mView Jupyter <a href='command:jupyter.viewOutput'>log</a> for further details."
     ]
    }
   ],
   "source": [
    "# !pip install plotly"
   ]
  },
  {
   "cell_type": "code",
   "execution_count": 24,
   "metadata": {},
   "outputs": [
    {
     "data": {
      "text/plain": [
       "array([[ 0.7088999 ,  0.35731884],\n",
       "       [ 0.50769304,  0.58412436],\n",
       "       [ 0.30638189,  0.81083442],\n",
       "       [ 0.10454195,  1.03707612],\n",
       "       [-0.09996715,  1.26089245],\n",
       "       [-0.30175268,  1.48718005],\n",
       "       [-0.50307736,  1.71387905],\n",
       "       [-0.70425647,  1.94070756],\n",
       "       [-0.9053517 ,  2.16760993],\n",
       "       [-1.10635018,  2.39459753],\n",
       "       [-1.30724964,  2.62167251],\n",
       "       [-1.50806803,  2.84881997],\n",
       "       [-1.70906854,  3.07580602],\n",
       "       [-1.91061896,  3.30230403],\n",
       "       [-2.12099993,  3.52052748],\n",
       "       [-2.35695493,  3.7103616 ],\n",
       "       [-2.62819242,  3.84422195],\n",
       "       [-2.92411852,  3.90804255],\n",
       "       [-3.22665656,  3.92702341],\n",
       "       [-3.52449596,  3.87578845],\n",
       "       [-3.75881696,  3.68951452],\n",
       "       [-3.87371588,  3.41031849],\n",
       "       [-3.91732717,  3.11042392],\n",
       "       [-3.92767596,  2.807428  ],\n",
       "       [-3.92080259,  2.50431049],\n",
       "       [-3.90397203,  2.20158052],\n",
       "       [-3.81859243,  1.91309297],\n",
       "       [-3.81859243,  1.91309297],\n",
       "       [-3.59050393,  1.71841502],\n",
       "       [-3.30460095,  1.61838454],\n",
       "       [-3.01563895,  1.52706003],\n",
       "       [-2.77446496,  1.34934348],\n",
       "       [-2.68817198,  1.06279451],\n",
       "       [-2.75882196,  0.76966763],\n",
       "       [-2.90018106,  0.50160921],\n",
       "       [-3.05864501,  0.24312346],\n",
       "       [-3.21139598, -0.0187471 ],\n",
       "       [-3.34372056, -0.29143815],\n",
       "       [-3.45477259, -0.57354541],\n",
       "       [-3.55794346, -0.85863453],\n",
       "       [-3.65220237, -1.14679897],\n",
       "       [-3.7357645 , -1.438245  ],\n",
       "       [-3.80612755, -1.73315752],\n",
       "       [-3.85984206, -2.03155506],\n",
       "       [-3.89184809, -2.33305752],\n",
       "       [-3.89447391, -2.6362505 ],\n",
       "       [-3.85584664, -2.93689394],\n",
       "       [-3.75933063, -3.22401798],\n",
       "       [-3.59149599, -3.47615099],\n",
       "       [-3.37547255, -3.68911493],\n",
       "       [-3.11904049, -3.85017049],\n",
       "       [-2.8221215 , -3.89816856],\n",
       "       [-2.53988457, -3.7932725 ],\n",
       "       [-2.316782  , -3.5889895 ],\n",
       "       [-2.14520401, -3.33936048],\n",
       "       [-2.01705849, -3.06500947],\n",
       "       [-1.96837646, -2.766397  ],\n",
       "       [-1.97459203, -2.4633379 ],\n",
       "       [-1.99507654, -2.16083002],\n",
       "       [-2.00429147, -1.857813  ],\n",
       "       [-1.98072952, -1.5556525 ],\n",
       "       [-1.90250146, -1.26292449],\n",
       "       [-1.7553705 , -0.99831223],\n",
       "       [-1.545946  , -0.77932593],\n",
       "       [-1.2934255 , -0.61157247],\n",
       "       [-0.99991208, -0.55007698],\n",
       "       [-0.71240571, -0.63952762],\n",
       "       [-0.47022343, -0.82070914],\n",
       "       [-0.27104946, -1.04885679],\n",
       "       [-0.12047268, -1.31122547],\n",
       "       [-0.04975371, -1.60510749],\n",
       "       [-0.05370425, -1.90787899],\n",
       "       [-0.10437201, -2.20668399],\n",
       "       [-0.18115018, -2.49996352],\n",
       "       [-0.27317405, -2.78880847],\n",
       "       [-0.36608186, -3.07772398],\n",
       "       [-0.40669137, -3.37792695],\n",
       "       [-0.32070595, -3.66543293],\n",
       "       [-0.0791161 , -3.84271955],\n",
       "       [ 0.22013695, -3.88498604],\n",
       "       [ 0.51959476, -3.84063101],\n",
       "       [ 0.79959708, -3.72573256],\n",
       "       [ 1.01401186, -3.51545155],\n",
       "       [ 1.21914071, -3.29349947],\n",
       "       [ 1.48485249, -3.15100396],\n",
       "       [ 1.78532648, -3.13760209],\n",
       "       [ 2.06552857, -3.25020802],\n",
       "       [ 2.30422699, -3.43673754],\n",
       "       [ 2.5047555 , -3.66386855],\n",
       "       [ 2.7338016 , -3.85866559],\n",
       "       [ 3.02832091, -3.92328537],\n",
       "       [ 3.33127856, -3.91591704],\n",
       "       [ 3.62852097, -3.85952508],\n",
       "       [ 3.85768962, -3.66875148],\n",
       "       [ 3.92565191, -3.3758626 ],\n",
       "       [ 3.88831139, -3.07544446],\n",
       "       [ 3.80217206, -2.78486693],\n",
       "       [ 3.69041049, -2.50306594],\n",
       "       [ 3.56364548, -2.22760105],\n",
       "       [ 3.41048503, -1.96606946],\n",
       "       [ 3.19233   , -1.75849998],\n",
       "       [ 2.90209794, -1.67409599],\n",
       "       [ 2.61534595, -1.57750303],\n",
       "       [ 2.35785449, -1.41786849],\n",
       "       [ 2.12704146, -1.22129175],\n",
       "       [ 1.91588193, -1.00375447],\n",
       "       [ 1.71152604, -0.77967677],\n",
       "       [ 1.51039803, -0.55279896],\n",
       "       [ 1.31099251, -0.32442756],\n",
       "       [ 1.11091703, -0.09663846],\n",
       "       [ 0.91014054,  0.130542  ],\n",
       "       [ 0.7088999 ,  0.35731884]])"
      ]
     },
     "execution_count": 24,
     "metadata": {},
     "output_type": "execute_result"
    }
   ],
   "source": [
    "track.center_line"
   ]
  },
  {
   "cell_type": "code",
   "execution_count": 18,
   "metadata": {},
   "outputs": [
    {
     "data": {
      "text/plain": [
       "[{'x': 0.7088999003171921,\n",
       "  'y': 0.3573188427835703,\n",
       "  'angle': -82.40535663140857},\n",
       " {'x': 0.5076930373907089,\n",
       "  'y': 0.584124356508255,\n",
       "  'angle': -82.40535663140857},\n",
       " {'x': 0.3063818905502558,\n",
       "  'y': 0.8108344227075577,\n",
       "  'angle': -83.3455749539934},\n",
       " {'x': 0.10454194992780445,\n",
       "  'y': 1.037076115608218,\n",
       "  'angle': -84.38241940987318},\n",
       " {'x': -0.09996715188026428,\n",
       "  'y': 1.2608924508094788,\n",
       "  'angle': -82.40535663140857},\n",
       " {'x': -0.30175267718732357,\n",
       "  'y': 1.4871800541877747,\n",
       "  'angle': -82.40535663140857},\n",
       " {'x': -0.503077358007431,\n",
       "  'y': 1.7138790488243103,\n",
       "  'angle': -82.40535663140857},\n",
       " {'x': -0.7042564749717712,\n",
       "  'y': 1.9407075643539429,\n",
       "  'angle': -82.40535663140857},\n",
       " {'x': -0.9053516983985901,\n",
       "  'y': 2.167609930038452,\n",
       "  'angle': -82.40535663140857},\n",
       " {'x': -1.1063501834869385,\n",
       "  'y': 2.3945975303649902,\n",
       "  'angle': -82.40535663140857},\n",
       " {'x': -1.3072496354579926,\n",
       "  'y': 2.621672511100769,\n",
       "  'angle': -82.40535663140857},\n",
       " {'x': -1.5080680251121545,\n",
       "  'y': 2.8488199710845974,\n",
       "  'angle': -82.40535663140857},\n",
       " {'x': -1.7090685367584229,\n",
       "  'y': 3.0758060216903687,\n",
       "  'angle': -84.28940686250037},\n",
       " {'x': -1.9106189608573914,\n",
       "  'y': 3.3023040294647217,\n",
       "  'angle': -90.93919094573559},\n",
       " {'x': -2.1209999322891235,\n",
       "  'y': 3.520527482032776,\n",
       "  'angle': -109.33480853782642},\n",
       " {'x': -2.3569549322128296, 'y': 3.71036159992218, 'angle': -135.0},\n",
       " {'x': -2.62819242477417,\n",
       "  'y': 3.8442219495773315,\n",
       "  'angle': -160.6651914621736},\n",
       " {'x': -2.9241185188293457,\n",
       "  'y': 3.908042550086975,\n",
       "  'angle': -179.0451587461278},\n",
       " {'x': -3.2266565561294556,\n",
       "  'y': 3.927023410797119,\n",
       "  'angle': 146.30993247402023},\n",
       " {'x': -3.5244959592819214,\n",
       "  'y': 3.875788450241089,\n",
       "  'angle': 87.08916217383225},\n",
       " {'x': -3.758816957473755,\n",
       "  'y': 3.6895145177841187,\n",
       "  'angle': 36.86989764584402},\n",
       " {'x': -3.873715877532959,\n",
       "  'y': 3.4103184938430786,\n",
       "  'angle': 12.425942865427487},\n",
       " {'x': -3.9173271656036377,\n",
       "  'y': 3.1104239225387573,\n",
       "  'angle': 1.8778774472853594},\n",
       " {'x': -3.92767596244812, 'y': 2.807428002357483, 'angle': 0.0},\n",
       " {'x': -3.920802593231201,\n",
       "  'y': 2.5043104887008667,\n",
       "  'angle': -5.710593137499642},\n",
       " {'x': -3.903972029685974, 'y': 2.20158052444458, 'angle': -0.0},\n",
       " {'x': -3.8185924291610718, 'y': 1.9130929708480835, 'angle': nan},\n",
       " {'x': -3.8185924291610718,\n",
       "  'y': 1.9130929708480835,\n",
       "  'angle': -9.782407031807288},\n",
       " {'x': -3.5905039310455322,\n",
       "  'y': 1.7184150218963623,\n",
       "  'angle': -0.9548412538721889},\n",
       " {'x': -3.304600954055786,\n",
       "  'y': 1.6183845400810242,\n",
       "  'angle': 9.619727799698854},\n",
       " {'x': -3.0156389474868774,\n",
       "  'y': 1.5270600318908691,\n",
       "  'angle': 17.47477425625567},\n",
       " {'x': -2.774464964866638,\n",
       "  'y': 1.349343478679657,\n",
       "  'angle': 14.995079129175986},\n",
       " {'x': -2.6881719827651978,\n",
       "  'y': 1.0627945065498352,\n",
       "  'angle': 34.21570213243741},\n",
       " {'x': -2.758821964263916,\n",
       "  'y': 0.7696676254272461,\n",
       "  'angle': 57.094757077012105},\n",
       " {'x': -2.9001810550689697,\n",
       "  'y': 0.501609206199646,\n",
       "  'angle': 62.59242456218159},\n",
       " {'x': -3.058645009994507,\n",
       "  'y': 0.24312346291844733,\n",
       "  'angle': 59.19855402386317},\n",
       " {'x': -3.2113959789276123,\n",
       "  'y': -0.018747098743915558,\n",
       "  'angle': 49.08561677997488},\n",
       " {'x': -3.343720555305481,\n",
       "  'y': -0.29143815487623215,\n",
       "  'angle': 41.6335393365702},\n",
       " {'x': -3.4547725915908813,\n",
       "  'y': -0.5735454112291336,\n",
       "  'angle': 38.21102542556121},\n",
       " {'x': -3.5579434633255005,\n",
       "  'y': -0.8586345314979553,\n",
       "  'angle': 34.21570213243741},\n",
       " {'x': -3.6522023677825928,\n",
       "  'y': -1.1467989683151245,\n",
       "  'angle': 29.51149855709032},\n",
       " {'x': -3.735764503479004,\n",
       "  'y': -1.4382449984550476,\n",
       "  'angle': 25.301378625419723},\n",
       " {'x': -3.8061275482177734,\n",
       "  'y': -1.7331575155258179,\n",
       "  'angle': 18.138082155597317},\n",
       " {'x': -3.85984206199646,\n",
       "  'y': -2.0315550565719604,\n",
       "  'angle': 8.673174047879765},\n",
       " {'x': -3.891848087310791,\n",
       "  'y': -2.3330575227737427,\n",
       "  'angle': -3.8140748342903543},\n",
       " {'x': -3.894473910331726,\n",
       "  'y': -2.636250495910644,\n",
       "  'angle': -5.710593137499642},\n",
       " {'x': -3.855846643447876,\n",
       "  'y': -2.936893939971924,\n",
       "  'angle': -6.654425046006597},\n",
       " {'x': -3.759330630302429,\n",
       "  'y': -3.2240179777145386,\n",
       "  'angle': -4.763641690726178},\n",
       " {'x': -3.591495990753174,\n",
       "  'y': -3.4761509895324707,\n",
       "  'angle': -5.710593137499642},\n",
       " {'x': -3.3754725456237793,\n",
       "  'y': -3.6891149282455444,\n",
       "  'angle': -10.738897100905442},\n",
       " {'x': -3.1190404891967773,\n",
       "  'y': -3.8501704931259155,\n",
       "  'angle': -14.995079129175986},\n",
       " {'x': -2.822121500968933,\n",
       "  'y': -3.8981685638427734,\n",
       "  'angle': -11.689369175439193},\n",
       " {'x': -2.539884567260742,\n",
       "  'y': -3.7932724952697754,\n",
       "  'angle': -6.766174822553062},\n",
       " {'x': -2.316781997680664,\n",
       "  'y': -3.588989496231079,\n",
       "  'angle': -3.8140748342903543},\n",
       " {'x': -2.14520400762558,\n",
       "  'y': -3.339360475540161,\n",
       "  'angle': -8.673174047879765},\n",
       " {'x': -2.017058491706848,\n",
       "  'y': -3.0650094747543335,\n",
       "  'angle': -5.710593137499642},\n",
       " {'x': -1.9683764576911926,\n",
       "  'y': -2.766396999359131,\n",
       "  'angle': -4.685899839502703},\n",
       " {'x': -1.9745920300483704,\n",
       "  'y': -2.4633378982543945,\n",
       "  'angle': -6.546290783294037},\n",
       " {'x': -1.9950765371322632,\n",
       "  'y': -2.160830020904541,\n",
       "  'angle': -0.9391909457355799},\n",
       " {'x': -2.0042914748191833,\n",
       "  'y': -1.8578130006790161,\n",
       "  'angle': 5.710593137499642},\n",
       " {'x': -1.9807295203208923,\n",
       "  'y': -1.5556524991989136,\n",
       "  'angle': 6.654425046006597},\n",
       " {'x': -1.9025014638900757,\n",
       "  'y': -1.2629244923591614,\n",
       "  'angle': 6.654425046006597},\n",
       " {'x': -1.7553704977035522,\n",
       "  'y': -0.99831223487854,\n",
       "  'angle': 5.710593137499642},\n",
       " {'x': -1.5459460020065308,\n",
       "  'y': -0.779325932264328,\n",
       "  'angle': 11.689369175439193},\n",
       " {'x': -1.2934255003929138,\n",
       "  'y': -0.6115724742412567,\n",
       "  'angle': 14.995079129175986},\n",
       " {'x': -0.9999120831489563,\n",
       "  'y': -0.5500769801437855,\n",
       "  'angle': 9.619727799698854},\n",
       " {'x': -0.7124057114124298,\n",
       "  'y': -0.6395276188850403,\n",
       "  'angle': 5.710593137499642},\n",
       " {'x': -0.47022343426942825,\n",
       "  'y': -0.8207091391086578,\n",
       "  'angle': 5.710593137499642},\n",
       " {'x': -0.27104945853352547,\n",
       "  'y': -1.048856794834137,\n",
       "  'angle': 8.530765609948133},\n",
       " {'x': -0.12047268450260162,\n",
       "  'y': -1.3112254738807678,\n",
       "  'angle': 6.654425046006597},\n",
       " {'x': -0.04975371062755585,\n",
       "  'y': -1.6051074862480164,\n",
       "  'angle': 4.763641690726178},\n",
       " {'x': -0.05370424687862396,\n",
       "  'y': -1.9078789949417114,\n",
       "  'angle': 22.328656378019147},\n",
       " {'x': -0.10437200963497162,\n",
       "  'y': -2.2066839933395386,\n",
       "  'angle': 32.106255955117845},\n",
       " {'x': -0.1811501830816269,\n",
       "  'y': -2.4999635219573975,\n",
       "  'angle': 34.21570213243741},\n",
       " {'x': -0.2731740474700928,\n",
       "  'y': -2.7888084650039673,\n",
       "  'angle': 29.981639368849333},\n",
       " {'x': -0.3660818636417389,\n",
       "  'y': -3.077723979949951,\n",
       "  'angle': 2.9108378261677537},\n",
       " {'x': -0.40669136866927147,\n",
       "  'y': -3.3779269456863403,\n",
       "  'angle': -18.43494882292201},\n",
       " {'x': -0.32070594653487206,\n",
       "  'y': -3.665432929992676,\n",
       "  'angle': -14.995079129175986},\n",
       " {'x': -0.0791160985827446,\n",
       "  'y': -3.842719554901123,\n",
       "  'angle': -7.721825800130975},\n",
       " {'x': 0.22013694792985916,\n",
       "  'y': -3.8849860429763794,\n",
       "  'angle': -7.594643368591445},\n",
       " {'x': 0.5195947587490082,\n",
       "  'y': -3.8406310081481934,\n",
       "  'angle': -12.633361935275012},\n",
       " {'x': 0.7995970845222473,\n",
       "  'y': -3.7257325649261475,\n",
       "  'angle': -0.9548412538721889},\n",
       " {'x': 1.0140118598937988,\n",
       "  'y': -3.5154515504837036,\n",
       "  'angle': 8.820379552021057},\n",
       " {'x': 1.2191407084465027,\n",
       "  'y': -3.29349946975708,\n",
       "  'angle': 11.689369175439193},\n",
       " {'x': 1.4848524928092957,\n",
       "  'y': -3.1510039567947388,\n",
       "  'angle': 11.689369175439193},\n",
       " {'x': 1.7853264808654785,\n",
       "  'y': -3.1376020908355713,\n",
       "  'angle': 8.673174047879765},\n",
       " {'x': 2.0655285716056824,\n",
       "  'y': -3.250208020210266,\n",
       "  'angle': 4.763641690726178},\n",
       " {'x': 2.3042269945144653,\n",
       "  'y': -3.436737537384033,\n",
       "  'angle': -4.763641690726178},\n",
       " {'x': 2.5047554969787598,\n",
       "  'y': -3.663868546485901,\n",
       "  'angle': -12.847704858717666},\n",
       " {'x': 2.7338016033172643,\n",
       "  'y': -3.858665585517884,\n",
       "  'angle': -5.710593137499642},\n",
       " {'x': 3.0283209085464478,\n",
       "  'y': -3.9232853651046753,\n",
       "  'angle': -3.8140748342903543},\n",
       " {'x': 3.3312785625457764,\n",
       "  'y': -3.9159170389175415,\n",
       "  'angle': -13.799485396019373},\n",
       " {'x': 3.628520965576172,\n",
       "  'y': -3.8595250844955444,\n",
       "  'angle': -18.43494882292201},\n",
       " {'x': 3.857689619064331,\n",
       "  'y': -3.6687514781951904,\n",
       "  'angle': -10.738897100905442},\n",
       " {'x': 3.9256519079208374,\n",
       "  'y': -3.3758625984191895,\n",
       "  'angle': -19.334808537826415},\n",
       " {'x': 3.8883113861083984,\n",
       "  'y': -3.075444459915161,\n",
       "  'angle': -36.304497122575235},\n",
       " {'x': 3.802172064781189, 'y': -2.7848669290542603, 'angle': -45.0},\n",
       " {'x': 3.6904104948043823,\n",
       "  'y': -2.5030659437179565,\n",
       "  'angle': -52.37376636133021},\n",
       " {'x': 3.5636454820632935,\n",
       "  'y': -2.2276010513305664,\n",
       "  'angle': -68.55226367289465},\n",
       " {'x': 3.410485029220581,\n",
       "  'y': -1.9660694599151611,\n",
       "  'angle': -106.88679112394404},\n",
       " {'x': 3.192330002784729,\n",
       "  'y': -1.7584999799728394,\n",
       "  'angle': -147.0947570770121},\n",
       " {'x': 2.9020979404449463,\n",
       "  'y': -1.6740959882736206,\n",
       "  'angle': -135.6740368979845},\n",
       " {'x': 2.6153459548950195,\n",
       "  'y': -1.5775030255317688,\n",
       "  'angle': -112.32865637801915},\n",
       " {'x': 2.35785448551178,\n",
       "  'y': -1.4178684949874878,\n",
       "  'angle': -95.71059313749964},\n",
       " {'x': 2.127041459083557,\n",
       "  'y': -1.2212917506694794,\n",
       "  'angle': -87.18444331578877},\n",
       " {'x': 1.9158819317817688,\n",
       "  'y': -1.0037544667720795,\n",
       "  'angle': -84.38241940987318},\n",
       " {'x': 1.7115260362625122,\n",
       "  'y': -0.779676765203476,\n",
       "  'angle': -82.40535663140857},\n",
       " {'x': 1.510398030281067,\n",
       "  'y': -0.5527989640831947,\n",
       "  'angle': -82.40535663140857},\n",
       " {'x': 1.3109925091266632,\n",
       "  'y': -0.3244275604374707,\n",
       "  'angle': -82.40535663140857},\n",
       " {'x': 1.1109170317649841,\n",
       "  'y': -0.09663845598697662,\n",
       "  'angle': -82.40535663140857},\n",
       " {'x': 0.9101405441761017,\n",
       "  'y': 0.13054199516773224,\n",
       "  'angle': -82.40535663140857}]"
      ]
     },
     "execution_count": 18,
     "metadata": {},
     "output_type": "execute_result"
    }
   ],
   "source": [
    "center_track_angles = list(map(lambda w: { 'x': w[0][0], 'y': w[0][1], 'angle': w[1]} ,zip(track.center_line, angles)))\n",
    "center_track_angles"
   ]
  },
  {
   "cell_type": "code",
   "execution_count": 19,
   "metadata": {},
   "outputs": [
    {
     "name": "stdout",
     "output_type": "stream",
     "text": [
      "            x         y      angle\n",
      "0    0.708900  0.357319 -82.405357\n",
      "1    0.507693  0.584124 -82.405357\n",
      "2    0.306382  0.810834 -83.345575\n",
      "3    0.104542  1.037076 -84.382419\n",
      "4   -0.099967  1.260892 -82.405357\n",
      "..        ...       ...        ...\n",
      "106  1.711526 -0.779677 -82.405357\n",
      "107  1.510398 -0.552799 -82.405357\n",
      "108  1.310993 -0.324428 -82.405357\n",
      "109  1.110917 -0.096638 -82.405357\n",
      "110  0.910141  0.130542 -82.405357\n",
      "\n",
      "[111 rows x 3 columns]\n"
     ]
    }
   ],
   "source": [
    "import plotly.express as px\n",
    "\n",
    "\n",
    "df = pd.DataFrame.from_records(center_track_angles)\n",
    "print(df)\n"
   ]
  },
  {
   "cell_type": "code",
   "execution_count": 32,
   "metadata": {},
   "outputs": [
    {
     "data": {
      "text/html": [
       "<div>\n",
       "<style scoped>\n",
       "    .dataframe tbody tr th:only-of-type {\n",
       "        vertical-align: middle;\n",
       "    }\n",
       "\n",
       "    .dataframe tbody tr th {\n",
       "        vertical-align: top;\n",
       "    }\n",
       "\n",
       "    .dataframe thead th {\n",
       "        text-align: right;\n",
       "    }\n",
       "</style>\n",
       "<table border=\"1\" class=\"dataframe\">\n",
       "  <thead>\n",
       "    <tr style=\"text-align: right;\">\n",
       "      <th></th>\n",
       "      <th>x</th>\n",
       "      <th>y</th>\n",
       "    </tr>\n",
       "  </thead>\n",
       "  <tbody>\n",
       "    <tr>\n",
       "      <th>0</th>\n",
       "      <td>1.064206</td>\n",
       "      <td>0.672569</td>\n",
       "    </tr>\n",
       "    <tr>\n",
       "      <th>1</th>\n",
       "      <td>0.862948</td>\n",
       "      <td>0.899432</td>\n",
       "    </tr>\n",
       "    <tr>\n",
       "      <th>2</th>\n",
       "      <td>0.661196</td>\n",
       "      <td>1.126638</td>\n",
       "    </tr>\n",
       "    <tr>\n",
       "      <th>3</th>\n",
       "      <td>0.457101</td>\n",
       "      <td>1.355395</td>\n",
       "    </tr>\n",
       "    <tr>\n",
       "      <th>4</th>\n",
       "      <td>0.252629</td>\n",
       "      <td>1.579170</td>\n",
       "    </tr>\n",
       "    <tr>\n",
       "      <th>...</th>\n",
       "      <td>...</td>\n",
       "      <td>...</td>\n",
       "    </tr>\n",
       "    <tr>\n",
       "      <th>107</th>\n",
       "      <td>1.867020</td>\n",
       "      <td>-0.239039</td>\n",
       "    </tr>\n",
       "    <tr>\n",
       "      <th>108</th>\n",
       "      <td>1.668334</td>\n",
       "      <td>-0.011487</td>\n",
       "    </tr>\n",
       "    <tr>\n",
       "      <th>109</th>\n",
       "      <td>1.467320</td>\n",
       "      <td>0.217371</td>\n",
       "    </tr>\n",
       "    <tr>\n",
       "      <th>110</th>\n",
       "      <td>1.265743</td>\n",
       "      <td>0.445458</td>\n",
       "    </tr>\n",
       "    <tr>\n",
       "      <th>111</th>\n",
       "      <td>1.064206</td>\n",
       "      <td>0.672569</td>\n",
       "    </tr>\n",
       "  </tbody>\n",
       "</table>\n",
       "<p>112 rows × 2 columns</p>\n",
       "</div>"
      ],
      "text/plain": [
       "            x         y\n",
       "0    1.064206  0.672569\n",
       "1    0.862948  0.899432\n",
       "2    0.661196  1.126638\n",
       "3    0.457101  1.355395\n",
       "4    0.252629  1.579170\n",
       "..        ...       ...\n",
       "107  1.867020 -0.239039\n",
       "108  1.668334 -0.011487\n",
       "109  1.467320  0.217371\n",
       "110  1.265743  0.445458\n",
       "111  1.064206  0.672569\n",
       "\n",
       "[112 rows x 2 columns]"
      ]
     },
     "execution_count": 32,
     "metadata": {},
     "output_type": "execute_result"
    }
   ],
   "source": [
    "inner_limits_df = pd.DataFrame.from_records(list(map(lambda w: { 'x': w[0], 'y': w[1]},track.inner_border)))\n",
    "outer_border_df = pd.DataFrame.from_records(list(map(lambda w: { 'x': w[0], 'y': w[1]},track.outer_border)))\n",
    "outer_border_df"
   ]
  },
  {
   "cell_type": "code",
   "execution_count": 41,
   "metadata": {},
   "outputs": [
    {
     "data": {
      "application/vnd.plotly.v1+json": {
       "config": {
        "plotlyServerURL": "https://plot.ly"
       },
       "data": [
        {
         "hovertemplate": "x=%{x}<br>y=%{y}<br>angle=%{marker.color}<extra></extra>",
         "legendgroup": "",
         "marker": {
          "color": [
           -82,
           -82,
           -83,
           -84,
           -82,
           -82,
           -82,
           -82,
           -82,
           -82,
           -82,
           -82,
           -84,
           -91,
           -109,
           -135,
           -161,
           -179,
           146,
           87,
           37,
           12,
           2,
           0,
           -6,
           0,
           null,
           -10,
           -1,
           10,
           17,
           15,
           34,
           57,
           63,
           59,
           49,
           42,
           38,
           34,
           30,
           25,
           18,
           9,
           -4,
           -6,
           -7,
           -5,
           -6,
           -11,
           -15,
           -12,
           -7,
           -4,
           -9,
           -6,
           -5,
           -7,
           -1,
           6,
           7,
           7,
           6,
           12,
           15,
           10,
           6,
           6,
           9,
           7,
           5,
           22,
           32,
           34,
           30,
           3,
           -18,
           -15,
           -8,
           -8,
           -13,
           -1,
           9,
           12,
           12,
           9,
           5,
           -5,
           -13,
           -6,
           -4,
           -14,
           -18,
           -11,
           -19,
           -36,
           -45,
           -52,
           -69,
           -107,
           -147,
           -136,
           -112,
           -96,
           -87,
           -84,
           -82,
           -82,
           -82,
           -82,
           -82
          ],
          "coloraxis": "coloraxis",
          "symbol": "circle"
         },
         "mode": "markers+text",
         "name": "",
         "orientation": "v",
         "showlegend": false,
         "text": [
          -82,
          -82,
          -83,
          -84,
          -82,
          -82,
          -82,
          -82,
          -82,
          -82,
          -82,
          -82,
          -84,
          -91,
          -109,
          -135,
          -161,
          -179,
          146,
          87,
          37,
          12,
          2,
          0,
          -6,
          0,
          null,
          -10,
          -1,
          10,
          17,
          15,
          34,
          57,
          63,
          59,
          49,
          42,
          38,
          34,
          30,
          25,
          18,
          9,
          -4,
          -6,
          -7,
          -5,
          -6,
          -11,
          -15,
          -12,
          -7,
          -4,
          -9,
          -6,
          -5,
          -7,
          -1,
          6,
          7,
          7,
          6,
          12,
          15,
          10,
          6,
          6,
          9,
          7,
          5,
          22,
          32,
          34,
          30,
          3,
          -18,
          -15,
          -8,
          -8,
          -13,
          -1,
          9,
          12,
          12,
          9,
          5,
          -5,
          -13,
          -6,
          -4,
          -14,
          -18,
          -11,
          -19,
          -36,
          -45,
          -52,
          -69,
          -107,
          -147,
          -136,
          -112,
          -96,
          -87,
          -84,
          -82,
          -82,
          -82,
          -82,
          -82
         ],
         "type": "scatter",
         "x": [
          0.7088999003171921,
          0.5076930373907089,
          0.3063818905502558,
          0.10454194992780445,
          -0.09996715188026428,
          -0.30175267718732357,
          -0.503077358007431,
          -0.7042564749717712,
          -0.9053516983985901,
          -1.1063501834869385,
          -1.3072496354579926,
          -1.5080680251121545,
          -1.7090685367584229,
          -1.9106189608573914,
          -2.1209999322891235,
          -2.3569549322128296,
          -2.62819242477417,
          -2.9241185188293457,
          -3.2266565561294556,
          -3.5244959592819214,
          -3.758816957473755,
          -3.873715877532959,
          -3.9173271656036377,
          -3.92767596244812,
          -3.920802593231201,
          -3.903972029685974,
          -3.8185924291610718,
          -3.8185924291610718,
          -3.5905039310455322,
          -3.304600954055786,
          -3.0156389474868774,
          -2.774464964866638,
          -2.6881719827651978,
          -2.758821964263916,
          -2.9001810550689697,
          -3.058645009994507,
          -3.2113959789276123,
          -3.343720555305481,
          -3.4547725915908813,
          -3.5579434633255005,
          -3.6522023677825928,
          -3.735764503479004,
          -3.8061275482177734,
          -3.85984206199646,
          -3.891848087310791,
          -3.894473910331726,
          -3.855846643447876,
          -3.759330630302429,
          -3.591495990753174,
          -3.3754725456237793,
          -3.1190404891967773,
          -2.822121500968933,
          -2.539884567260742,
          -2.316781997680664,
          -2.14520400762558,
          -2.017058491706848,
          -1.9683764576911926,
          -1.9745920300483704,
          -1.9950765371322632,
          -2.0042914748191833,
          -1.9807295203208923,
          -1.9025014638900757,
          -1.7553704977035522,
          -1.5459460020065308,
          -1.2934255003929138,
          -0.9999120831489563,
          -0.7124057114124298,
          -0.47022343426942825,
          -0.27104945853352547,
          -0.12047268450260162,
          -0.04975371062755585,
          -0.05370424687862396,
          -0.10437200963497162,
          -0.1811501830816269,
          -0.2731740474700928,
          -0.3660818636417389,
          -0.40669136866927147,
          -0.32070594653487206,
          -0.0791160985827446,
          0.22013694792985916,
          0.5195947587490082,
          0.7995970845222473,
          1.0140118598937988,
          1.2191407084465027,
          1.4848524928092957,
          1.7853264808654785,
          2.0655285716056824,
          2.3042269945144653,
          2.5047554969787598,
          2.7338016033172643,
          3.0283209085464478,
          3.3312785625457764,
          3.628520965576172,
          3.857689619064331,
          3.9256519079208374,
          3.8883113861083984,
          3.802172064781189,
          3.6904104948043823,
          3.5636454820632935,
          3.410485029220581,
          3.192330002784729,
          2.9020979404449463,
          2.6153459548950195,
          2.35785448551178,
          2.127041459083557,
          1.9158819317817688,
          1.7115260362625122,
          1.510398030281067,
          1.3109925091266632,
          1.1109170317649841,
          0.9101405441761017
         ],
         "xaxis": "x",
         "y": [
          0.3573188427835703,
          0.584124356508255,
          0.8108344227075577,
          1.037076115608218,
          1.2608924508094788,
          1.4871800541877747,
          1.7138790488243103,
          1.9407075643539429,
          2.167609930038452,
          2.3945975303649902,
          2.621672511100769,
          2.8488199710845974,
          3.0758060216903687,
          3.3023040294647217,
          3.520527482032776,
          3.71036159992218,
          3.8442219495773315,
          3.908042550086975,
          3.927023410797119,
          3.875788450241089,
          3.6895145177841187,
          3.4103184938430786,
          3.1104239225387573,
          2.807428002357483,
          2.5043104887008667,
          2.20158052444458,
          1.9130929708480835,
          1.9130929708480835,
          1.7184150218963623,
          1.6183845400810242,
          1.5270600318908691,
          1.349343478679657,
          1.0627945065498352,
          0.7696676254272461,
          0.501609206199646,
          0.24312346291844733,
          -0.018747098743915558,
          -0.29143815487623215,
          -0.5735454112291336,
          -0.8586345314979553,
          -1.1467989683151245,
          -1.4382449984550476,
          -1.7331575155258179,
          -2.0315550565719604,
          -2.3330575227737427,
          -2.636250495910644,
          -2.936893939971924,
          -3.2240179777145386,
          -3.4761509895324707,
          -3.6891149282455444,
          -3.8501704931259155,
          -3.8981685638427734,
          -3.7932724952697754,
          -3.588989496231079,
          -3.339360475540161,
          -3.0650094747543335,
          -2.766396999359131,
          -2.4633378982543945,
          -2.160830020904541,
          -1.8578130006790161,
          -1.5556524991989136,
          -1.2629244923591614,
          -0.99831223487854,
          -0.779325932264328,
          -0.6115724742412567,
          -0.5500769801437855,
          -0.6395276188850403,
          -0.8207091391086578,
          -1.048856794834137,
          -1.3112254738807678,
          -1.6051074862480164,
          -1.9078789949417114,
          -2.2066839933395386,
          -2.4999635219573975,
          -2.7888084650039673,
          -3.077723979949951,
          -3.3779269456863403,
          -3.665432929992676,
          -3.842719554901123,
          -3.8849860429763794,
          -3.8406310081481934,
          -3.7257325649261475,
          -3.5154515504837036,
          -3.29349946975708,
          -3.1510039567947388,
          -3.1376020908355713,
          -3.250208020210266,
          -3.436737537384033,
          -3.663868546485901,
          -3.858665585517884,
          -3.9232853651046753,
          -3.9159170389175415,
          -3.8595250844955444,
          -3.6687514781951904,
          -3.3758625984191895,
          -3.075444459915161,
          -2.7848669290542603,
          -2.5030659437179565,
          -2.2276010513305664,
          -1.9660694599151611,
          -1.7584999799728394,
          -1.6740959882736206,
          -1.5775030255317688,
          -1.4178684949874878,
          -1.2212917506694794,
          -1.0037544667720795,
          -0.779676765203476,
          -0.5527989640831947,
          -0.3244275604374707,
          -0.09663845598697662,
          0.13054199516773224
         ],
         "yaxis": "y"
        },
        {
         "hovertemplate": "x=%{x}<br>y=%{y}<extra></extra>",
         "legendgroup": "",
         "marker": {
          "color": "#636efa",
          "symbol": "circle"
         },
         "mode": "markers",
         "name": "",
         "orientation": "v",
         "showlegend": false,
         "type": "scatter",
         "x": [
          0.3535937964916229,
          0.15243759751319885,
          -0.04843239113688469,
          -0.2480172961950302,
          -0.452563613653183,
          -0.6565948128700256,
          -0.8583424091339111,
          -1.0596810579299927,
          -1.2609009742736816,
          -1.4620349407196045,
          -1.663059949874878,
          -1.863808035850525,
          -2.064300060272217,
          -2.2590949535369873,
          -2.441495895385742,
          -2.612468957901001,
          -2.7845499515533447,
          -2.9892420768737793,
          -3.2010910511016846,
          -3.330374002456665,
          -3.379180908203125,
          -3.415597915649414,
          -3.4442191123962402,
          -3.452683925628662,
          -3.4461660385131836,
          -3.4359519481658936,
          -3.4202349185943604,
          -3.4202349185943604,
          -3.3538479804992676,
          -3.154578924179077,
          -2.800271987915039,
          -2.3862578868865967,
          -2.213357925415039,
          -2.3144209384918213,
          -2.487406015396118,
          -2.6509909629821777,
          -2.7922699451446533,
          -2.9087350368499756,
          -3.0104100704193115,
          -3.108833074569702,
          -3.1980929374694824,
          -3.2763309478759766,
          -3.341186046600342,
          -3.389617919921875,
          -3.4176249504089355,
          -3.420315980911255,
          -3.3929290771484375,
          -3.33282208442688,
          -3.2251288890838623,
          -3.0806779861450195,
          -2.9514729976654053,
          -2.8684959411621094,
          -2.787600040435791,
          -2.675205945968628,
          -2.55751895904541,
          -2.470942974090576,
          -2.442194938659668,
          -2.4491310119628906,
          -2.469506025314331,
          -2.4791579246520996,
          -2.4489240646362305,
          -2.342855930328369,
          -2.1377029418945312,
          -1.8508739471435547,
          -1.4768450260162354,
          -0.9773331880569458,
          -0.49645310640335083,
          -0.14724619686603546,
          0.1157199963927269,
          0.3208923041820526,
          0.4222939908504486,
          0.4193514883518219,
          0.3599928915500641,
          0.27505651116371155,
          0.17921650409698486,
          0.09717798233032227,
          0.06686163693666458,
          0.06749040633440018,
          0.10001949965953827,
          0.21853689849376678,
          0.39371150732040405,
          0.5382812023162854,
          0.6731957197189331,
          0.9284703731536865,
          1.358883023262024,
          1.8651139736175537,
          2.3026680946350098,
          2.629884958267212,
          2.8375089168548584,
          2.9448370933532715,
          3.07377290725708,
          3.281069040298462,
          3.4258320331573486,
          3.453310012817383,
          3.4512979984283447,
          3.423346996307373,
          3.3532469272613525,
          3.253730058670044,
          3.1424410343170166,
          3.0381760597229004,
          2.955580949783325,
          2.759929895401001,
          2.4130499362945557,
          2.077928066253662,
          1.8022680282592773,
          1.5699399709701538,
          1.358314037322998,
          1.1537760496139526,
          0.9536510109901428,
          0.7545140981674194,
          0.5545380711555481,
          0.3535937964916229
         ],
         "xaxis": "x",
         "y": [
          0.042068589478731155,
          0.2688171863555908,
          0.49503079056739807,
          0.7187572717666626,
          0.9426149129867554,
          1.1714080572128296,
          1.3985830545425415,
          1.6255910396575928,
          1.8526339530944824,
          2.079775094985962,
          2.3069920539855957,
          2.534060001373291,
          2.760472059249878,
          2.979520082473755,
          3.1699459552764893,
          3.3099400997161865,
          3.3956940174102783,
          3.437527894973755,
          3.452712059020996,
          3.4422659873962402,
          3.4040300846099854,
          3.284806966781616,
          3.068074941635132,
          2.804703950881958,
          2.522881031036377,
          2.282710075378418,
          2.17181396484375,
          2.17181396484375,
          2.130263090133667,
          2.069071054458618,
          1.9504300355911255,
          1.6230599880218506,
          1.076092004776001,
          0.6019387245178223,
          0.2665730118751526,
          -0.0006862757145427167,
          -0.2422603964805603,
          -0.4822581112384796,
          -0.7413756251335144,
          -1.0133099555969238,
          -1.2861169576644897,
          -1.5588510036468506,
          -1.8303899765014648,
          -2.0987460613250732,
          -2.3602170944213867,
          -2.607975959777832,
          -2.8304409980773926,
          -3.01493501663208,
          -3.173825979232788,
          -3.316662073135376,
          -3.4057090282440186,
          -3.4254379272460938,
          -3.3879799842834473,
          -3.2772889137268066,
          -3.1035189628601074,
          -2.924959897994995,
          -2.7329139709472665,
          -2.4842588901519784,
          -2.184098958969116,
          -1.8465520143508911,
          -1.4755350351333618,
          -1.0848439931869507,
          -0.716449499130249,
          -0.4151228070259094,
          -0.17341500520706177,
          -0.07561401277780533,
          -0.21645629405975342,
          -0.4724122881889343,
          -0.7731136083602905,
          -1.1356639862060547,
          -1.552230954170227,
          -1.9508119821548462,
          -2.3066349029541016,
          -2.6322529315948486,
          -2.9336109161376953,
          -3.182677984237671,
          -3.340878963470459,
          -3.3917019367218018,
          -3.4027929306030273,
          -3.40998911857605,
          -3.382615089416504,
          -3.3290729522705065,
          -3.1845901012420654,
          -2.917819023132324,
          -2.693011999130249,
          -2.669351100921631,
          -2.8386380672454834,
          -3.0909459590911865,
          -3.3248989582061768,
          -3.433120012283325,
          -3.450464963912964,
          -3.443578004837036,
          -3.429940938949585,
          -3.4195480346679688,
          -3.3510921001434326,
          -3.1725690364837646,
          -2.9400808811187744,
          -2.6899759769439697,
          -2.4471731185913086,
          -2.2610459327697754,
          -2.170295000076294,
          -2.1273210048675537,
          -2.0072720050811768,
          -1.8016209602355957,
          -1.5679140090942383,
          -1.3292529582977295,
          -1.0972720384597778,
          -0.8665593266487122,
          -0.637368381023407,
          -0.4106481075286865,
          -0.18437370657920837,
          0.042068589478731155
         ],
         "yaxis": "y"
        },
        {
         "hovertemplate": "x=%{x}<br>y=%{y}<extra></extra>",
         "legendgroup": "",
         "marker": {
          "color": "#636efa",
          "symbol": "circle"
         },
         "mode": "markers",
         "name": "",
         "orientation": "v",
         "showlegend": false,
         "type": "scatter",
         "x": [
          1.0642060041427612,
          0.862948477268219,
          0.6611961722373939,
          0.4571011960506439,
          0.2526293098926544,
          0.053089458495378494,
          -0.14781230688095093,
          -0.3488318920135498,
          -0.5498024225234985,
          -0.7506654262542725,
          -0.9514393210411072,
          -1.1523280143737793,
          -1.353837013244629,
          -1.5621429681777954,
          -1.8005039691925078,
          -2.101440906524658,
          -2.471834897994995,
          -2.858994960784912,
          -3.2522220611572266,
          -3.7186179161071777,
          -4.138453006744385,
          -4.331833839416504,
          -4.390435218811035,
          -4.402667999267578,
          -4.395439147949219,
          -4.371992111206055,
          -4.216949939727783,
          -4.216949939727783,
          -3.827159881591797,
          -3.454622983932495,
          -3.231005907058716,
          -3.1626720428466797,
          -3.1629860401153564,
          -3.2032229900360107,
          -3.3129560947418213,
          -3.466299057006836,
          -3.6305220127105713,
          -3.7787060737609863,
          -3.899135112762451,
          -4.007053852081299,
          -4.106311798095703,
          -4.195198059082031,
          -4.271069049835205,
          -4.330066204071045,
          -4.3660712242126465,
          -4.368631839752197,
          -4.3187642097473145,
          -4.1858391761779785,
          -3.9578630924224854,
          -3.670267105102539,
          -3.2866079807281494,
          -2.775747060775757,
          -2.2921690940856934,
          -1.9583580493927002,
          -1.7328890562057495,
          -1.5631740093231201,
          -1.4945579767227173,
          -1.50005304813385,
          -1.520647048950195,
          -1.529425024986267,
          -1.5125349760055538,
          -1.4621469974517822,
          -1.3730380535125732,
          -1.2410180568695068,
          -1.1100059747695923,
          -1.0224909782409668,
          -0.9283583164215088,
          -0.793200671672821,
          -0.6578189134597769,
          -0.5618376731872559,
          -0.5218014121055603,
          -0.5267599821090698,
          -0.5687369108200073,
          -0.6373568773269653,
          -0.7255645990371704,
          -0.8293417096138,
          -0.8802443742752075,
          -0.7089022994041443,
          -0.25825169682502747,
          0.22173699736595154,
          0.6454780101776123,
          1.0609129667282104,
          1.3548280000686646,
          1.5098110437393188,
          1.6108219623565674,
          1.7055389881134033,
          1.828389048576355,
          1.9785690307617163,
          2.172002077102661,
          2.52276611328125,
          2.9828689098358154,
          3.3814880847930944,
          3.831209897994995,
          4.262069225311279,
          4.40000581741333,
          4.353275775909424,
          4.251097202301025,
          4.127090930938721,
          3.9848499298095703,
          3.7827939987182635,
          3.429079055786133,
          3.0442659854888916,
          2.8176419734954834,
          2.6377809047698975,
          2.451814889907837,
          2.261823892593384,
          2.0647380352020264,
          1.8670200109481812,
          1.6683340072631836,
          1.4673199653625488,
          1.2657430171966553,
          1.0642060041427612
         ],
         "xaxis": "x",
         "y": [
          0.6725690960884094,
          0.8994315266609192,
          1.12663805484772,
          1.355394959449768,
          1.5791699886322021,
          1.8029520511627197,
          2.029175043106079,
          2.255824089050293,
          2.482585906982422,
          2.7094199657440186,
          2.9363529682159424,
          3.1635799407958984,
          3.3911399841308594,
          3.6250879764556885,
          3.8711090087890647,
          4.110783100128174,
          4.292749881744385,
          4.378557205200195,
          4.401334762573242,
          4.3093109130859375,
          3.974998950958252,
          3.535830020904541,
          3.152772903442383,
          2.810152053833008,
          2.4857399463653564,
          2.120450973510742,
          1.654371976852417,
          1.654371976852417,
          1.3065669536590576,
          1.1676980257034302,
          1.1036900281906128,
          1.0756269693374634,
          1.0494970083236694,
          0.9373965263366699,
          0.7366454005241394,
          0.4869332015514374,
          0.2047661989927292,
          -0.10061819851398468,
          -0.4057151973247523,
          -0.7039591073989864,
          -1.0074809789657593,
          -1.317638993263244,
          -1.635925054550171,
          -1.9643640518188477,
          -2.3058979511260986,
          -2.664525032043457,
          -3.043346881866456,
          -3.433100938796997,
          -3.7784759998321533,
          -4.061567783355713,
          -4.2946319580078125,
          -4.370899200439453,
          -4.1985650062561035,
          -3.9006900787353516,
          -3.575201988220215,
          -3.205059051513672,
          -2.799880027770996,
          -2.4424169063568115,
          -2.1375610828399676,
          -1.8690739870071411,
          -1.6357699632644636,
          -1.441004991531372,
          -1.280174970626831,
          -1.1435290575027466,
          -1.0497299432754517,
          -1.0245399475097656,
          -1.0625989437103271,
          -1.1690059900283813,
          -1.324599981307985,
          -1.486786961555481,
          -1.6579840183258057,
          -1.8649460077285767,
          -2.1067330837249756,
          -2.3676741123199463,
          -2.6440060138702393,
          -2.9727699756622314,
          -3.4149749279022217,
          -3.93916392326355,
          -4.282646179199219,
          -4.359982967376709,
          -4.298646926879883,
          -4.122392177581787,
          -3.846312999725342,
          -3.669179916381836,
          -3.6089959144592285,
          -3.6058530807495117,
          -3.661777973175049,
          -3.782529115676878,
          -4.002838134765625,
          -4.284211158752441,
          -4.396105766296387,
          -4.388256072998046,
          -4.289109230041504,
          -3.917954921722412,
          -3.4006330966949463,
          -2.9783198833465576,
          -2.629652976989746,
          -2.3161559104919434,
          -2.008028984069824,
          -1.6710929870605498,
          -1.3467049598693848,
          -1.2208709716796875,
          -1.1477340459823608,
          -1.0341160297393799,
          -0.8746694922447205,
          -0.6782559752464294,
          -0.4620814919471741,
          -0.2390386015176773,
          -0.011486739851534367,
          0.21737119555473328,
          0.44545769691467285,
          0.6725690960884094
         ],
         "yaxis": "y"
        }
       ],
       "layout": {
        "template": {
         "data": {
          "bar": [
           {
            "error_x": {
             "color": "#2a3f5f"
            },
            "error_y": {
             "color": "#2a3f5f"
            },
            "marker": {
             "line": {
              "color": "#E5ECF6",
              "width": 0.5
             },
             "pattern": {
              "fillmode": "overlay",
              "size": 10,
              "solidity": 0.2
             }
            },
            "type": "bar"
           }
          ],
          "barpolar": [
           {
            "marker": {
             "line": {
              "color": "#E5ECF6",
              "width": 0.5
             },
             "pattern": {
              "fillmode": "overlay",
              "size": 10,
              "solidity": 0.2
             }
            },
            "type": "barpolar"
           }
          ],
          "carpet": [
           {
            "aaxis": {
             "endlinecolor": "#2a3f5f",
             "gridcolor": "white",
             "linecolor": "white",
             "minorgridcolor": "white",
             "startlinecolor": "#2a3f5f"
            },
            "baxis": {
             "endlinecolor": "#2a3f5f",
             "gridcolor": "white",
             "linecolor": "white",
             "minorgridcolor": "white",
             "startlinecolor": "#2a3f5f"
            },
            "type": "carpet"
           }
          ],
          "choropleth": [
           {
            "colorbar": {
             "outlinewidth": 0,
             "ticks": ""
            },
            "type": "choropleth"
           }
          ],
          "contour": [
           {
            "colorbar": {
             "outlinewidth": 0,
             "ticks": ""
            },
            "colorscale": [
             [
              0,
              "#0d0887"
             ],
             [
              0.1111111111111111,
              "#46039f"
             ],
             [
              0.2222222222222222,
              "#7201a8"
             ],
             [
              0.3333333333333333,
              "#9c179e"
             ],
             [
              0.4444444444444444,
              "#bd3786"
             ],
             [
              0.5555555555555556,
              "#d8576b"
             ],
             [
              0.6666666666666666,
              "#ed7953"
             ],
             [
              0.7777777777777778,
              "#fb9f3a"
             ],
             [
              0.8888888888888888,
              "#fdca26"
             ],
             [
              1,
              "#f0f921"
             ]
            ],
            "type": "contour"
           }
          ],
          "contourcarpet": [
           {
            "colorbar": {
             "outlinewidth": 0,
             "ticks": ""
            },
            "type": "contourcarpet"
           }
          ],
          "heatmap": [
           {
            "colorbar": {
             "outlinewidth": 0,
             "ticks": ""
            },
            "colorscale": [
             [
              0,
              "#0d0887"
             ],
             [
              0.1111111111111111,
              "#46039f"
             ],
             [
              0.2222222222222222,
              "#7201a8"
             ],
             [
              0.3333333333333333,
              "#9c179e"
             ],
             [
              0.4444444444444444,
              "#bd3786"
             ],
             [
              0.5555555555555556,
              "#d8576b"
             ],
             [
              0.6666666666666666,
              "#ed7953"
             ],
             [
              0.7777777777777778,
              "#fb9f3a"
             ],
             [
              0.8888888888888888,
              "#fdca26"
             ],
             [
              1,
              "#f0f921"
             ]
            ],
            "type": "heatmap"
           }
          ],
          "heatmapgl": [
           {
            "colorbar": {
             "outlinewidth": 0,
             "ticks": ""
            },
            "colorscale": [
             [
              0,
              "#0d0887"
             ],
             [
              0.1111111111111111,
              "#46039f"
             ],
             [
              0.2222222222222222,
              "#7201a8"
             ],
             [
              0.3333333333333333,
              "#9c179e"
             ],
             [
              0.4444444444444444,
              "#bd3786"
             ],
             [
              0.5555555555555556,
              "#d8576b"
             ],
             [
              0.6666666666666666,
              "#ed7953"
             ],
             [
              0.7777777777777778,
              "#fb9f3a"
             ],
             [
              0.8888888888888888,
              "#fdca26"
             ],
             [
              1,
              "#f0f921"
             ]
            ],
            "type": "heatmapgl"
           }
          ],
          "histogram": [
           {
            "marker": {
             "pattern": {
              "fillmode": "overlay",
              "size": 10,
              "solidity": 0.2
             }
            },
            "type": "histogram"
           }
          ],
          "histogram2d": [
           {
            "colorbar": {
             "outlinewidth": 0,
             "ticks": ""
            },
            "colorscale": [
             [
              0,
              "#0d0887"
             ],
             [
              0.1111111111111111,
              "#46039f"
             ],
             [
              0.2222222222222222,
              "#7201a8"
             ],
             [
              0.3333333333333333,
              "#9c179e"
             ],
             [
              0.4444444444444444,
              "#bd3786"
             ],
             [
              0.5555555555555556,
              "#d8576b"
             ],
             [
              0.6666666666666666,
              "#ed7953"
             ],
             [
              0.7777777777777778,
              "#fb9f3a"
             ],
             [
              0.8888888888888888,
              "#fdca26"
             ],
             [
              1,
              "#f0f921"
             ]
            ],
            "type": "histogram2d"
           }
          ],
          "histogram2dcontour": [
           {
            "colorbar": {
             "outlinewidth": 0,
             "ticks": ""
            },
            "colorscale": [
             [
              0,
              "#0d0887"
             ],
             [
              0.1111111111111111,
              "#46039f"
             ],
             [
              0.2222222222222222,
              "#7201a8"
             ],
             [
              0.3333333333333333,
              "#9c179e"
             ],
             [
              0.4444444444444444,
              "#bd3786"
             ],
             [
              0.5555555555555556,
              "#d8576b"
             ],
             [
              0.6666666666666666,
              "#ed7953"
             ],
             [
              0.7777777777777778,
              "#fb9f3a"
             ],
             [
              0.8888888888888888,
              "#fdca26"
             ],
             [
              1,
              "#f0f921"
             ]
            ],
            "type": "histogram2dcontour"
           }
          ],
          "mesh3d": [
           {
            "colorbar": {
             "outlinewidth": 0,
             "ticks": ""
            },
            "type": "mesh3d"
           }
          ],
          "parcoords": [
           {
            "line": {
             "colorbar": {
              "outlinewidth": 0,
              "ticks": ""
             }
            },
            "type": "parcoords"
           }
          ],
          "pie": [
           {
            "automargin": true,
            "type": "pie"
           }
          ],
          "scatter": [
           {
            "fillpattern": {
             "fillmode": "overlay",
             "size": 10,
             "solidity": 0.2
            },
            "type": "scatter"
           }
          ],
          "scatter3d": [
           {
            "line": {
             "colorbar": {
              "outlinewidth": 0,
              "ticks": ""
             }
            },
            "marker": {
             "colorbar": {
              "outlinewidth": 0,
              "ticks": ""
             }
            },
            "type": "scatter3d"
           }
          ],
          "scattercarpet": [
           {
            "marker": {
             "colorbar": {
              "outlinewidth": 0,
              "ticks": ""
             }
            },
            "type": "scattercarpet"
           }
          ],
          "scattergeo": [
           {
            "marker": {
             "colorbar": {
              "outlinewidth": 0,
              "ticks": ""
             }
            },
            "type": "scattergeo"
           }
          ],
          "scattergl": [
           {
            "marker": {
             "colorbar": {
              "outlinewidth": 0,
              "ticks": ""
             }
            },
            "type": "scattergl"
           }
          ],
          "scattermapbox": [
           {
            "marker": {
             "colorbar": {
              "outlinewidth": 0,
              "ticks": ""
             }
            },
            "type": "scattermapbox"
           }
          ],
          "scatterpolar": [
           {
            "marker": {
             "colorbar": {
              "outlinewidth": 0,
              "ticks": ""
             }
            },
            "type": "scatterpolar"
           }
          ],
          "scatterpolargl": [
           {
            "marker": {
             "colorbar": {
              "outlinewidth": 0,
              "ticks": ""
             }
            },
            "type": "scatterpolargl"
           }
          ],
          "scatterternary": [
           {
            "marker": {
             "colorbar": {
              "outlinewidth": 0,
              "ticks": ""
             }
            },
            "type": "scatterternary"
           }
          ],
          "surface": [
           {
            "colorbar": {
             "outlinewidth": 0,
             "ticks": ""
            },
            "colorscale": [
             [
              0,
              "#0d0887"
             ],
             [
              0.1111111111111111,
              "#46039f"
             ],
             [
              0.2222222222222222,
              "#7201a8"
             ],
             [
              0.3333333333333333,
              "#9c179e"
             ],
             [
              0.4444444444444444,
              "#bd3786"
             ],
             [
              0.5555555555555556,
              "#d8576b"
             ],
             [
              0.6666666666666666,
              "#ed7953"
             ],
             [
              0.7777777777777778,
              "#fb9f3a"
             ],
             [
              0.8888888888888888,
              "#fdca26"
             ],
             [
              1,
              "#f0f921"
             ]
            ],
            "type": "surface"
           }
          ],
          "table": [
           {
            "cells": {
             "fill": {
              "color": "#EBF0F8"
             },
             "line": {
              "color": "white"
             }
            },
            "header": {
             "fill": {
              "color": "#C8D4E3"
             },
             "line": {
              "color": "white"
             }
            },
            "type": "table"
           }
          ]
         },
         "layout": {
          "annotationdefaults": {
           "arrowcolor": "#2a3f5f",
           "arrowhead": 0,
           "arrowwidth": 1
          },
          "autotypenumbers": "strict",
          "coloraxis": {
           "colorbar": {
            "outlinewidth": 0,
            "ticks": ""
           }
          },
          "colorscale": {
           "diverging": [
            [
             0,
             "#8e0152"
            ],
            [
             0.1,
             "#c51b7d"
            ],
            [
             0.2,
             "#de77ae"
            ],
            [
             0.3,
             "#f1b6da"
            ],
            [
             0.4,
             "#fde0ef"
            ],
            [
             0.5,
             "#f7f7f7"
            ],
            [
             0.6,
             "#e6f5d0"
            ],
            [
             0.7,
             "#b8e186"
            ],
            [
             0.8,
             "#7fbc41"
            ],
            [
             0.9,
             "#4d9221"
            ],
            [
             1,
             "#276419"
            ]
           ],
           "sequential": [
            [
             0,
             "#0d0887"
            ],
            [
             0.1111111111111111,
             "#46039f"
            ],
            [
             0.2222222222222222,
             "#7201a8"
            ],
            [
             0.3333333333333333,
             "#9c179e"
            ],
            [
             0.4444444444444444,
             "#bd3786"
            ],
            [
             0.5555555555555556,
             "#d8576b"
            ],
            [
             0.6666666666666666,
             "#ed7953"
            ],
            [
             0.7777777777777778,
             "#fb9f3a"
            ],
            [
             0.8888888888888888,
             "#fdca26"
            ],
            [
             1,
             "#f0f921"
            ]
           ],
           "sequentialminus": [
            [
             0,
             "#0d0887"
            ],
            [
             0.1111111111111111,
             "#46039f"
            ],
            [
             0.2222222222222222,
             "#7201a8"
            ],
            [
             0.3333333333333333,
             "#9c179e"
            ],
            [
             0.4444444444444444,
             "#bd3786"
            ],
            [
             0.5555555555555556,
             "#d8576b"
            ],
            [
             0.6666666666666666,
             "#ed7953"
            ],
            [
             0.7777777777777778,
             "#fb9f3a"
            ],
            [
             0.8888888888888888,
             "#fdca26"
            ],
            [
             1,
             "#f0f921"
            ]
           ]
          },
          "colorway": [
           "#636efa",
           "#EF553B",
           "#00cc96",
           "#ab63fa",
           "#FFA15A",
           "#19d3f3",
           "#FF6692",
           "#B6E880",
           "#FF97FF",
           "#FECB52"
          ],
          "font": {
           "color": "#2a3f5f"
          },
          "geo": {
           "bgcolor": "white",
           "lakecolor": "white",
           "landcolor": "#E5ECF6",
           "showlakes": true,
           "showland": true,
           "subunitcolor": "white"
          },
          "hoverlabel": {
           "align": "left"
          },
          "hovermode": "closest",
          "mapbox": {
           "style": "light"
          },
          "paper_bgcolor": "white",
          "plot_bgcolor": "#E5ECF6",
          "polar": {
           "angularaxis": {
            "gridcolor": "white",
            "linecolor": "white",
            "ticks": ""
           },
           "bgcolor": "#E5ECF6",
           "radialaxis": {
            "gridcolor": "white",
            "linecolor": "white",
            "ticks": ""
           }
          },
          "scene": {
           "xaxis": {
            "backgroundcolor": "#E5ECF6",
            "gridcolor": "white",
            "gridwidth": 2,
            "linecolor": "white",
            "showbackground": true,
            "ticks": "",
            "zerolinecolor": "white"
           },
           "yaxis": {
            "backgroundcolor": "#E5ECF6",
            "gridcolor": "white",
            "gridwidth": 2,
            "linecolor": "white",
            "showbackground": true,
            "ticks": "",
            "zerolinecolor": "white"
           },
           "zaxis": {
            "backgroundcolor": "#E5ECF6",
            "gridcolor": "white",
            "gridwidth": 2,
            "linecolor": "white",
            "showbackground": true,
            "ticks": "",
            "zerolinecolor": "white"
           }
          },
          "shapedefaults": {
           "line": {
            "color": "#2a3f5f"
           }
          },
          "ternary": {
           "aaxis": {
            "gridcolor": "white",
            "linecolor": "white",
            "ticks": ""
           },
           "baxis": {
            "gridcolor": "white",
            "linecolor": "white",
            "ticks": ""
           },
           "bgcolor": "#E5ECF6",
           "caxis": {
            "gridcolor": "white",
            "linecolor": "white",
            "ticks": ""
           }
          },
          "title": {
           "x": 0.05
          },
          "xaxis": {
           "automargin": true,
           "gridcolor": "white",
           "linecolor": "white",
           "ticks": "",
           "title": {
            "standoff": 15
           },
           "zerolinecolor": "white",
           "zerolinewidth": 2
          },
          "yaxis": {
           "automargin": true,
           "gridcolor": "white",
           "linecolor": "white",
           "ticks": "",
           "title": {
            "standoff": 15
           },
           "zerolinecolor": "white",
           "zerolinewidth": 2
          }
         }
        }
       }
      }
     },
     "metadata": {},
     "output_type": "display_data"
    }
   ],
   "source": [
    "import plotly.graph_objects as go\n",
    "\n",
    "rounded = df.copy()\n",
    "rounded['angle'] = df['angle'].round()\n",
    "fig1 = px.scatter(rounded, x=\"x\", y=\"y\", color=\"angle\", text=\"angle\",width=1000, height=1000)\n",
    "fig2 = px.scatter(inner_limits_df, x=\"x\", y=\"y\", width=1000, height=1000)\n",
    "fig3 = px.scatter(outer_border_df, x=\"x\", y=\"y\", width=1000, height=1000)\n",
    "all_fig = go.Figure(data=fig1.data + fig2.data + fig3.data)\n",
    "\n",
    "all_fig.show()"
   ]
  },
  {
   "cell_type": "code",
   "execution_count": 39,
   "metadata": {},
   "outputs": [
    {
     "data": {
      "application/vnd.plotly.v1+json": {
       "config": {
        "plotlyServerURL": "https://plot.ly"
       },
       "data": [
        {
         "hovertemplate": "x=%{x}<br>y=%{y}<br>waypoint=%{text}<br>angle=%{marker.color}<extra></extra>",
         "legendgroup": "",
         "marker": {
          "color": [
           -82,
           -82,
           -83,
           -84,
           -82,
           -82,
           -82,
           -82,
           -82,
           -82,
           -82,
           -82,
           -84,
           -91,
           -109,
           -135,
           -161,
           -179,
           146,
           87,
           37,
           12,
           2,
           0,
           -6,
           0,
           null,
           -10,
           -1,
           10,
           17,
           15,
           34,
           57,
           63,
           59,
           49,
           42,
           38,
           34,
           30,
           25,
           18,
           9,
           -4,
           -6,
           -7,
           -5,
           -6,
           -11,
           -15,
           -12,
           -7,
           -4,
           -9,
           -6,
           -5,
           -7,
           -1,
           6,
           7,
           7,
           6,
           12,
           15,
           10,
           6,
           6,
           9,
           7,
           5,
           22,
           32,
           34,
           30,
           3,
           -18,
           -15,
           -8,
           -8,
           -13,
           -1,
           9,
           12,
           12,
           9,
           5,
           -5,
           -13,
           -6,
           -4,
           -14,
           -18,
           -11,
           -19,
           -36,
           -45,
           -52,
           -69,
           -107,
           -147,
           -136,
           -112,
           -96,
           -87,
           -84,
           -82,
           -82,
           -82,
           -82,
           -82
          ],
          "coloraxis": "coloraxis",
          "symbol": "circle"
         },
         "mode": "markers+text",
         "name": "",
         "orientation": "v",
         "showlegend": false,
         "text": [
          "0",
          "1",
          "2",
          "3",
          "4",
          "5",
          "6",
          "7",
          "8",
          "9",
          "10",
          "11",
          "12",
          "13",
          "14",
          "15",
          "16",
          "17",
          "18",
          "19",
          "20",
          "21",
          "22",
          "23",
          "24",
          "25",
          "26",
          "27",
          "28",
          "29",
          "30",
          "31",
          "32",
          "33",
          "34",
          "35",
          "36",
          "37",
          "38",
          "39",
          "40",
          "41",
          "42",
          "43",
          "44",
          "45",
          "46",
          "47",
          "48",
          "49",
          "50",
          "51",
          "52",
          "53",
          "54",
          "55",
          "56",
          "57",
          "58",
          "59",
          "60",
          "61",
          "62",
          "63",
          "64",
          "65",
          "66",
          "67",
          "68",
          "69",
          "70",
          "71",
          "72",
          "73",
          "74",
          "75",
          "76",
          "77",
          "78",
          "79",
          "80",
          "81",
          "82",
          "83",
          "84",
          "85",
          "86",
          "87",
          "88",
          "89",
          "90",
          "91",
          "92",
          "93",
          "94",
          "95",
          "96",
          "97",
          "98",
          "99",
          "100",
          "101",
          "102",
          "103",
          "104",
          "105",
          "106",
          "107",
          "108",
          "109",
          "110"
         ],
         "type": "scatter",
         "x": [
          0.7088999003171921,
          0.5076930373907089,
          0.3063818905502558,
          0.10454194992780445,
          -0.09996715188026428,
          -0.30175267718732357,
          -0.503077358007431,
          -0.7042564749717712,
          -0.9053516983985901,
          -1.1063501834869385,
          -1.3072496354579926,
          -1.5080680251121545,
          -1.7090685367584229,
          -1.9106189608573914,
          -2.1209999322891235,
          -2.3569549322128296,
          -2.62819242477417,
          -2.9241185188293457,
          -3.2266565561294556,
          -3.5244959592819214,
          -3.758816957473755,
          -3.873715877532959,
          -3.9173271656036377,
          -3.92767596244812,
          -3.920802593231201,
          -3.903972029685974,
          -3.8185924291610718,
          -3.8185924291610718,
          -3.5905039310455322,
          -3.304600954055786,
          -3.0156389474868774,
          -2.774464964866638,
          -2.6881719827651978,
          -2.758821964263916,
          -2.9001810550689697,
          -3.058645009994507,
          -3.2113959789276123,
          -3.343720555305481,
          -3.4547725915908813,
          -3.5579434633255005,
          -3.6522023677825928,
          -3.735764503479004,
          -3.8061275482177734,
          -3.85984206199646,
          -3.891848087310791,
          -3.894473910331726,
          -3.855846643447876,
          -3.759330630302429,
          -3.591495990753174,
          -3.3754725456237793,
          -3.1190404891967773,
          -2.822121500968933,
          -2.539884567260742,
          -2.316781997680664,
          -2.14520400762558,
          -2.017058491706848,
          -1.9683764576911926,
          -1.9745920300483704,
          -1.9950765371322632,
          -2.0042914748191833,
          -1.9807295203208923,
          -1.9025014638900757,
          -1.7553704977035522,
          -1.5459460020065308,
          -1.2934255003929138,
          -0.9999120831489563,
          -0.7124057114124298,
          -0.47022343426942825,
          -0.27104945853352547,
          -0.12047268450260162,
          -0.04975371062755585,
          -0.05370424687862396,
          -0.10437200963497162,
          -0.1811501830816269,
          -0.2731740474700928,
          -0.3660818636417389,
          -0.40669136866927147,
          -0.32070594653487206,
          -0.0791160985827446,
          0.22013694792985916,
          0.5195947587490082,
          0.7995970845222473,
          1.0140118598937988,
          1.2191407084465027,
          1.4848524928092957,
          1.7853264808654785,
          2.0655285716056824,
          2.3042269945144653,
          2.5047554969787598,
          2.7338016033172643,
          3.0283209085464478,
          3.3312785625457764,
          3.628520965576172,
          3.857689619064331,
          3.9256519079208374,
          3.8883113861083984,
          3.802172064781189,
          3.6904104948043823,
          3.5636454820632935,
          3.410485029220581,
          3.192330002784729,
          2.9020979404449463,
          2.6153459548950195,
          2.35785448551178,
          2.127041459083557,
          1.9158819317817688,
          1.7115260362625122,
          1.510398030281067,
          1.3109925091266632,
          1.1109170317649841,
          0.9101405441761017
         ],
         "xaxis": "x",
         "y": [
          0.3573188427835703,
          0.584124356508255,
          0.8108344227075577,
          1.037076115608218,
          1.2608924508094788,
          1.4871800541877747,
          1.7138790488243103,
          1.9407075643539429,
          2.167609930038452,
          2.3945975303649902,
          2.621672511100769,
          2.8488199710845974,
          3.0758060216903687,
          3.3023040294647217,
          3.520527482032776,
          3.71036159992218,
          3.8442219495773315,
          3.908042550086975,
          3.927023410797119,
          3.875788450241089,
          3.6895145177841187,
          3.4103184938430786,
          3.1104239225387573,
          2.807428002357483,
          2.5043104887008667,
          2.20158052444458,
          1.9130929708480835,
          1.9130929708480835,
          1.7184150218963623,
          1.6183845400810242,
          1.5270600318908691,
          1.349343478679657,
          1.0627945065498352,
          0.7696676254272461,
          0.501609206199646,
          0.24312346291844733,
          -0.018747098743915558,
          -0.29143815487623215,
          -0.5735454112291336,
          -0.8586345314979553,
          -1.1467989683151245,
          -1.4382449984550476,
          -1.7331575155258179,
          -2.0315550565719604,
          -2.3330575227737427,
          -2.636250495910644,
          -2.936893939971924,
          -3.2240179777145386,
          -3.4761509895324707,
          -3.6891149282455444,
          -3.8501704931259155,
          -3.8981685638427734,
          -3.7932724952697754,
          -3.588989496231079,
          -3.339360475540161,
          -3.0650094747543335,
          -2.766396999359131,
          -2.4633378982543945,
          -2.160830020904541,
          -1.8578130006790161,
          -1.5556524991989136,
          -1.2629244923591614,
          -0.99831223487854,
          -0.779325932264328,
          -0.6115724742412567,
          -0.5500769801437855,
          -0.6395276188850403,
          -0.8207091391086578,
          -1.048856794834137,
          -1.3112254738807678,
          -1.6051074862480164,
          -1.9078789949417114,
          -2.2066839933395386,
          -2.4999635219573975,
          -2.7888084650039673,
          -3.077723979949951,
          -3.3779269456863403,
          -3.665432929992676,
          -3.842719554901123,
          -3.8849860429763794,
          -3.8406310081481934,
          -3.7257325649261475,
          -3.5154515504837036,
          -3.29349946975708,
          -3.1510039567947388,
          -3.1376020908355713,
          -3.250208020210266,
          -3.436737537384033,
          -3.663868546485901,
          -3.858665585517884,
          -3.9232853651046753,
          -3.9159170389175415,
          -3.8595250844955444,
          -3.6687514781951904,
          -3.3758625984191895,
          -3.075444459915161,
          -2.7848669290542603,
          -2.5030659437179565,
          -2.2276010513305664,
          -1.9660694599151611,
          -1.7584999799728394,
          -1.6740959882736206,
          -1.5775030255317688,
          -1.4178684949874878,
          -1.2212917506694794,
          -1.0037544667720795,
          -0.779676765203476,
          -0.5527989640831947,
          -0.3244275604374707,
          -0.09663845598697662,
          0.13054199516773224
         ],
         "yaxis": "y"
        }
       ],
       "layout": {
        "coloraxis": {
         "colorbar": {
          "title": {
           "text": "angle"
          }
         },
         "colorscale": [
          [
           0,
           "#0d0887"
          ],
          [
           0.1111111111111111,
           "#46039f"
          ],
          [
           0.2222222222222222,
           "#7201a8"
          ],
          [
           0.3333333333333333,
           "#9c179e"
          ],
          [
           0.4444444444444444,
           "#bd3786"
          ],
          [
           0.5555555555555556,
           "#d8576b"
          ],
          [
           0.6666666666666666,
           "#ed7953"
          ],
          [
           0.7777777777777778,
           "#fb9f3a"
          ],
          [
           0.8888888888888888,
           "#fdca26"
          ],
          [
           1,
           "#f0f921"
          ]
         ]
        },
        "height": 1000,
        "legend": {
         "tracegroupgap": 0
        },
        "margin": {
         "t": 60
        },
        "template": {
         "data": {
          "bar": [
           {
            "error_x": {
             "color": "#2a3f5f"
            },
            "error_y": {
             "color": "#2a3f5f"
            },
            "marker": {
             "line": {
              "color": "#E5ECF6",
              "width": 0.5
             },
             "pattern": {
              "fillmode": "overlay",
              "size": 10,
              "solidity": 0.2
             }
            },
            "type": "bar"
           }
          ],
          "barpolar": [
           {
            "marker": {
             "line": {
              "color": "#E5ECF6",
              "width": 0.5
             },
             "pattern": {
              "fillmode": "overlay",
              "size": 10,
              "solidity": 0.2
             }
            },
            "type": "barpolar"
           }
          ],
          "carpet": [
           {
            "aaxis": {
             "endlinecolor": "#2a3f5f",
             "gridcolor": "white",
             "linecolor": "white",
             "minorgridcolor": "white",
             "startlinecolor": "#2a3f5f"
            },
            "baxis": {
             "endlinecolor": "#2a3f5f",
             "gridcolor": "white",
             "linecolor": "white",
             "minorgridcolor": "white",
             "startlinecolor": "#2a3f5f"
            },
            "type": "carpet"
           }
          ],
          "choropleth": [
           {
            "colorbar": {
             "outlinewidth": 0,
             "ticks": ""
            },
            "type": "choropleth"
           }
          ],
          "contour": [
           {
            "colorbar": {
             "outlinewidth": 0,
             "ticks": ""
            },
            "colorscale": [
             [
              0,
              "#0d0887"
             ],
             [
              0.1111111111111111,
              "#46039f"
             ],
             [
              0.2222222222222222,
              "#7201a8"
             ],
             [
              0.3333333333333333,
              "#9c179e"
             ],
             [
              0.4444444444444444,
              "#bd3786"
             ],
             [
              0.5555555555555556,
              "#d8576b"
             ],
             [
              0.6666666666666666,
              "#ed7953"
             ],
             [
              0.7777777777777778,
              "#fb9f3a"
             ],
             [
              0.8888888888888888,
              "#fdca26"
             ],
             [
              1,
              "#f0f921"
             ]
            ],
            "type": "contour"
           }
          ],
          "contourcarpet": [
           {
            "colorbar": {
             "outlinewidth": 0,
             "ticks": ""
            },
            "type": "contourcarpet"
           }
          ],
          "heatmap": [
           {
            "colorbar": {
             "outlinewidth": 0,
             "ticks": ""
            },
            "colorscale": [
             [
              0,
              "#0d0887"
             ],
             [
              0.1111111111111111,
              "#46039f"
             ],
             [
              0.2222222222222222,
              "#7201a8"
             ],
             [
              0.3333333333333333,
              "#9c179e"
             ],
             [
              0.4444444444444444,
              "#bd3786"
             ],
             [
              0.5555555555555556,
              "#d8576b"
             ],
             [
              0.6666666666666666,
              "#ed7953"
             ],
             [
              0.7777777777777778,
              "#fb9f3a"
             ],
             [
              0.8888888888888888,
              "#fdca26"
             ],
             [
              1,
              "#f0f921"
             ]
            ],
            "type": "heatmap"
           }
          ],
          "heatmapgl": [
           {
            "colorbar": {
             "outlinewidth": 0,
             "ticks": ""
            },
            "colorscale": [
             [
              0,
              "#0d0887"
             ],
             [
              0.1111111111111111,
              "#46039f"
             ],
             [
              0.2222222222222222,
              "#7201a8"
             ],
             [
              0.3333333333333333,
              "#9c179e"
             ],
             [
              0.4444444444444444,
              "#bd3786"
             ],
             [
              0.5555555555555556,
              "#d8576b"
             ],
             [
              0.6666666666666666,
              "#ed7953"
             ],
             [
              0.7777777777777778,
              "#fb9f3a"
             ],
             [
              0.8888888888888888,
              "#fdca26"
             ],
             [
              1,
              "#f0f921"
             ]
            ],
            "type": "heatmapgl"
           }
          ],
          "histogram": [
           {
            "marker": {
             "pattern": {
              "fillmode": "overlay",
              "size": 10,
              "solidity": 0.2
             }
            },
            "type": "histogram"
           }
          ],
          "histogram2d": [
           {
            "colorbar": {
             "outlinewidth": 0,
             "ticks": ""
            },
            "colorscale": [
             [
              0,
              "#0d0887"
             ],
             [
              0.1111111111111111,
              "#46039f"
             ],
             [
              0.2222222222222222,
              "#7201a8"
             ],
             [
              0.3333333333333333,
              "#9c179e"
             ],
             [
              0.4444444444444444,
              "#bd3786"
             ],
             [
              0.5555555555555556,
              "#d8576b"
             ],
             [
              0.6666666666666666,
              "#ed7953"
             ],
             [
              0.7777777777777778,
              "#fb9f3a"
             ],
             [
              0.8888888888888888,
              "#fdca26"
             ],
             [
              1,
              "#f0f921"
             ]
            ],
            "type": "histogram2d"
           }
          ],
          "histogram2dcontour": [
           {
            "colorbar": {
             "outlinewidth": 0,
             "ticks": ""
            },
            "colorscale": [
             [
              0,
              "#0d0887"
             ],
             [
              0.1111111111111111,
              "#46039f"
             ],
             [
              0.2222222222222222,
              "#7201a8"
             ],
             [
              0.3333333333333333,
              "#9c179e"
             ],
             [
              0.4444444444444444,
              "#bd3786"
             ],
             [
              0.5555555555555556,
              "#d8576b"
             ],
             [
              0.6666666666666666,
              "#ed7953"
             ],
             [
              0.7777777777777778,
              "#fb9f3a"
             ],
             [
              0.8888888888888888,
              "#fdca26"
             ],
             [
              1,
              "#f0f921"
             ]
            ],
            "type": "histogram2dcontour"
           }
          ],
          "mesh3d": [
           {
            "colorbar": {
             "outlinewidth": 0,
             "ticks": ""
            },
            "type": "mesh3d"
           }
          ],
          "parcoords": [
           {
            "line": {
             "colorbar": {
              "outlinewidth": 0,
              "ticks": ""
             }
            },
            "type": "parcoords"
           }
          ],
          "pie": [
           {
            "automargin": true,
            "type": "pie"
           }
          ],
          "scatter": [
           {
            "fillpattern": {
             "fillmode": "overlay",
             "size": 10,
             "solidity": 0.2
            },
            "type": "scatter"
           }
          ],
          "scatter3d": [
           {
            "line": {
             "colorbar": {
              "outlinewidth": 0,
              "ticks": ""
             }
            },
            "marker": {
             "colorbar": {
              "outlinewidth": 0,
              "ticks": ""
             }
            },
            "type": "scatter3d"
           }
          ],
          "scattercarpet": [
           {
            "marker": {
             "colorbar": {
              "outlinewidth": 0,
              "ticks": ""
             }
            },
            "type": "scattercarpet"
           }
          ],
          "scattergeo": [
           {
            "marker": {
             "colorbar": {
              "outlinewidth": 0,
              "ticks": ""
             }
            },
            "type": "scattergeo"
           }
          ],
          "scattergl": [
           {
            "marker": {
             "colorbar": {
              "outlinewidth": 0,
              "ticks": ""
             }
            },
            "type": "scattergl"
           }
          ],
          "scattermapbox": [
           {
            "marker": {
             "colorbar": {
              "outlinewidth": 0,
              "ticks": ""
             }
            },
            "type": "scattermapbox"
           }
          ],
          "scatterpolar": [
           {
            "marker": {
             "colorbar": {
              "outlinewidth": 0,
              "ticks": ""
             }
            },
            "type": "scatterpolar"
           }
          ],
          "scatterpolargl": [
           {
            "marker": {
             "colorbar": {
              "outlinewidth": 0,
              "ticks": ""
             }
            },
            "type": "scatterpolargl"
           }
          ],
          "scatterternary": [
           {
            "marker": {
             "colorbar": {
              "outlinewidth": 0,
              "ticks": ""
             }
            },
            "type": "scatterternary"
           }
          ],
          "surface": [
           {
            "colorbar": {
             "outlinewidth": 0,
             "ticks": ""
            },
            "colorscale": [
             [
              0,
              "#0d0887"
             ],
             [
              0.1111111111111111,
              "#46039f"
             ],
             [
              0.2222222222222222,
              "#7201a8"
             ],
             [
              0.3333333333333333,
              "#9c179e"
             ],
             [
              0.4444444444444444,
              "#bd3786"
             ],
             [
              0.5555555555555556,
              "#d8576b"
             ],
             [
              0.6666666666666666,
              "#ed7953"
             ],
             [
              0.7777777777777778,
              "#fb9f3a"
             ],
             [
              0.8888888888888888,
              "#fdca26"
             ],
             [
              1,
              "#f0f921"
             ]
            ],
            "type": "surface"
           }
          ],
          "table": [
           {
            "cells": {
             "fill": {
              "color": "#EBF0F8"
             },
             "line": {
              "color": "white"
             }
            },
            "header": {
             "fill": {
              "color": "#C8D4E3"
             },
             "line": {
              "color": "white"
             }
            },
            "type": "table"
           }
          ]
         },
         "layout": {
          "annotationdefaults": {
           "arrowcolor": "#2a3f5f",
           "arrowhead": 0,
           "arrowwidth": 1
          },
          "autotypenumbers": "strict",
          "coloraxis": {
           "colorbar": {
            "outlinewidth": 0,
            "ticks": ""
           }
          },
          "colorscale": {
           "diverging": [
            [
             0,
             "#8e0152"
            ],
            [
             0.1,
             "#c51b7d"
            ],
            [
             0.2,
             "#de77ae"
            ],
            [
             0.3,
             "#f1b6da"
            ],
            [
             0.4,
             "#fde0ef"
            ],
            [
             0.5,
             "#f7f7f7"
            ],
            [
             0.6,
             "#e6f5d0"
            ],
            [
             0.7,
             "#b8e186"
            ],
            [
             0.8,
             "#7fbc41"
            ],
            [
             0.9,
             "#4d9221"
            ],
            [
             1,
             "#276419"
            ]
           ],
           "sequential": [
            [
             0,
             "#0d0887"
            ],
            [
             0.1111111111111111,
             "#46039f"
            ],
            [
             0.2222222222222222,
             "#7201a8"
            ],
            [
             0.3333333333333333,
             "#9c179e"
            ],
            [
             0.4444444444444444,
             "#bd3786"
            ],
            [
             0.5555555555555556,
             "#d8576b"
            ],
            [
             0.6666666666666666,
             "#ed7953"
            ],
            [
             0.7777777777777778,
             "#fb9f3a"
            ],
            [
             0.8888888888888888,
             "#fdca26"
            ],
            [
             1,
             "#f0f921"
            ]
           ],
           "sequentialminus": [
            [
             0,
             "#0d0887"
            ],
            [
             0.1111111111111111,
             "#46039f"
            ],
            [
             0.2222222222222222,
             "#7201a8"
            ],
            [
             0.3333333333333333,
             "#9c179e"
            ],
            [
             0.4444444444444444,
             "#bd3786"
            ],
            [
             0.5555555555555556,
             "#d8576b"
            ],
            [
             0.6666666666666666,
             "#ed7953"
            ],
            [
             0.7777777777777778,
             "#fb9f3a"
            ],
            [
             0.8888888888888888,
             "#fdca26"
            ],
            [
             1,
             "#f0f921"
            ]
           ]
          },
          "colorway": [
           "#636efa",
           "#EF553B",
           "#00cc96",
           "#ab63fa",
           "#FFA15A",
           "#19d3f3",
           "#FF6692",
           "#B6E880",
           "#FF97FF",
           "#FECB52"
          ],
          "font": {
           "color": "#2a3f5f"
          },
          "geo": {
           "bgcolor": "white",
           "lakecolor": "white",
           "landcolor": "#E5ECF6",
           "showlakes": true,
           "showland": true,
           "subunitcolor": "white"
          },
          "hoverlabel": {
           "align": "left"
          },
          "hovermode": "closest",
          "mapbox": {
           "style": "light"
          },
          "paper_bgcolor": "white",
          "plot_bgcolor": "#E5ECF6",
          "polar": {
           "angularaxis": {
            "gridcolor": "white",
            "linecolor": "white",
            "ticks": ""
           },
           "bgcolor": "#E5ECF6",
           "radialaxis": {
            "gridcolor": "white",
            "linecolor": "white",
            "ticks": ""
           }
          },
          "scene": {
           "xaxis": {
            "backgroundcolor": "#E5ECF6",
            "gridcolor": "white",
            "gridwidth": 2,
            "linecolor": "white",
            "showbackground": true,
            "ticks": "",
            "zerolinecolor": "white"
           },
           "yaxis": {
            "backgroundcolor": "#E5ECF6",
            "gridcolor": "white",
            "gridwidth": 2,
            "linecolor": "white",
            "showbackground": true,
            "ticks": "",
            "zerolinecolor": "white"
           },
           "zaxis": {
            "backgroundcolor": "#E5ECF6",
            "gridcolor": "white",
            "gridwidth": 2,
            "linecolor": "white",
            "showbackground": true,
            "ticks": "",
            "zerolinecolor": "white"
           }
          },
          "shapedefaults": {
           "line": {
            "color": "#2a3f5f"
           }
          },
          "ternary": {
           "aaxis": {
            "gridcolor": "white",
            "linecolor": "white",
            "ticks": ""
           },
           "baxis": {
            "gridcolor": "white",
            "linecolor": "white",
            "ticks": ""
           },
           "bgcolor": "#E5ECF6",
           "caxis": {
            "gridcolor": "white",
            "linecolor": "white",
            "ticks": ""
           }
          },
          "title": {
           "x": 0.05
          },
          "xaxis": {
           "automargin": true,
           "gridcolor": "white",
           "linecolor": "white",
           "ticks": "",
           "title": {
            "standoff": 15
           },
           "zerolinecolor": "white",
           "zerolinewidth": 2
          },
          "yaxis": {
           "automargin": true,
           "gridcolor": "white",
           "linecolor": "white",
           "ticks": "",
           "title": {
            "standoff": 15
           },
           "zerolinecolor": "white",
           "zerolinewidth": 2
          }
         }
        },
        "width": 1000,
        "xaxis": {
         "anchor": "y",
         "domain": [
          0,
          1
         ],
         "title": {
          "text": "x"
         }
        },
        "yaxis": {
         "anchor": "x",
         "domain": [
          0,
          1
         ],
         "title": {
          "text": "y"
         }
        }
       }
      }
     },
     "metadata": {},
     "output_type": "display_data"
    }
   ],
   "source": [
    "rounded = df.copy()\n",
    "rounded['angle'] = df['angle'].round()\n",
    "rounded['x_str'] = df['x'].round().astype(str)\n",
    "rounded['y_str'] = df['y'].round().astype(str)\n",
    "rounded['waypoint'] = [str(x) + ' , ' + y for x, y in zip(rounded['x_str'], rounded['y_str'])]\n",
    "rounded['waypoint'] = df.index.astype(str)\n",
    "fig1 = px.scatter(rounded, x=\"x\", y=\"y\", color=\"angle\", text=\"waypoint\",width=1000, height=1000)\n",
    "fig2 = px.scatter(inner_limits_df, x=\"x\", y=\"y\", width=1000, height=1000)\n",
    "fig3 = px.scatter(outer_border_df, x=\"x\", y=\"y\", width=1000, height=1000)\n",
    "all_fig = go.Figure(data=fig1.data + fig2.data + fig3.data)\n",
    "\n",
    "\n",
    "\n"
   ]
  },
  {
   "cell_type": "code",
   "execution_count": 22,
   "metadata": {},
   "outputs": [],
   "source": [
    "# CORNER_THRESHOLD_ANGLE = 0.5\n",
    "\n",
    "# corners = []\n",
    "# current_corner = {'id': 0}\n",
    "\n",
    "# for i, _ in enumerate(track.center_line):\n",
    "\n",
    "#     is_last_index = i == len(track.center_line) -1\n",
    "\n",
    "#     second_point = track.center_line[0] if is_last_index else track.center_line[i+1]\n",
    "\n",
    "#     angles.append(get_angle_deg(track.center_line[i], second_point))\n",
    "\n",
    "# print(\n",
    "#     f'The individual angles stats are, max: {max(angles)}, min: {min(angles)}, mean: {sum(angles) / len(angles)}')\n"
   ]
  }
 ],
 "metadata": {
  "kernelspec": {
   "display_name": "Python 3.8.10 64-bit",
   "language": "python",
   "name": "python3"
  },
  "language_info": {
   "codemirror_mode": {
    "name": "ipython",
    "version": 3
   },
   "file_extension": ".py",
   "mimetype": "text/x-python",
   "name": "python",
   "nbconvert_exporter": "python",
   "pygments_lexer": "ipython3",
   "version": "3.8.10"
  },
  "orig_nbformat": 4,
  "vscode": {
   "interpreter": {
    "hash": "31f2aee4e71d21fbe5cf8b01ff0e069b9275f58929596ceb00d14d90e3e16cd6"
   }
  }
 },
 "nbformat": 4,
 "nbformat_minor": 2
}
